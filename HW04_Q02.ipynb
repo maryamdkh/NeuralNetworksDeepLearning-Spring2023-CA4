{
  "nbformat": 4,
  "nbformat_minor": 0,
  "metadata": {
    "colab": {
      "provenance": [],
      "gpuType": "T4"
    },
    "kernelspec": {
      "name": "python3",
      "display_name": "Python 3"
    },
    "language_info": {
      "name": "python"
    },
    "gpuClass": "standard",
    "accelerator": "GPU"
  },
  "cells": [
    {
      "cell_type": "code",
      "execution_count": 3,
      "metadata": {
        "id": "XMIIicOWaZIc"
      },
      "outputs": [],
      "source": [
        "import pandas as pd\n",
        "from  google.colab import drive\n",
        "import numpy as np\n",
        "import matplotlib.pyplot as plt\n",
        "\n",
        "from keras.preprocessing.text import Tokenizer\n",
        "from keras.utils import pad_sequences\n",
        "from keras.models import Sequential\n",
        "from keras.preprocessing.text import Tokenizer\n",
        "\n",
        "from keras.layers import Dense, LSTM, BatchNormalization, Dropout, Input,Flatten,Embedding,Activation\n",
        "from keras.layers import Bidirectional, Concatenate\n",
        "from keras.initializers import Constant\n",
        "from keras.models import Model\n",
        "from keras.optimizers import Adam\n",
        "from keras.losses import CategoricalCrossentropy as CC\n",
        "from keras.activations import relu, softmax\n",
        "from keras.initializers import he_uniform, glorot_uniform\n",
        "from keras.metrics import AUC\n",
        "from keras import Model\n",
        "from keras.regularizers import l2\n",
        "from keras import optimizers\n",
        "\n",
        "import tensorflow as tf\n",
        "\n",
        "from sklearn.model_selection import train_test_split\n",
        "from sklearn.metrics import classification_report,ConfusionMatrixDisplay,confusion_matrix\n",
        "\n",
        "import nltk\n",
        "from nltk.corpus import stopwords\n",
        "from string import punctuation\n",
        "from nltk.stem import PorterStemmer\n"
      ]
    },
    {
      "cell_type": "code",
      "source": [
        " nltk.download('punkt')\n",
        " nltk.download('stopwords')"
      ],
      "metadata": {
        "id": "NXZOQbHUwG1R",
        "colab": {
          "base_uri": "https://localhost:8080/"
        },
        "outputId": "f6e23b29-c4d0-4241-8002-78bdf17bd04c"
      },
      "execution_count": 4,
      "outputs": [
        {
          "output_type": "stream",
          "name": "stderr",
          "text": [
            "[nltk_data] Downloading package punkt to /root/nltk_data...\n",
            "[nltk_data]   Unzipping tokenizers/punkt.zip.\n",
            "[nltk_data] Downloading package stopwords to /root/nltk_data...\n",
            "[nltk_data]   Unzipping corpora/stopwords.zip.\n"
          ]
        },
        {
          "output_type": "execute_result",
          "data": {
            "text/plain": [
              "True"
            ]
          },
          "metadata": {},
          "execution_count": 4
        }
      ]
    },
    {
      "cell_type": "code",
      "source": [
        "drive.mount('/content/drive')"
      ],
      "metadata": {
        "id": "VKguhaIRgDP-",
        "colab": {
          "base_uri": "https://localhost:8080/"
        },
        "outputId": "0c2a0ac0-6bb4-4d2e-bb78-bd80206712d4"
      },
      "execution_count": 5,
      "outputs": [
        {
          "output_type": "stream",
          "name": "stdout",
          "text": [
            "Mounted at /content/drive\n"
          ]
        }
      ]
    },
    {
      "cell_type": "code",
      "source": [
        "df_train = pd.read_csv('/content/drive/MyDrive/NeuralNetwork2023/Hw04/train.csv')\n",
        "df_test = pd.read_csv('/content/drive/MyDrive/NeuralNetwork2023/Hw04/test.csv')"
      ],
      "metadata": {
        "id": "zlUoFNuYeY0v"
      },
      "execution_count": 6,
      "outputs": []
    },
    {
      "cell_type": "code",
      "source": [
        "df_train.groupby(\"label-fine\").count()"
      ],
      "metadata": {
        "id": "qVXpJJkfuAD6",
        "colab": {
          "base_uri": "https://localhost:8080/",
          "height": 1000
        },
        "outputId": "a1f4cb32-b978-435d-9686-74d26d3b2ac2"
      },
      "execution_count": 7,
      "outputs": [
        {
          "output_type": "execute_result",
          "data": {
            "text/plain": [
              "            label-coarse  text\n",
              "label-fine                    \n",
              "0                    276   276\n",
              "1                    207   207\n",
              "2                    112   112\n",
              "3                     70    70\n",
              "4                    962   962\n",
              "5                    189   189\n",
              "6                     25    25\n",
              "7                    421   421\n",
              "8                    218   218\n",
              "9                    191   191\n",
              "10                    56    56\n",
              "11                    66    66\n",
              "12                   321   321\n",
              "13                   363   363\n",
              "14                   733   733\n",
              "15                     9     9\n",
              "16                     4     4\n",
              "17                   103   103\n",
              "18                   155   155\n",
              "19                    40    40\n",
              "20                    93    93\n",
              "21                   129   129\n",
              "22                    16    16\n",
              "23                   103   103\n",
              "24                    21    21\n",
              "25                    71    71\n",
              "26                    42    42\n",
              "27                    75    75\n",
              "28                    41    41\n",
              "29                    62    62\n",
              "30                    13    13\n",
              "31                    38    38\n",
              "32                    13    13\n",
              "33                    10    10\n",
              "34                    16    16\n",
              "35                     9     9\n",
              "36                    26    26\n",
              "37                    16    16\n",
              "38                    27    27\n",
              "39                     9     9\n",
              "40                    34    34\n",
              "41                     8     8\n",
              "42                    11    11\n",
              "43                     6     6\n",
              "44                    27    27\n",
              "45                    11    11\n",
              "46                     4     4"
            ],
            "text/html": [
              "\n",
              "  <div id=\"df-70fd7ded-799a-4528-af96-28a33706a609\">\n",
              "    <div class=\"colab-df-container\">\n",
              "      <div>\n",
              "<style scoped>\n",
              "    .dataframe tbody tr th:only-of-type {\n",
              "        vertical-align: middle;\n",
              "    }\n",
              "\n",
              "    .dataframe tbody tr th {\n",
              "        vertical-align: top;\n",
              "    }\n",
              "\n",
              "    .dataframe thead th {\n",
              "        text-align: right;\n",
              "    }\n",
              "</style>\n",
              "<table border=\"1\" class=\"dataframe\">\n",
              "  <thead>\n",
              "    <tr style=\"text-align: right;\">\n",
              "      <th></th>\n",
              "      <th>label-coarse</th>\n",
              "      <th>text</th>\n",
              "    </tr>\n",
              "    <tr>\n",
              "      <th>label-fine</th>\n",
              "      <th></th>\n",
              "      <th></th>\n",
              "    </tr>\n",
              "  </thead>\n",
              "  <tbody>\n",
              "    <tr>\n",
              "      <th>0</th>\n",
              "      <td>276</td>\n",
              "      <td>276</td>\n",
              "    </tr>\n",
              "    <tr>\n",
              "      <th>1</th>\n",
              "      <td>207</td>\n",
              "      <td>207</td>\n",
              "    </tr>\n",
              "    <tr>\n",
              "      <th>2</th>\n",
              "      <td>112</td>\n",
              "      <td>112</td>\n",
              "    </tr>\n",
              "    <tr>\n",
              "      <th>3</th>\n",
              "      <td>70</td>\n",
              "      <td>70</td>\n",
              "    </tr>\n",
              "    <tr>\n",
              "      <th>4</th>\n",
              "      <td>962</td>\n",
              "      <td>962</td>\n",
              "    </tr>\n",
              "    <tr>\n",
              "      <th>5</th>\n",
              "      <td>189</td>\n",
              "      <td>189</td>\n",
              "    </tr>\n",
              "    <tr>\n",
              "      <th>6</th>\n",
              "      <td>25</td>\n",
              "      <td>25</td>\n",
              "    </tr>\n",
              "    <tr>\n",
              "      <th>7</th>\n",
              "      <td>421</td>\n",
              "      <td>421</td>\n",
              "    </tr>\n",
              "    <tr>\n",
              "      <th>8</th>\n",
              "      <td>218</td>\n",
              "      <td>218</td>\n",
              "    </tr>\n",
              "    <tr>\n",
              "      <th>9</th>\n",
              "      <td>191</td>\n",
              "      <td>191</td>\n",
              "    </tr>\n",
              "    <tr>\n",
              "      <th>10</th>\n",
              "      <td>56</td>\n",
              "      <td>56</td>\n",
              "    </tr>\n",
              "    <tr>\n",
              "      <th>11</th>\n",
              "      <td>66</td>\n",
              "      <td>66</td>\n",
              "    </tr>\n",
              "    <tr>\n",
              "      <th>12</th>\n",
              "      <td>321</td>\n",
              "      <td>321</td>\n",
              "    </tr>\n",
              "    <tr>\n",
              "      <th>13</th>\n",
              "      <td>363</td>\n",
              "      <td>363</td>\n",
              "    </tr>\n",
              "    <tr>\n",
              "      <th>14</th>\n",
              "      <td>733</td>\n",
              "      <td>733</td>\n",
              "    </tr>\n",
              "    <tr>\n",
              "      <th>15</th>\n",
              "      <td>9</td>\n",
              "      <td>9</td>\n",
              "    </tr>\n",
              "    <tr>\n",
              "      <th>16</th>\n",
              "      <td>4</td>\n",
              "      <td>4</td>\n",
              "    </tr>\n",
              "    <tr>\n",
              "      <th>17</th>\n",
              "      <td>103</td>\n",
              "      <td>103</td>\n",
              "    </tr>\n",
              "    <tr>\n",
              "      <th>18</th>\n",
              "      <td>155</td>\n",
              "      <td>155</td>\n",
              "    </tr>\n",
              "    <tr>\n",
              "      <th>19</th>\n",
              "      <td>40</td>\n",
              "      <td>40</td>\n",
              "    </tr>\n",
              "    <tr>\n",
              "      <th>20</th>\n",
              "      <td>93</td>\n",
              "      <td>93</td>\n",
              "    </tr>\n",
              "    <tr>\n",
              "      <th>21</th>\n",
              "      <td>129</td>\n",
              "      <td>129</td>\n",
              "    </tr>\n",
              "    <tr>\n",
              "      <th>22</th>\n",
              "      <td>16</td>\n",
              "      <td>16</td>\n",
              "    </tr>\n",
              "    <tr>\n",
              "      <th>23</th>\n",
              "      <td>103</td>\n",
              "      <td>103</td>\n",
              "    </tr>\n",
              "    <tr>\n",
              "      <th>24</th>\n",
              "      <td>21</td>\n",
              "      <td>21</td>\n",
              "    </tr>\n",
              "    <tr>\n",
              "      <th>25</th>\n",
              "      <td>71</td>\n",
              "      <td>71</td>\n",
              "    </tr>\n",
              "    <tr>\n",
              "      <th>26</th>\n",
              "      <td>42</td>\n",
              "      <td>42</td>\n",
              "    </tr>\n",
              "    <tr>\n",
              "      <th>27</th>\n",
              "      <td>75</td>\n",
              "      <td>75</td>\n",
              "    </tr>\n",
              "    <tr>\n",
              "      <th>28</th>\n",
              "      <td>41</td>\n",
              "      <td>41</td>\n",
              "    </tr>\n",
              "    <tr>\n",
              "      <th>29</th>\n",
              "      <td>62</td>\n",
              "      <td>62</td>\n",
              "    </tr>\n",
              "    <tr>\n",
              "      <th>30</th>\n",
              "      <td>13</td>\n",
              "      <td>13</td>\n",
              "    </tr>\n",
              "    <tr>\n",
              "      <th>31</th>\n",
              "      <td>38</td>\n",
              "      <td>38</td>\n",
              "    </tr>\n",
              "    <tr>\n",
              "      <th>32</th>\n",
              "      <td>13</td>\n",
              "      <td>13</td>\n",
              "    </tr>\n",
              "    <tr>\n",
              "      <th>33</th>\n",
              "      <td>10</td>\n",
              "      <td>10</td>\n",
              "    </tr>\n",
              "    <tr>\n",
              "      <th>34</th>\n",
              "      <td>16</td>\n",
              "      <td>16</td>\n",
              "    </tr>\n",
              "    <tr>\n",
              "      <th>35</th>\n",
              "      <td>9</td>\n",
              "      <td>9</td>\n",
              "    </tr>\n",
              "    <tr>\n",
              "      <th>36</th>\n",
              "      <td>26</td>\n",
              "      <td>26</td>\n",
              "    </tr>\n",
              "    <tr>\n",
              "      <th>37</th>\n",
              "      <td>16</td>\n",
              "      <td>16</td>\n",
              "    </tr>\n",
              "    <tr>\n",
              "      <th>38</th>\n",
              "      <td>27</td>\n",
              "      <td>27</td>\n",
              "    </tr>\n",
              "    <tr>\n",
              "      <th>39</th>\n",
              "      <td>9</td>\n",
              "      <td>9</td>\n",
              "    </tr>\n",
              "    <tr>\n",
              "      <th>40</th>\n",
              "      <td>34</td>\n",
              "      <td>34</td>\n",
              "    </tr>\n",
              "    <tr>\n",
              "      <th>41</th>\n",
              "      <td>8</td>\n",
              "      <td>8</td>\n",
              "    </tr>\n",
              "    <tr>\n",
              "      <th>42</th>\n",
              "      <td>11</td>\n",
              "      <td>11</td>\n",
              "    </tr>\n",
              "    <tr>\n",
              "      <th>43</th>\n",
              "      <td>6</td>\n",
              "      <td>6</td>\n",
              "    </tr>\n",
              "    <tr>\n",
              "      <th>44</th>\n",
              "      <td>27</td>\n",
              "      <td>27</td>\n",
              "    </tr>\n",
              "    <tr>\n",
              "      <th>45</th>\n",
              "      <td>11</td>\n",
              "      <td>11</td>\n",
              "    </tr>\n",
              "    <tr>\n",
              "      <th>46</th>\n",
              "      <td>4</td>\n",
              "      <td>4</td>\n",
              "    </tr>\n",
              "  </tbody>\n",
              "</table>\n",
              "</div>\n",
              "      <button class=\"colab-df-convert\" onclick=\"convertToInteractive('df-70fd7ded-799a-4528-af96-28a33706a609')\"\n",
              "              title=\"Convert this dataframe to an interactive table.\"\n",
              "              style=\"display:none;\">\n",
              "        \n",
              "  <svg xmlns=\"http://www.w3.org/2000/svg\" height=\"24px\"viewBox=\"0 0 24 24\"\n",
              "       width=\"24px\">\n",
              "    <path d=\"M0 0h24v24H0V0z\" fill=\"none\"/>\n",
              "    <path d=\"M18.56 5.44l.94 2.06.94-2.06 2.06-.94-2.06-.94-.94-2.06-.94 2.06-2.06.94zm-11 1L8.5 8.5l.94-2.06 2.06-.94-2.06-.94L8.5 2.5l-.94 2.06-2.06.94zm10 10l.94 2.06.94-2.06 2.06-.94-2.06-.94-.94-2.06-.94 2.06-2.06.94z\"/><path d=\"M17.41 7.96l-1.37-1.37c-.4-.4-.92-.59-1.43-.59-.52 0-1.04.2-1.43.59L10.3 9.45l-7.72 7.72c-.78.78-.78 2.05 0 2.83L4 21.41c.39.39.9.59 1.41.59.51 0 1.02-.2 1.41-.59l7.78-7.78 2.81-2.81c.8-.78.8-2.07 0-2.86zM5.41 20L4 18.59l7.72-7.72 1.47 1.35L5.41 20z\"/>\n",
              "  </svg>\n",
              "      </button>\n",
              "      \n",
              "  <style>\n",
              "    .colab-df-container {\n",
              "      display:flex;\n",
              "      flex-wrap:wrap;\n",
              "      gap: 12px;\n",
              "    }\n",
              "\n",
              "    .colab-df-convert {\n",
              "      background-color: #E8F0FE;\n",
              "      border: none;\n",
              "      border-radius: 50%;\n",
              "      cursor: pointer;\n",
              "      display: none;\n",
              "      fill: #1967D2;\n",
              "      height: 32px;\n",
              "      padding: 0 0 0 0;\n",
              "      width: 32px;\n",
              "    }\n",
              "\n",
              "    .colab-df-convert:hover {\n",
              "      background-color: #E2EBFA;\n",
              "      box-shadow: 0px 1px 2px rgba(60, 64, 67, 0.3), 0px 1px 3px 1px rgba(60, 64, 67, 0.15);\n",
              "      fill: #174EA6;\n",
              "    }\n",
              "\n",
              "    [theme=dark] .colab-df-convert {\n",
              "      background-color: #3B4455;\n",
              "      fill: #D2E3FC;\n",
              "    }\n",
              "\n",
              "    [theme=dark] .colab-df-convert:hover {\n",
              "      background-color: #434B5C;\n",
              "      box-shadow: 0px 1px 3px 1px rgba(0, 0, 0, 0.15);\n",
              "      filter: drop-shadow(0px 1px 2px rgba(0, 0, 0, 0.3));\n",
              "      fill: #FFFFFF;\n",
              "    }\n",
              "  </style>\n",
              "\n",
              "      <script>\n",
              "        const buttonEl =\n",
              "          document.querySelector('#df-70fd7ded-799a-4528-af96-28a33706a609 button.colab-df-convert');\n",
              "        buttonEl.style.display =\n",
              "          google.colab.kernel.accessAllowed ? 'block' : 'none';\n",
              "\n",
              "        async function convertToInteractive(key) {\n",
              "          const element = document.querySelector('#df-70fd7ded-799a-4528-af96-28a33706a609');\n",
              "          const dataTable =\n",
              "            await google.colab.kernel.invokeFunction('convertToInteractive',\n",
              "                                                     [key], {});\n",
              "          if (!dataTable) return;\n",
              "\n",
              "          const docLinkHtml = 'Like what you see? Visit the ' +\n",
              "            '<a target=\"_blank\" href=https://colab.research.google.com/notebooks/data_table.ipynb>data table notebook</a>'\n",
              "            + ' to learn more about interactive tables.';\n",
              "          element.innerHTML = '';\n",
              "          dataTable['output_type'] = 'display_data';\n",
              "          await google.colab.output.renderOutput(dataTable, element);\n",
              "          const docLink = document.createElement('div');\n",
              "          docLink.innerHTML = docLinkHtml;\n",
              "          element.appendChild(docLink);\n",
              "        }\n",
              "      </script>\n",
              "    </div>\n",
              "  </div>\n",
              "  "
            ]
          },
          "metadata": {},
          "execution_count": 7
        }
      ]
    },
    {
      "cell_type": "code",
      "source": [
        "df_train.groupby(\"label-coarse\").count()"
      ],
      "metadata": {
        "id": "Kyf6_Czht3Kb",
        "colab": {
          "base_uri": "https://localhost:8080/",
          "height": 269
        },
        "outputId": "0b740f83-9ff8-4312-f932-96b867f822d2"
      },
      "execution_count": 8,
      "outputs": [
        {
          "output_type": "execute_result",
          "data": {
            "text/plain": [
              "              label-fine  text\n",
              "label-coarse                  \n",
              "0                   1162  1162\n",
              "1                   1250  1250\n",
              "2                     86    86\n",
              "3                   1223  1223\n",
              "4                    896   896\n",
              "5                    835   835"
            ],
            "text/html": [
              "\n",
              "  <div id=\"df-fb8858cc-ea2b-436d-a4d4-6048332be80b\">\n",
              "    <div class=\"colab-df-container\">\n",
              "      <div>\n",
              "<style scoped>\n",
              "    .dataframe tbody tr th:only-of-type {\n",
              "        vertical-align: middle;\n",
              "    }\n",
              "\n",
              "    .dataframe tbody tr th {\n",
              "        vertical-align: top;\n",
              "    }\n",
              "\n",
              "    .dataframe thead th {\n",
              "        text-align: right;\n",
              "    }\n",
              "</style>\n",
              "<table border=\"1\" class=\"dataframe\">\n",
              "  <thead>\n",
              "    <tr style=\"text-align: right;\">\n",
              "      <th></th>\n",
              "      <th>label-fine</th>\n",
              "      <th>text</th>\n",
              "    </tr>\n",
              "    <tr>\n",
              "      <th>label-coarse</th>\n",
              "      <th></th>\n",
              "      <th></th>\n",
              "    </tr>\n",
              "  </thead>\n",
              "  <tbody>\n",
              "    <tr>\n",
              "      <th>0</th>\n",
              "      <td>1162</td>\n",
              "      <td>1162</td>\n",
              "    </tr>\n",
              "    <tr>\n",
              "      <th>1</th>\n",
              "      <td>1250</td>\n",
              "      <td>1250</td>\n",
              "    </tr>\n",
              "    <tr>\n",
              "      <th>2</th>\n",
              "      <td>86</td>\n",
              "      <td>86</td>\n",
              "    </tr>\n",
              "    <tr>\n",
              "      <th>3</th>\n",
              "      <td>1223</td>\n",
              "      <td>1223</td>\n",
              "    </tr>\n",
              "    <tr>\n",
              "      <th>4</th>\n",
              "      <td>896</td>\n",
              "      <td>896</td>\n",
              "    </tr>\n",
              "    <tr>\n",
              "      <th>5</th>\n",
              "      <td>835</td>\n",
              "      <td>835</td>\n",
              "    </tr>\n",
              "  </tbody>\n",
              "</table>\n",
              "</div>\n",
              "      <button class=\"colab-df-convert\" onclick=\"convertToInteractive('df-fb8858cc-ea2b-436d-a4d4-6048332be80b')\"\n",
              "              title=\"Convert this dataframe to an interactive table.\"\n",
              "              style=\"display:none;\">\n",
              "        \n",
              "  <svg xmlns=\"http://www.w3.org/2000/svg\" height=\"24px\"viewBox=\"0 0 24 24\"\n",
              "       width=\"24px\">\n",
              "    <path d=\"M0 0h24v24H0V0z\" fill=\"none\"/>\n",
              "    <path d=\"M18.56 5.44l.94 2.06.94-2.06 2.06-.94-2.06-.94-.94-2.06-.94 2.06-2.06.94zm-11 1L8.5 8.5l.94-2.06 2.06-.94-2.06-.94L8.5 2.5l-.94 2.06-2.06.94zm10 10l.94 2.06.94-2.06 2.06-.94-2.06-.94-.94-2.06-.94 2.06-2.06.94z\"/><path d=\"M17.41 7.96l-1.37-1.37c-.4-.4-.92-.59-1.43-.59-.52 0-1.04.2-1.43.59L10.3 9.45l-7.72 7.72c-.78.78-.78 2.05 0 2.83L4 21.41c.39.39.9.59 1.41.59.51 0 1.02-.2 1.41-.59l7.78-7.78 2.81-2.81c.8-.78.8-2.07 0-2.86zM5.41 20L4 18.59l7.72-7.72 1.47 1.35L5.41 20z\"/>\n",
              "  </svg>\n",
              "      </button>\n",
              "      \n",
              "  <style>\n",
              "    .colab-df-container {\n",
              "      display:flex;\n",
              "      flex-wrap:wrap;\n",
              "      gap: 12px;\n",
              "    }\n",
              "\n",
              "    .colab-df-convert {\n",
              "      background-color: #E8F0FE;\n",
              "      border: none;\n",
              "      border-radius: 50%;\n",
              "      cursor: pointer;\n",
              "      display: none;\n",
              "      fill: #1967D2;\n",
              "      height: 32px;\n",
              "      padding: 0 0 0 0;\n",
              "      width: 32px;\n",
              "    }\n",
              "\n",
              "    .colab-df-convert:hover {\n",
              "      background-color: #E2EBFA;\n",
              "      box-shadow: 0px 1px 2px rgba(60, 64, 67, 0.3), 0px 1px 3px 1px rgba(60, 64, 67, 0.15);\n",
              "      fill: #174EA6;\n",
              "    }\n",
              "\n",
              "    [theme=dark] .colab-df-convert {\n",
              "      background-color: #3B4455;\n",
              "      fill: #D2E3FC;\n",
              "    }\n",
              "\n",
              "    [theme=dark] .colab-df-convert:hover {\n",
              "      background-color: #434B5C;\n",
              "      box-shadow: 0px 1px 3px 1px rgba(0, 0, 0, 0.15);\n",
              "      filter: drop-shadow(0px 1px 2px rgba(0, 0, 0, 0.3));\n",
              "      fill: #FFFFFF;\n",
              "    }\n",
              "  </style>\n",
              "\n",
              "      <script>\n",
              "        const buttonEl =\n",
              "          document.querySelector('#df-fb8858cc-ea2b-436d-a4d4-6048332be80b button.colab-df-convert');\n",
              "        buttonEl.style.display =\n",
              "          google.colab.kernel.accessAllowed ? 'block' : 'none';\n",
              "\n",
              "        async function convertToInteractive(key) {\n",
              "          const element = document.querySelector('#df-fb8858cc-ea2b-436d-a4d4-6048332be80b');\n",
              "          const dataTable =\n",
              "            await google.colab.kernel.invokeFunction('convertToInteractive',\n",
              "                                                     [key], {});\n",
              "          if (!dataTable) return;\n",
              "\n",
              "          const docLinkHtml = 'Like what you see? Visit the ' +\n",
              "            '<a target=\"_blank\" href=https://colab.research.google.com/notebooks/data_table.ipynb>data table notebook</a>'\n",
              "            + ' to learn more about interactive tables.';\n",
              "          element.innerHTML = '';\n",
              "          dataTable['output_type'] = 'display_data';\n",
              "          await google.colab.output.renderOutput(dataTable, element);\n",
              "          const docLink = document.createElement('div');\n",
              "          docLink.innerHTML = docLinkHtml;\n",
              "          element.appendChild(docLink);\n",
              "        }\n",
              "      </script>\n",
              "    </div>\n",
              "  </div>\n",
              "  "
            ]
          },
          "metadata": {},
          "execution_count": 8
        }
      ]
    },
    {
      "cell_type": "code",
      "source": [
        "labels_1_train =np.squeeze(np.array(df_train[['label-coarse']]))\n",
        "labels_2_train =np.squeeze(np.array(df_train[['label-fine']]))\n",
        "labels_1_test =np.squeeze(np.array(df_test[['label-coarse']]))\n",
        "labels_2_test =np.squeeze(np.array(df_test[['label-fine']]))"
      ],
      "metadata": {
        "id": "SuBPwR_InooL"
      },
      "execution_count": 9,
      "outputs": []
    },
    {
      "cell_type": "code",
      "source": [
        "num_main_class = len(df_train.groupby(\"label-coarse\").count())\n",
        "num_sub_class = len(df_train.groupby(\"label-fine\").count())"
      ],
      "metadata": {
        "id": "cOvsE_lHXq0p"
      },
      "execution_count": 10,
      "outputs": []
    },
    {
      "cell_type": "code",
      "source": [
        "num_sub_class"
      ],
      "metadata": {
        "colab": {
          "base_uri": "https://localhost:8080/"
        },
        "id": "jHTZfhCbX-rQ",
        "outputId": "a1cc8afb-d502-4775-c3a6-d1fee2412f4b"
      },
      "execution_count": 11,
      "outputs": [
        {
          "output_type": "execute_result",
          "data": {
            "text/plain": [
              "47"
            ]
          },
          "metadata": {},
          "execution_count": 11
        }
      ]
    },
    {
      "cell_type": "markdown",
      "source": [
        "**Text Preprocessing With NLTK and Tensorflow**"
      ],
      "metadata": {
        "id": "jKbrWWdTvCDz"
      }
    },
    {
      "cell_type": "markdown",
      "source": [
        "*Convert text to lowercase*\n",
        "\n"
      ],
      "metadata": {
        "id": "rRkVj66SvFp0"
      }
    },
    {
      "cell_type": "code",
      "source": [
        "df_train[\"lower_text\"]= df_train.text.map(lambda x: x.lower())\n",
        "df_test[\"lower_text\"]= df_test.text.map(lambda x: x.lower())"
      ],
      "metadata": {
        "id": "LnaUtI5zvPc6"
      },
      "execution_count": 10,
      "outputs": []
    },
    {
      "cell_type": "markdown",
      "source": [
        "*Word Tokenize*"
      ],
      "metadata": {
        "id": "RKsYprxLv4ad"
      }
    },
    {
      "cell_type": "code",
      "source": [
        "df_train[\"tokenized\"]= df_train.lower_text.map(nltk.word_tokenize)\n",
        "df_test[\"tokenized\"]= df_test.lower_text.map(nltk.word_tokenize)"
      ],
      "metadata": {
        "id": "AAld-G5-vyOG"
      },
      "execution_count": 11,
      "outputs": []
    },
    {
      "cell_type": "markdown",
      "source": [
        "*Remove Stop Words*"
      ],
      "metadata": {
        "id": "l94Zx9ETwOMu"
      }
    },
    {
      "cell_type": "code",
      "source": [
        "def remove_stop(strings, stop_list):\n",
        "    classed= [s for s in strings if s not in stop_list]\n",
        "    return classed"
      ],
      "metadata": {
        "id": "WDmwaLjDjk-4"
      },
      "execution_count": 16,
      "outputs": []
    },
    {
      "cell_type": "code",
      "source": [
        "stop= stopwords.words(\"english\")\n",
        "stop_punc= list(set(punctuation))+ stop\n",
        "\n",
        "df_train[\"selected\"]= df_train.tokenized.map(lambda df: remove_stop(df, stop_punc))\n",
        "df_test[\"selected\"]= df_test.tokenized.map(lambda df: remove_stop(df, stop_punc))\n",
        "df_train"
      ],
      "metadata": {
        "id": "LPrtfPaBwCjc",
        "colab": {
          "base_uri": "https://localhost:8080/",
          "height": 424
        },
        "outputId": "8619e1ec-6164-4afc-df1b-9e676323b6c0"
      },
      "execution_count": 13,
      "outputs": [
        {
          "output_type": "execute_result",
          "data": {
            "text/plain": [
              "      label-coarse  label-fine  \\\n",
              "0                0           0   \n",
              "1                1           1   \n",
              "2                0           0   \n",
              "3                1           2   \n",
              "4                2           3   \n",
              "...            ...         ...   \n",
              "5447             1          14   \n",
              "5448             1          46   \n",
              "5449             4          41   \n",
              "5450             4          41   \n",
              "5451             1          46   \n",
              "\n",
              "                                                   text  \\\n",
              "0     How did serfdom develop in and then leave Russ...   \n",
              "1      What films featured the character Popeye Doyle ?   \n",
              "2     How can I find a list of celebrities ' real na...   \n",
              "3     What fowl grabs the spotlight after the Chines...   \n",
              "4                       What is the full form of .com ?   \n",
              "...                                                 ...   \n",
              "5447            What 's the shape of a camel 's spine ?   \n",
              "5448           What type of currency is used in China ?   \n",
              "5449                    What is the temperature today ?   \n",
              "5450              What is the temperature for cooking ?   \n",
              "5451               What currency is used in Australia ?   \n",
              "\n",
              "                                             lower_text  \\\n",
              "0     how did serfdom develop in and then leave russ...   \n",
              "1      what films featured the character popeye doyle ?   \n",
              "2     how can i find a list of celebrities ' real na...   \n",
              "3     what fowl grabs the spotlight after the chines...   \n",
              "4                       what is the full form of .com ?   \n",
              "...                                                 ...   \n",
              "5447            what 's the shape of a camel 's spine ?   \n",
              "5448           what type of currency is used in china ?   \n",
              "5449                    what is the temperature today ?   \n",
              "5450              what is the temperature for cooking ?   \n",
              "5451               what currency is used in australia ?   \n",
              "\n",
              "                                              tokenized  \\\n",
              "0     [how, did, serfdom, develop, in, and, then, le...   \n",
              "1     [what, films, featured, the, character, popeye...   \n",
              "2     [how, can, i, find, a, list, of, celebrities, ...   \n",
              "3     [what, fowl, grabs, the, spotlight, after, the...   \n",
              "4              [what, is, the, full, form, of, .com, ?]   \n",
              "...                                                 ...   \n",
              "5447  [what, 's, the, shape, of, a, camel, 's, spine...   \n",
              "5448  [what, type, of, currency, is, used, in, china...   \n",
              "5449             [what, is, the, temperature, today, ?]   \n",
              "5450      [what, is, the, temperature, for, cooking, ?]   \n",
              "5451       [what, currency, is, used, in, australia, ?]   \n",
              "\n",
              "                                             selected  \n",
              "0                   [serfdom, develop, leave, russia]  \n",
              "1         [films, featured, character, popeye, doyle]  \n",
              "2              [find, list, celebrities, real, names]  \n",
              "3     [fowl, grabs, spotlight, chinese, year, monkey]  \n",
              "4                                  [full, form, .com]  \n",
              "...                                               ...  \n",
              "5447                    ['s, shape, camel, 's, spine]  \n",
              "5448                    [type, currency, used, china]  \n",
              "5449                             [temperature, today]  \n",
              "5450                           [temperature, cooking]  \n",
              "5451                      [currency, used, australia]  \n",
              "\n",
              "[5452 rows x 6 columns]"
            ],
            "text/html": [
              "\n",
              "  <div id=\"df-9f3afb93-f215-4223-8952-288190bbb789\">\n",
              "    <div class=\"colab-df-container\">\n",
              "      <div>\n",
              "<style scoped>\n",
              "    .dataframe tbody tr th:only-of-type {\n",
              "        vertical-align: middle;\n",
              "    }\n",
              "\n",
              "    .dataframe tbody tr th {\n",
              "        vertical-align: top;\n",
              "    }\n",
              "\n",
              "    .dataframe thead th {\n",
              "        text-align: right;\n",
              "    }\n",
              "</style>\n",
              "<table border=\"1\" class=\"dataframe\">\n",
              "  <thead>\n",
              "    <tr style=\"text-align: right;\">\n",
              "      <th></th>\n",
              "      <th>label-coarse</th>\n",
              "      <th>label-fine</th>\n",
              "      <th>text</th>\n",
              "      <th>lower_text</th>\n",
              "      <th>tokenized</th>\n",
              "      <th>selected</th>\n",
              "    </tr>\n",
              "  </thead>\n",
              "  <tbody>\n",
              "    <tr>\n",
              "      <th>0</th>\n",
              "      <td>0</td>\n",
              "      <td>0</td>\n",
              "      <td>How did serfdom develop in and then leave Russ...</td>\n",
              "      <td>how did serfdom develop in and then leave russ...</td>\n",
              "      <td>[how, did, serfdom, develop, in, and, then, le...</td>\n",
              "      <td>[serfdom, develop, leave, russia]</td>\n",
              "    </tr>\n",
              "    <tr>\n",
              "      <th>1</th>\n",
              "      <td>1</td>\n",
              "      <td>1</td>\n",
              "      <td>What films featured the character Popeye Doyle ?</td>\n",
              "      <td>what films featured the character popeye doyle ?</td>\n",
              "      <td>[what, films, featured, the, character, popeye...</td>\n",
              "      <td>[films, featured, character, popeye, doyle]</td>\n",
              "    </tr>\n",
              "    <tr>\n",
              "      <th>2</th>\n",
              "      <td>0</td>\n",
              "      <td>0</td>\n",
              "      <td>How can I find a list of celebrities ' real na...</td>\n",
              "      <td>how can i find a list of celebrities ' real na...</td>\n",
              "      <td>[how, can, i, find, a, list, of, celebrities, ...</td>\n",
              "      <td>[find, list, celebrities, real, names]</td>\n",
              "    </tr>\n",
              "    <tr>\n",
              "      <th>3</th>\n",
              "      <td>1</td>\n",
              "      <td>2</td>\n",
              "      <td>What fowl grabs the spotlight after the Chines...</td>\n",
              "      <td>what fowl grabs the spotlight after the chines...</td>\n",
              "      <td>[what, fowl, grabs, the, spotlight, after, the...</td>\n",
              "      <td>[fowl, grabs, spotlight, chinese, year, monkey]</td>\n",
              "    </tr>\n",
              "    <tr>\n",
              "      <th>4</th>\n",
              "      <td>2</td>\n",
              "      <td>3</td>\n",
              "      <td>What is the full form of .com ?</td>\n",
              "      <td>what is the full form of .com ?</td>\n",
              "      <td>[what, is, the, full, form, of, .com, ?]</td>\n",
              "      <td>[full, form, .com]</td>\n",
              "    </tr>\n",
              "    <tr>\n",
              "      <th>...</th>\n",
              "      <td>...</td>\n",
              "      <td>...</td>\n",
              "      <td>...</td>\n",
              "      <td>...</td>\n",
              "      <td>...</td>\n",
              "      <td>...</td>\n",
              "    </tr>\n",
              "    <tr>\n",
              "      <th>5447</th>\n",
              "      <td>1</td>\n",
              "      <td>14</td>\n",
              "      <td>What 's the shape of a camel 's spine ?</td>\n",
              "      <td>what 's the shape of a camel 's spine ?</td>\n",
              "      <td>[what, 's, the, shape, of, a, camel, 's, spine...</td>\n",
              "      <td>['s, shape, camel, 's, spine]</td>\n",
              "    </tr>\n",
              "    <tr>\n",
              "      <th>5448</th>\n",
              "      <td>1</td>\n",
              "      <td>46</td>\n",
              "      <td>What type of currency is used in China ?</td>\n",
              "      <td>what type of currency is used in china ?</td>\n",
              "      <td>[what, type, of, currency, is, used, in, china...</td>\n",
              "      <td>[type, currency, used, china]</td>\n",
              "    </tr>\n",
              "    <tr>\n",
              "      <th>5449</th>\n",
              "      <td>4</td>\n",
              "      <td>41</td>\n",
              "      <td>What is the temperature today ?</td>\n",
              "      <td>what is the temperature today ?</td>\n",
              "      <td>[what, is, the, temperature, today, ?]</td>\n",
              "      <td>[temperature, today]</td>\n",
              "    </tr>\n",
              "    <tr>\n",
              "      <th>5450</th>\n",
              "      <td>4</td>\n",
              "      <td>41</td>\n",
              "      <td>What is the temperature for cooking ?</td>\n",
              "      <td>what is the temperature for cooking ?</td>\n",
              "      <td>[what, is, the, temperature, for, cooking, ?]</td>\n",
              "      <td>[temperature, cooking]</td>\n",
              "    </tr>\n",
              "    <tr>\n",
              "      <th>5451</th>\n",
              "      <td>1</td>\n",
              "      <td>46</td>\n",
              "      <td>What currency is used in Australia ?</td>\n",
              "      <td>what currency is used in australia ?</td>\n",
              "      <td>[what, currency, is, used, in, australia, ?]</td>\n",
              "      <td>[currency, used, australia]</td>\n",
              "    </tr>\n",
              "  </tbody>\n",
              "</table>\n",
              "<p>5452 rows × 6 columns</p>\n",
              "</div>\n",
              "      <button class=\"colab-df-convert\" onclick=\"convertToInteractive('df-9f3afb93-f215-4223-8952-288190bbb789')\"\n",
              "              title=\"Convert this dataframe to an interactive table.\"\n",
              "              style=\"display:none;\">\n",
              "        \n",
              "  <svg xmlns=\"http://www.w3.org/2000/svg\" height=\"24px\"viewBox=\"0 0 24 24\"\n",
              "       width=\"24px\">\n",
              "    <path d=\"M0 0h24v24H0V0z\" fill=\"none\"/>\n",
              "    <path d=\"M18.56 5.44l.94 2.06.94-2.06 2.06-.94-2.06-.94-.94-2.06-.94 2.06-2.06.94zm-11 1L8.5 8.5l.94-2.06 2.06-.94-2.06-.94L8.5 2.5l-.94 2.06-2.06.94zm10 10l.94 2.06.94-2.06 2.06-.94-2.06-.94-.94-2.06-.94 2.06-2.06.94z\"/><path d=\"M17.41 7.96l-1.37-1.37c-.4-.4-.92-.59-1.43-.59-.52 0-1.04.2-1.43.59L10.3 9.45l-7.72 7.72c-.78.78-.78 2.05 0 2.83L4 21.41c.39.39.9.59 1.41.59.51 0 1.02-.2 1.41-.59l7.78-7.78 2.81-2.81c.8-.78.8-2.07 0-2.86zM5.41 20L4 18.59l7.72-7.72 1.47 1.35L5.41 20z\"/>\n",
              "  </svg>\n",
              "      </button>\n",
              "      \n",
              "  <style>\n",
              "    .colab-df-container {\n",
              "      display:flex;\n",
              "      flex-wrap:wrap;\n",
              "      gap: 12px;\n",
              "    }\n",
              "\n",
              "    .colab-df-convert {\n",
              "      background-color: #E8F0FE;\n",
              "      border: none;\n",
              "      border-radius: 50%;\n",
              "      cursor: pointer;\n",
              "      display: none;\n",
              "      fill: #1967D2;\n",
              "      height: 32px;\n",
              "      padding: 0 0 0 0;\n",
              "      width: 32px;\n",
              "    }\n",
              "\n",
              "    .colab-df-convert:hover {\n",
              "      background-color: #E2EBFA;\n",
              "      box-shadow: 0px 1px 2px rgba(60, 64, 67, 0.3), 0px 1px 3px 1px rgba(60, 64, 67, 0.15);\n",
              "      fill: #174EA6;\n",
              "    }\n",
              "\n",
              "    [theme=dark] .colab-df-convert {\n",
              "      background-color: #3B4455;\n",
              "      fill: #D2E3FC;\n",
              "    }\n",
              "\n",
              "    [theme=dark] .colab-df-convert:hover {\n",
              "      background-color: #434B5C;\n",
              "      box-shadow: 0px 1px 3px 1px rgba(0, 0, 0, 0.15);\n",
              "      filter: drop-shadow(0px 1px 2px rgba(0, 0, 0, 0.3));\n",
              "      fill: #FFFFFF;\n",
              "    }\n",
              "  </style>\n",
              "\n",
              "      <script>\n",
              "        const buttonEl =\n",
              "          document.querySelector('#df-9f3afb93-f215-4223-8952-288190bbb789 button.colab-df-convert');\n",
              "        buttonEl.style.display =\n",
              "          google.colab.kernel.accessAllowed ? 'block' : 'none';\n",
              "\n",
              "        async function convertToInteractive(key) {\n",
              "          const element = document.querySelector('#df-9f3afb93-f215-4223-8952-288190bbb789');\n",
              "          const dataTable =\n",
              "            await google.colab.kernel.invokeFunction('convertToInteractive',\n",
              "                                                     [key], {});\n",
              "          if (!dataTable) return;\n",
              "\n",
              "          const docLinkHtml = 'Like what you see? Visit the ' +\n",
              "            '<a target=\"_blank\" href=https://colab.research.google.com/notebooks/data_table.ipynb>data table notebook</a>'\n",
              "            + ' to learn more about interactive tables.';\n",
              "          element.innerHTML = '';\n",
              "          dataTable['output_type'] = 'display_data';\n",
              "          await google.colab.output.renderOutput(dataTable, element);\n",
              "          const docLink = document.createElement('div');\n",
              "          docLink.innerHTML = docLinkHtml;\n",
              "          element.appendChild(docLink);\n",
              "        }\n",
              "      </script>\n",
              "    </div>\n",
              "  </div>\n",
              "  "
            ]
          },
          "metadata": {},
          "execution_count": 13
        }
      ]
    },
    {
      "cell_type": "markdown",
      "source": [
        "*Stemming*"
      ],
      "metadata": {
        "id": "PhiFY86Lw30r"
      }
    },
    {
      "cell_type": "code",
      "source": [
        "def normalize(text):\n",
        "    return \" \".join(text)"
      ],
      "metadata": {
        "id": "x6tX60fHjnoV"
      },
      "execution_count": 17,
      "outputs": []
    },
    {
      "cell_type": "code",
      "source": [
        "stemmer= PorterStemmer()\n",
        "\n",
        "df_train[\"stemmed\"]= df_train.selected.map(lambda xs: [stemmer.stem(x) for x in xs])\n",
        "df_train[\"normalized\"]= df_train.stemmed.apply(normalize)\n",
        "\n",
        "df_test[\"stemmed\"]= df_test.selected.map(lambda xs: [stemmer.stem(x) for x in xs])\n",
        "df_test[\"normalized\"]= df_test.stemmed.apply(normalize)"
      ],
      "metadata": {
        "id": "PGUJR6kxww09"
      },
      "execution_count": 15,
      "outputs": []
    },
    {
      "cell_type": "markdown",
      "source": [
        "*Tokenize with tensorflow*"
      ],
      "metadata": {
        "id": "BBlQsj9kzG0J"
      }
    },
    {
      "cell_type": "code",
      "source": [
        "tokenizer= Tokenizer(num_words= 10000)\n",
        "tokenizer.fit_on_texts(df_train.normalized)\n",
        "\n",
        "tokenized_train= tokenizer.texts_to_sequences(df_train.normalized)\n",
        "tokenized_test= tokenizer.texts_to_sequences(df_test.normalized)"
      ],
      "metadata": {
        "id": "Rt0wLzTDyk8E"
      },
      "execution_count": 16,
      "outputs": []
    },
    {
      "cell_type": "code",
      "source": [
        "vocab_size = tokenizer.word_index.keys().__len__() +1\n",
        "vocab_size"
      ],
      "metadata": {
        "colab": {
          "base_uri": "https://localhost:8080/"
        },
        "id": "ZcpCrp_9zrYx",
        "outputId": "d51d8a29-5b1c-41d1-ec97-1466a8e969ea"
      },
      "execution_count": 17,
      "outputs": [
        {
          "output_type": "execute_result",
          "data": {
            "text/plain": [
              "6907"
            ]
          },
          "metadata": {},
          "execution_count": 17
        }
      ]
    },
    {
      "cell_type": "markdown",
      "source": [
        "*Pad Text*"
      ],
      "metadata": {
        "id": "eB-AMH980H_7"
      }
    },
    {
      "cell_type": "code",
      "source": [
        "max_length = len(max(tokenized_train, key=len))\n",
        "max_length"
      ],
      "metadata": {
        "colab": {
          "base_uri": "https://localhost:8080/"
        },
        "id": "5dOhtYvL0Qd7",
        "outputId": "ff9bd7ec-2775-4f19-81c6-718149366f7d"
      },
      "execution_count": 18,
      "outputs": [
        {
          "output_type": "execute_result",
          "data": {
            "text/plain": [
              "18"
            ]
          },
          "metadata": {},
          "execution_count": 18
        }
      ]
    },
    {
      "cell_type": "code",
      "source": [
        "train_padded= pad_sequences(tokenized_train, maxlen= max_length, padding= \"pre\")\n",
        "test_padded= pad_sequences(tokenized_test, maxlen= max_length, padding= \"pre\")"
      ],
      "metadata": {
        "id": "1dSULNfJz-0y"
      },
      "execution_count": 19,
      "outputs": []
    },
    {
      "cell_type": "code",
      "source": [
        "test_padded.shape\n"
      ],
      "metadata": {
        "colab": {
          "base_uri": "https://localhost:8080/"
        },
        "id": "TvDM7U9B0N4r",
        "outputId": "58b649c1-e9a1-4fa8-cbf0-d57a3ff0e311"
      },
      "execution_count": 20,
      "outputs": [
        {
          "output_type": "execute_result",
          "data": {
            "text/plain": [
              "(500, 18)"
            ]
          },
          "metadata": {},
          "execution_count": 20
        }
      ]
    },
    {
      "cell_type": "code",
      "source": [
        "# load the whole embedding into memory\n",
        "embeddings_index = dict()\n",
        "f = open('/content/drive/MyDrive/NeuralNetwork2023/Hw04/glove.6B.300d.txt')\n",
        "for line in f:\n",
        "\tvalues = line.split()\n",
        "\tword = values[0]\n",
        "\tcoefs = np.asarray(values[1:], dtype='float32')\n",
        "\tembeddings_index[word] = coefs\n",
        "f.close()\n",
        "print('Loaded %s word vectors.' % len(embeddings_index))"
      ],
      "metadata": {
        "colab": {
          "base_uri": "https://localhost:8080/"
        },
        "id": "SQdzSucFjIpS",
        "outputId": "d507743e-b90b-47c4-a9f5-daeaf36884fa"
      },
      "execution_count": 12,
      "outputs": [
        {
          "output_type": "stream",
          "name": "stdout",
          "text": [
            "Loaded 400000 word vectors.\n"
          ]
        }
      ]
    },
    {
      "cell_type": "code",
      "source": [
        "#create a weight matrix for words in training \n",
        "embedding_matrix = np.zeros((vocab_size, 300))\n",
        "for word, i in tokenizer.word_index.items():\n",
        "\tembedding_vector = embeddings_index.get(word)\n",
        "\tif embedding_vector is not None:\n",
        "\t\tembedding_matrix[i] = embedding_vector"
      ],
      "metadata": {
        "id": "Q0RtjzQ83TXX"
      },
      "execution_count": 22,
      "outputs": []
    },
    {
      "cell_type": "markdown",
      "source": [
        "**Building first model**"
      ],
      "metadata": {
        "id": "CPjq9LPhdIDx"
      }
    },
    {
      "cell_type": "code",
      "source": [
        "#Building the first model\n",
        "NUM_HIDDEN_STATES = 100\n",
        "input_layer =  Input(shape=(max_length,), name = 'input1')\n",
        "embeddig = Embedding(vocab_size, 300, weights=[embedding_matrix], input_length =max_length ,trainable=False)(input_layer)\n",
        "lstm = LSTM(NUM_HIDDEN_STATES , return_sequences=False)(embeddig)\n",
        "\n",
        "#mainclass prediction\n",
        "flat = Flatten()(lstm)\n",
        "output = Dense(num_main_class,activation='softmax',name='mainclass')(flat)\n",
        "\n",
        "\n",
        "\n",
        "first_model = Model(inputs=input_layer, outputs=output , name = 'First_model')\n",
        "\n",
        "opt = optimizers.Adam(learning_rate=1e-5)\n",
        "first_model.compile(optimizer=opt,\n",
        "                    loss='sparse_categorical_crossentropy',\n",
        "                    metrics='accuracy')\n",
        "\n",
        "first_model.summary()"
      ],
      "metadata": {
        "colab": {
          "base_uri": "https://localhost:8080/"
        },
        "id": "O614dGwsW9Zk",
        "outputId": "e1708901-1d50-4219-e92f-f557703d50e4"
      },
      "execution_count": 23,
      "outputs": [
        {
          "output_type": "stream",
          "name": "stdout",
          "text": [
            "Model: \"First_model\"\n",
            "_________________________________________________________________\n",
            " Layer (type)                Output Shape              Param #   \n",
            "=================================================================\n",
            " input1 (InputLayer)         [(None, 18)]              0         \n",
            "                                                                 \n",
            " embedding (Embedding)       (None, 18, 300)           2072100   \n",
            "                                                                 \n",
            " lstm (LSTM)                 (None, 100)               160400    \n",
            "                                                                 \n",
            " flatten (Flatten)           (None, 100)               0         \n",
            "                                                                 \n",
            " mainclass (Dense)           (None, 6)                 606       \n",
            "                                                                 \n",
            "=================================================================\n",
            "Total params: 2,233,106\n",
            "Trainable params: 161,006\n",
            "Non-trainable params: 2,072,100\n",
            "_________________________________________________________________\n"
          ]
        }
      ]
    },
    {
      "cell_type": "code",
      "source": [
        "EPOCHS_FIRST_MODEL = 100\n",
        "history_first_model = first_model.fit(x=train_padded,\n",
        "\ty=labels_1_train,\n",
        "\tvalidation_split=0.4,\n",
        "\tepochs=EPOCHS_FIRST_MODEL,\n",
        "  shuffle = True,\n",
        "\tverbose=1)"
      ],
      "metadata": {
        "id": "27nUlu9FYPQB"
      },
      "execution_count": null,
      "outputs": []
    },
    {
      "cell_type": "code",
      "source": [
        "history_first_model.history.keys()"
      ],
      "metadata": {
        "id": "M75dYpS0ZsJX"
      },
      "execution_count": null,
      "outputs": []
    },
    {
      "cell_type": "code",
      "source": [
        "epochs = [i for i in range(EPOCHS_FIRST_MODEL)]\n",
        "fig , ax = plt.subplots(1,2)\n",
        "train_acc = history_first_model.history['accuracy']\n",
        "train_loss = history_first_model.history['loss']\n",
        "val_acc = history_first_model.history['val_accuracy']\n",
        "val_loss = history_first_model.history['val_loss']\n",
        "fig.set_size_inches(15,5)\n",
        "\n",
        "ax[0].plot(epochs , train_acc , 'go-' , label = 'Training Main class Accuracy')\n",
        "ax[0].plot(epochs , val_acc , 'ro-' , label = 'Validation Main class Accuracy')\n",
        "ax[0].set_title(f'Training & Validation Main class Accuracy for {NUM_HIDDEN_STATES} hidden states')\n",
        "ax[0].legend()\n",
        "ax[0].set_xlabel(\"Epochs\")\n",
        "ax[0].set_ylabel(\"Accuracy\")\n",
        "\n",
        "ax[1].plot(epochs , train_loss , 'g-o' , label = 'Training Main class Loss')\n",
        "ax[1].plot(epochs , val_loss , 'r-o' , label = 'Validation Main class Loss')\n",
        "ax[1].set_title(f'Training & Validation Main class Loss for {NUM_HIDDEN_STATES} hidden states')\n",
        "ax[1].legend()\n",
        "ax[1].set_xlabel(\"Epochs\")\n",
        "ax[1].set_ylabel(\"Loss\")\n",
        "plt.show()"
      ],
      "metadata": {
        "colab": {
          "base_uri": "https://localhost:8080/",
          "height": 487
        },
        "id": "sJbqJ1pCZl9M",
        "outputId": "1b639ec3-6002-42cd-ce3e-9e7e5b47890a"
      },
      "execution_count": null,
      "outputs": [
        {
          "output_type": "display_data",
          "data": {
            "text/plain": [
              "<Figure size 1500x500 with 2 Axes>"
            ],
            "image/png": "[encoded data removed]"
          },
          "metadata": {}
        }
      ]
    },
    {
      "cell_type": "code",
      "source": [
        "predictions = first_model.predict(test_padded)"
      ],
      "metadata": {
        "colab": {
          "base_uri": "https://localhost:8080/"
        },
        "id": "nDbWeIXCb_UH",
        "outputId": "4f69e090-864e-4890-da1b-aa3df2839c69"
      },
      "execution_count": null,
      "outputs": [
        {
          "output_type": "stream",
          "name": "stdout",
          "text": [
            "16/16 [==============================] - 0s 2ms/step\n"
          ]
        }
      ]
    },
    {
      "cell_type": "code",
      "source": [
        "predictions.shape"
      ],
      "metadata": {
        "colab": {
          "base_uri": "https://localhost:8080/"
        },
        "id": "bhurIJPkcNsS",
        "outputId": "375b8d16-684f-476f-cbda-10ea59652904"
      },
      "execution_count": null,
      "outputs": [
        {
          "output_type": "execute_result",
          "data": {
            "text/plain": [
              "(500, 6)"
            ]
          },
          "metadata": {},
          "execution_count": 67
        }
      ]
    },
    {
      "cell_type": "code",
      "source": [
        "predictions_mainclass = []\n",
        "for x in predictions:\n",
        "  predictions_mainclass.append(x.argmax())\n",
        "\n",
        "predictions_mainclass = np.array(predictions_mainclass)\n",
        "predictions_mainclass.shape"
      ],
      "metadata": {
        "colab": {
          "base_uri": "https://localhost:8080/"
        },
        "id": "eZfPgZbncRLK",
        "outputId": "ce65fba4-9a50-4c4f-bfd1-72ef94bff262"
      },
      "execution_count": null,
      "outputs": [
        {
          "output_type": "execute_result",
          "data": {
            "text/plain": [
              "(500,)"
            ]
          },
          "metadata": {},
          "execution_count": 68
        }
      ]
    },
    {
      "cell_type": "code",
      "source": [
        "print(classification_report(labels_1_test,  predictions_mainclass))"
      ],
      "metadata": {
        "colab": {
          "base_uri": "https://localhost:8080/"
        },
        "id": "eybjALBycZr0",
        "outputId": "77240458-a0e5-47b5-aade-61af2742ca0f"
      },
      "execution_count": null,
      "outputs": [
        {
          "output_type": "stream",
          "name": "stdout",
          "text": [
            "              precision    recall  f1-score   support\n",
            "\n",
            "           0       0.52      0.96      0.67       138\n",
            "           1       0.59      0.40      0.48        94\n",
            "           2       0.00      0.00      0.00         9\n",
            "           3       0.56      0.43      0.49        65\n",
            "           4       0.92      0.43      0.59       113\n",
            "           5       0.59      0.56      0.57        81\n",
            "\n",
            "    accuracy                           0.59       500\n",
            "   macro avg       0.53      0.46      0.47       500\n",
            "weighted avg       0.63      0.59      0.57       500\n",
            "\n"
          ]
        },
        {
          "output_type": "stream",
          "name": "stderr",
          "text": [
            "/usr/local/lib/python3.10/dist-packages/sklearn/metrics/_classification.py:1344: UndefinedMetricWarning: Precision and F-score are ill-defined and being set to 0.0 in labels with no predicted samples. Use `zero_division` parameter to control this behavior.\n",
            "  _warn_prf(average, modifier, msg_start, len(result))\n",
            "/usr/local/lib/python3.10/dist-packages/sklearn/metrics/_classification.py:1344: UndefinedMetricWarning: Precision and F-score are ill-defined and being set to 0.0 in labels with no predicted samples. Use `zero_division` parameter to control this behavior.\n",
            "  _warn_prf(average, modifier, msg_start, len(result))\n",
            "/usr/local/lib/python3.10/dist-packages/sklearn/metrics/_classification.py:1344: UndefinedMetricWarning: Precision and F-score are ill-defined and being set to 0.0 in labels with no predicted samples. Use `zero_division` parameter to control this behavior.\n",
            "  _warn_prf(average, modifier, msg_start, len(result))\n"
          ]
        }
      ]
    },
    {
      "cell_type": "code",
      "source": [
        "result = confusion_matrix(labels_1_test, predictions_mainclass , normalize='pred')\n",
        "disp = ConfusionMatrixDisplay(result)\n",
        "disp.plot()"
      ],
      "metadata": {
        "colab": {
          "base_uri": "https://localhost:8080/",
          "height": 466
        },
        "id": "lpA45rR0c_-p",
        "outputId": "13e906fc-ad40-4755-e803-e299e1caa711"
      },
      "execution_count": null,
      "outputs": [
        {
          "output_type": "execute_result",
          "data": {
            "text/plain": [
              "<sklearn.metrics._plot.confusion_matrix.ConfusionMatrixDisplay at 0x7fcb8c316d10>"
            ]
          },
          "metadata": {},
          "execution_count": 70
        },
        {
          "output_type": "display_data",
          "data": {
            "text/plain": [
              "<Figure size 640x480 with 2 Axes>"
            ],
            "image/png": "[encoded data removed]"
          },
          "metadata": {}
        }
      ]
    },
    {
      "cell_type": "markdown",
      "source": [
        "**Building Second Model**"
      ],
      "metadata": {
        "id": "FycWNf1bdBIJ"
      }
    },
    {
      "cell_type": "code",
      "source": [
        "#Building the base model\n",
        "NUM_HEIDDEN_STATES = 100\n",
        "input_layer =  Input(shape=(max_length+1,), name = 'input1')\n",
        "embeddig = Embedding(vocab_size, 300, weights=[embedding_matrix], input_length =max_length+1 ,trainable=False)(input_layer)\n",
        "lstm = LSTM(NUM_HEIDDEN_STATES , return_sequences=True)(embeddig)\n",
        "\n",
        "#subclass prediction\n",
        "flat =  Flatten()(lstm[:,-1])\n",
        "first_predictions = Dense(num_sub_class,activation='softmax',name='subclass')(flat)\n",
        "#mainclass prediction\n",
        "flat_2 = Flatten()(lstm[:,-2])\n",
        "second_predictions = Dense(num_main_class,activation='softmax',name='mainclass')(flat_2)\n",
        "\n",
        "second_model = Model(inputs=input_layer, outputs=[first_predictions , second_predictions] , name=\"Second_model\")\n",
        "opt = optimizers.Adam(learning_rate=1e-)\n",
        "second_model.compile(optimizer=opt,\n",
        "                    loss={\n",
        "                          'subclass': 'sparse_categorical_crossentropy', \n",
        "                          'mainclass': 'sparse_categorical_crossentropy'\n",
        "                          },\n",
        "                    metrics={\n",
        "                          'subclass': 'accuracy', \n",
        "                          'mainclass': 'accuracy'\n",
        "                          })\n",
        "second_model.summary()"
      ],
      "metadata": {
        "id": "DQZhDi18TKGz",
        "colab": {
          "base_uri": "https://localhost:8080/"
        },
        "outputId": "3fea8cf0-c159-42c1-98e3-ecce1c22f90b"
      },
      "execution_count": 66,
      "outputs": [
        {
          "output_type": "stream",
          "name": "stdout",
          "text": [
            "Model: \"Second_model\"\n",
            "__________________________________________________________________________________________________\n",
            " Layer (type)                   Output Shape         Param #     Connected to                     \n",
            "==================================================================================================\n",
            " input1 (InputLayer)            [(None, 19)]         0           []                               \n",
            "                                                                                                  \n",
            " embedding_7 (Embedding)        (None, 19, 300)      2072100     ['input1[0][0]']                 \n",
            "                                                                                                  \n",
            " lstm_7 (LSTM)                  (None, 19, 100)      160400      ['embedding_7[0][0]']            \n",
            "                                                                                                  \n",
            " tf.__operators__.getitem_12 (S  (None, 100)         0           ['lstm_7[0][0]']                 \n",
            " licingOpLambda)                                                                                  \n",
            "                                                                                                  \n",
            " tf.__operators__.getitem_13 (S  (None, 100)         0           ['lstm_7[0][0]']                 \n",
            " licingOpLambda)                                                                                  \n",
            "                                                                                                  \n",
            " flatten_13 (Flatten)           (None, 100)          0           ['tf.__operators__.getitem_12[0][\n",
            "                                                                 0]']                             \n",
            "                                                                                                  \n",
            " flatten_14 (Flatten)           (None, 100)          0           ['tf.__operators__.getitem_13[0][\n",
            "                                                                 0]']                             \n",
            "                                                                                                  \n",
            " subclass (Dense)               (None, 47)           4747        ['flatten_13[0][0]']             \n",
            "                                                                                                  \n",
            " mainclass (Dense)              (None, 6)            606         ['flatten_14[0][0]']             \n",
            "                                                                                                  \n",
            "==================================================================================================\n",
            "Total params: 2,237,853\n",
            "Trainable params: 165,753\n",
            "Non-trainable params: 2,072,100\n",
            "__________________________________________________________________________________________________\n"
          ]
        }
      ]
    },
    {
      "cell_type": "code",
      "source": [
        "train_padded_model_2 = pad_sequences(train_padded, maxlen= max_length+1, padding= \"post\")\n",
        "test_padded_model_2 = pad_sequences(test_padded, maxlen= max_length+1, padding= \"post\")"
      ],
      "metadata": {
        "id": "ldjFPNhiShMF"
      },
      "execution_count": 67,
      "outputs": []
    },
    {
      "cell_type": "code",
      "source": [
        "EPOCHS_SECOND_MODEL = 200\n",
        "history = second_model.fit(x=train_padded_model_2,\n",
        "\ty={\"subclass\": labels_2_train, \"mainclass\": labels_1_train},\n",
        "\tvalidation_split=0.4,\n",
        "\tepochs=EPOCHS_SECOND_MODEL,\n",
        "\tverbose=1)"
      ],
      "metadata": {
        "id": "HCLe5GUEfG2T",
        "colab": {
          "base_uri": "https://localhost:8080/"
        },
        "outputId": "8a94e6eb-edfb-455e-d803-021f796a5f31"
      },
      "execution_count": 68,
      "outputs": [
        {
          "output_type": "stream",
          "name": "stdout",
          "text": [
            "Epoch 1/200\n",
            "103/103 [==============================] - 4s 18ms/step - loss: 5.6634 - subclass_loss: 3.8566 - mainclass_loss: 1.8068 - subclass_accuracy: 0.0177 - mainclass_accuracy: 0.1574 - val_loss: 5.6462 - val_subclass_loss: 3.8511 - val_mainclass_loss: 1.7951 - val_subclass_accuracy: 0.0229 - val_mainclass_accuracy: 0.1770\n",
            "Epoch 2/200\n",
            "103/103 [==============================] - 1s 10ms/step - loss: 5.6363 - subclass_loss: 3.8452 - mainclass_loss: 1.7911 - subclass_accuracy: 0.0266 - mainclass_accuracy: 0.1810 - val_loss: 5.6207 - val_subclass_loss: 3.8400 - val_mainclass_loss: 1.7807 - val_subclass_accuracy: 0.0321 - val_mainclass_accuracy: 0.2022\n",
            "Epoch 3/200\n",
            "103/103 [==============================] - 1s 11ms/step - loss: 5.6102 - subclass_loss: 3.8337 - mainclass_loss: 1.7765 - subclass_accuracy: 0.0410 - mainclass_accuracy: 0.2027 - val_loss: 5.5956 - val_subclass_loss: 3.8285 - val_mainclass_loss: 1.7672 - val_subclass_accuracy: 0.0486 - val_mainclass_accuracy: 0.2288\n",
            "Epoch 4/200\n",
            "103/103 [==============================] - 1s 7ms/step - loss: 5.5842 - subclass_loss: 3.8216 - mainclass_loss: 1.7625 - subclass_accuracy: 0.0559 - mainclass_accuracy: 0.2235 - val_loss: 5.5707 - val_subclass_loss: 3.8166 - val_mainclass_loss: 1.7542 - val_subclass_accuracy: 0.0624 - val_mainclass_accuracy: 0.2435\n",
            "Epoch 5/200\n",
            "103/103 [==============================] - 1s 8ms/step - loss: 5.5578 - subclass_loss: 3.8088 - mainclass_loss: 1.7490 - subclass_accuracy: 0.0761 - mainclass_accuracy: 0.2430 - val_loss: 5.5449 - val_subclass_loss: 3.8035 - val_mainclass_loss: 1.7413 - val_subclass_accuracy: 0.0825 - val_mainclass_accuracy: 0.2696\n",
            "Epoch 6/200\n",
            "103/103 [==============================] - 1s 7ms/step - loss: 5.5306 - subclass_loss: 3.7949 - mainclass_loss: 1.7357 - subclass_accuracy: 0.1036 - mainclass_accuracy: 0.2580 - val_loss: 5.5178 - val_subclass_loss: 3.7891 - val_mainclass_loss: 1.7287 - val_subclass_accuracy: 0.1114 - val_mainclass_accuracy: 0.2834\n",
            "Epoch 7/200\n",
            "103/103 [==============================] - 1s 7ms/step - loss: 5.5017 - subclass_loss: 3.7792 - mainclass_loss: 1.7225 - subclass_accuracy: 0.1226 - mainclass_accuracy: 0.2733 - val_loss: 5.4894 - val_subclass_loss: 3.7731 - val_mainclass_loss: 1.7164 - val_subclass_accuracy: 0.1288 - val_mainclass_accuracy: 0.2962\n",
            "Epoch 8/200\n",
            "103/103 [==============================] - 1s 8ms/step - loss: 5.4708 - subclass_loss: 3.7616 - mainclass_loss: 1.7092 - subclass_accuracy: 0.1425 - mainclass_accuracy: 0.2883 - val_loss: 5.4584 - val_subclass_loss: 3.7548 - val_mainclass_loss: 1.7036 - val_subclass_accuracy: 0.1431 - val_mainclass_accuracy: 0.3040\n",
            "Epoch 9/200\n",
            "103/103 [==============================] - 1s 7ms/step - loss: 5.4370 - subclass_loss: 3.7413 - mainclass_loss: 1.6958 - subclass_accuracy: 0.1544 - mainclass_accuracy: 0.3060 - val_loss: 5.4242 - val_subclass_loss: 3.7334 - val_mainclass_loss: 1.6908 - val_subclass_accuracy: 0.1531 - val_mainclass_accuracy: 0.3127\n",
            "Epoch 10/200\n",
            "103/103 [==============================] - 1s 7ms/step - loss: 5.3994 - subclass_loss: 3.7174 - mainclass_loss: 1.6820 - subclass_accuracy: 0.1681 - mainclass_accuracy: 0.3167 - val_loss: 5.3858 - val_subclass_loss: 3.7084 - val_mainclass_loss: 1.6775 - val_subclass_accuracy: 0.1628 - val_mainclass_accuracy: 0.3168\n",
            "Epoch 11/200\n",
            "103/103 [==============================] - 1s 7ms/step - loss: 5.3573 - subclass_loss: 3.6893 - mainclass_loss: 1.6680 - subclass_accuracy: 0.1749 - mainclass_accuracy: 0.3259 - val_loss: 5.3426 - val_subclass_loss: 3.6785 - val_mainclass_loss: 1.6641 - val_subclass_accuracy: 0.1719 - val_mainclass_accuracy: 0.3269\n",
            "Epoch 12/200\n",
            "103/103 [==============================] - 1s 7ms/step - loss: 5.3091 - subclass_loss: 3.6557 - mainclass_loss: 1.6534 - subclass_accuracy: 0.1773 - mainclass_accuracy: 0.3348 - val_loss: 5.2930 - val_subclass_loss: 3.6427 - val_mainclass_loss: 1.6503 - val_subclass_accuracy: 0.1770 - val_mainclass_accuracy: 0.3365\n",
            "Epoch 13/200\n",
            "103/103 [==============================] - 1s 8ms/step - loss: 5.2539 - subclass_loss: 3.6153 - mainclass_loss: 1.6386 - subclass_accuracy: 0.1819 - mainclass_accuracy: 0.3403 - val_loss: 5.2360 - val_subclass_loss: 3.5999 - val_mainclass_loss: 1.6361 - val_subclass_accuracy: 0.1784 - val_mainclass_accuracy: 0.3407\n",
            "Epoch 14/200\n",
            "103/103 [==============================] - 1s 7ms/step - loss: 5.1908 - subclass_loss: 3.5675 - mainclass_loss: 1.6233 - subclass_accuracy: 0.1825 - mainclass_accuracy: 0.3445 - val_loss: 5.1706 - val_subclass_loss: 3.5489 - val_mainclass_loss: 1.6216 - val_subclass_accuracy: 0.1802 - val_mainclass_accuracy: 0.3402\n",
            "Epoch 15/200\n",
            "103/103 [==============================] - 1s 8ms/step - loss: 5.1187 - subclass_loss: 3.5108 - mainclass_loss: 1.6079 - subclass_accuracy: 0.1828 - mainclass_accuracy: 0.3476 - val_loss: 5.0971 - val_subclass_loss: 3.4899 - val_mainclass_loss: 1.6072 - val_subclass_accuracy: 0.1784 - val_mainclass_accuracy: 0.3361\n",
            "Epoch 16/200\n",
            "103/103 [==============================] - 1s 7ms/step - loss: 5.0378 - subclass_loss: 3.4451 - mainclass_loss: 1.5927 - subclass_accuracy: 0.1859 - mainclass_accuracy: 0.3504 - val_loss: 5.0166 - val_subclass_loss: 3.4234 - val_mainclass_loss: 1.5932 - val_subclass_accuracy: 0.1765 - val_mainclass_accuracy: 0.3343\n",
            "Epoch 17/200\n",
            "103/103 [==============================] - 1s 10ms/step - loss: 4.9512 - subclass_loss: 3.3738 - mainclass_loss: 1.5774 - subclass_accuracy: 0.1834 - mainclass_accuracy: 0.3507 - val_loss: 4.9328 - val_subclass_loss: 3.3527 - val_mainclass_loss: 1.5801 - val_subclass_accuracy: 0.1747 - val_mainclass_accuracy: 0.3329\n",
            "Epoch 18/200\n",
            "103/103 [==============================] - 1s 10ms/step - loss: 4.8658 - subclass_loss: 3.3021 - mainclass_loss: 1.5637 - subclass_accuracy: 0.1798 - mainclass_accuracy: 0.3522 - val_loss: 4.8549 - val_subclass_loss: 3.2862 - val_mainclass_loss: 1.5687 - val_subclass_accuracy: 0.1751 - val_mainclass_accuracy: 0.3343\n",
            "Epoch 19/200\n",
            "103/103 [==============================] - 1s 10ms/step - loss: 4.7889 - subclass_loss: 3.2377 - mainclass_loss: 1.5513 - subclass_accuracy: 0.1795 - mainclass_accuracy: 0.3534 - val_loss: 4.7908 - val_subclass_loss: 3.2316 - val_mainclass_loss: 1.5592 - val_subclass_accuracy: 0.1747 - val_mainclass_accuracy: 0.3356\n",
            "Epoch 20/200\n",
            "103/103 [==============================] - 1s 7ms/step - loss: 4.7288 - subclass_loss: 3.1873 - mainclass_loss: 1.5416 - subclass_accuracy: 0.1795 - mainclass_accuracy: 0.3555 - val_loss: 4.7424 - val_subclass_loss: 3.1914 - val_mainclass_loss: 1.5510 - val_subclass_accuracy: 0.1747 - val_mainclass_accuracy: 0.3407\n",
            "Epoch 21/200\n",
            "103/103 [==============================] - 1s 8ms/step - loss: 4.6839 - subclass_loss: 3.1517 - mainclass_loss: 1.5321 - subclass_accuracy: 0.1795 - mainclass_accuracy: 0.3617 - val_loss: 4.7065 - val_subclass_loss: 3.1634 - val_mainclass_loss: 1.5431 - val_subclass_accuracy: 0.1747 - val_mainclass_accuracy: 0.3535\n",
            "Epoch 22/200\n",
            "103/103 [==============================] - 1s 7ms/step - loss: 4.6490 - subclass_loss: 3.1256 - mainclass_loss: 1.5234 - subclass_accuracy: 0.1795 - mainclass_accuracy: 0.3925 - val_loss: 4.6765 - val_subclass_loss: 3.1418 - val_mainclass_loss: 1.5347 - val_subclass_accuracy: 0.1747 - val_mainclass_accuracy: 0.3677\n",
            "Epoch 23/200\n",
            "103/103 [==============================] - 1s 7ms/step - loss: 4.6191 - subclass_loss: 3.1047 - mainclass_loss: 1.5144 - subclass_accuracy: 0.1813 - mainclass_accuracy: 0.4084 - val_loss: 4.6505 - val_subclass_loss: 3.1238 - val_mainclass_loss: 1.5268 - val_subclass_accuracy: 0.1765 - val_mainclass_accuracy: 0.3939\n",
            "Epoch 24/200\n",
            "103/103 [==============================] - 1s 8ms/step - loss: 4.5927 - subclass_loss: 3.0871 - mainclass_loss: 1.5056 - subclass_accuracy: 0.1828 - mainclass_accuracy: 0.4197 - val_loss: 4.6272 - val_subclass_loss: 3.1087 - val_mainclass_loss: 1.5185 - val_subclass_accuracy: 0.1802 - val_mainclass_accuracy: 0.4127\n",
            "Epoch 25/200\n",
            "103/103 [==============================] - 1s 7ms/step - loss: 4.5684 - subclass_loss: 3.0716 - mainclass_loss: 1.4968 - subclass_accuracy: 0.1856 - mainclass_accuracy: 0.4317 - val_loss: 4.6048 - val_subclass_loss: 3.0950 - val_mainclass_loss: 1.5098 - val_subclass_accuracy: 0.1834 - val_mainclass_accuracy: 0.4223\n",
            "Epoch 26/200\n",
            "103/103 [==============================] - 1s 7ms/step - loss: 4.5452 - subclass_loss: 3.0571 - mainclass_loss: 1.4881 - subclass_accuracy: 0.1899 - mainclass_accuracy: 0.4396 - val_loss: 4.5836 - val_subclass_loss: 3.0821 - val_mainclass_loss: 1.5015 - val_subclass_accuracy: 0.1898 - val_mainclass_accuracy: 0.4264\n",
            "Epoch 27/200\n",
            "103/103 [==============================] - 1s 8ms/step - loss: 4.5227 - subclass_loss: 3.0441 - mainclass_loss: 1.4786 - subclass_accuracy: 0.1935 - mainclass_accuracy: 0.4470 - val_loss: 4.5631 - val_subclass_loss: 3.0700 - val_mainclass_loss: 1.4931 - val_subclass_accuracy: 0.1944 - val_mainclass_accuracy: 0.4356\n",
            "Epoch 28/200\n",
            "103/103 [==============================] - 1s 8ms/step - loss: 4.5008 - subclass_loss: 3.0310 - mainclass_loss: 1.4698 - subclass_accuracy: 0.1972 - mainclass_accuracy: 0.4546 - val_loss: 4.5428 - val_subclass_loss: 3.0584 - val_mainclass_loss: 1.4843 - val_subclass_accuracy: 0.1967 - val_mainclass_accuracy: 0.4443\n",
            "Epoch 29/200\n",
            "103/103 [==============================] - 1s 7ms/step - loss: 4.4791 - subclass_loss: 3.0186 - mainclass_loss: 1.4605 - subclass_accuracy: 0.2018 - mainclass_accuracy: 0.4580 - val_loss: 4.5228 - val_subclass_loss: 3.0473 - val_mainclass_loss: 1.4755 - val_subclass_accuracy: 0.2008 - val_mainclass_accuracy: 0.4544\n",
            "Epoch 30/200\n",
            "103/103 [==============================] - 1s 8ms/step - loss: 4.4578 - subclass_loss: 3.0065 - mainclass_loss: 1.4513 - subclass_accuracy: 0.2033 - mainclass_accuracy: 0.4650 - val_loss: 4.5030 - val_subclass_loss: 3.0364 - val_mainclass_loss: 1.4666 - val_subclass_accuracy: 0.2040 - val_mainclass_accuracy: 0.4622\n",
            "Epoch 31/200\n",
            "103/103 [==============================] - 1s 7ms/step - loss: 4.4366 - subclass_loss: 2.9951 - mainclass_loss: 1.4415 - subclass_accuracy: 0.2106 - mainclass_accuracy: 0.4732 - val_loss: 4.4832 - val_subclass_loss: 3.0254 - val_mainclass_loss: 1.4578 - val_subclass_accuracy: 0.2063 - val_mainclass_accuracy: 0.4668\n",
            "Epoch 32/200\n",
            "103/103 [==============================] - 1s 7ms/step - loss: 4.4150 - subclass_loss: 2.9829 - mainclass_loss: 1.4322 - subclass_accuracy: 0.2155 - mainclass_accuracy: 0.4763 - val_loss: 4.4628 - val_subclass_loss: 3.0145 - val_mainclass_loss: 1.4483 - val_subclass_accuracy: 0.2086 - val_mainclass_accuracy: 0.4750\n",
            "Epoch 33/200\n",
            "103/103 [==============================] - 1s 13ms/step - loss: 4.3937 - subclass_loss: 2.9713 - mainclass_loss: 1.4224 - subclass_accuracy: 0.2171 - mainclass_accuracy: 0.4846 - val_loss: 4.4426 - val_subclass_loss: 3.0033 - val_mainclass_loss: 1.4393 - val_subclass_accuracy: 0.2114 - val_mainclass_accuracy: 0.4805\n",
            "Epoch 34/200\n",
            "103/103 [==============================] - 1s 10ms/step - loss: 4.3721 - subclass_loss: 2.9594 - mainclass_loss: 1.4128 - subclass_accuracy: 0.2213 - mainclass_accuracy: 0.4861 - val_loss: 4.4217 - val_subclass_loss: 2.9922 - val_mainclass_loss: 1.4295 - val_subclass_accuracy: 0.2150 - val_mainclass_accuracy: 0.4833\n",
            "Epoch 35/200\n",
            "103/103 [==============================] - 1s 11ms/step - loss: 4.3503 - subclass_loss: 2.9473 - mainclass_loss: 1.4029 - subclass_accuracy: 0.2235 - mainclass_accuracy: 0.4928 - val_loss: 4.4017 - val_subclass_loss: 2.9810 - val_mainclass_loss: 1.4207 - val_subclass_accuracy: 0.2205 - val_mainclass_accuracy: 0.4842\n",
            "Epoch 36/200\n",
            "103/103 [==============================] - 1s 8ms/step - loss: 4.3284 - subclass_loss: 2.9352 - mainclass_loss: 1.3933 - subclass_accuracy: 0.2244 - mainclass_accuracy: 0.4919 - val_loss: 4.3807 - val_subclass_loss: 2.9695 - val_mainclass_loss: 1.4112 - val_subclass_accuracy: 0.2228 - val_mainclass_accuracy: 0.4943\n",
            "Epoch 37/200\n",
            "103/103 [==============================] - 1s 7ms/step - loss: 4.3065 - subclass_loss: 2.9230 - mainclass_loss: 1.3835 - subclass_accuracy: 0.2302 - mainclass_accuracy: 0.4946 - val_loss: 4.3603 - val_subclass_loss: 2.9581 - val_mainclass_loss: 1.4022 - val_subclass_accuracy: 0.2265 - val_mainclass_accuracy: 0.4943\n",
            "Epoch 38/200\n",
            "103/103 [==============================] - 1s 8ms/step - loss: 4.2842 - subclass_loss: 2.9104 - mainclass_loss: 1.3739 - subclass_accuracy: 0.2366 - mainclass_accuracy: 0.4995 - val_loss: 4.3389 - val_subclass_loss: 2.9461 - val_mainclass_loss: 1.3928 - val_subclass_accuracy: 0.2352 - val_mainclass_accuracy: 0.4979\n",
            "Epoch 39/200\n",
            "103/103 [==============================] - 1s 7ms/step - loss: 4.2618 - subclass_loss: 2.8976 - mainclass_loss: 1.3642 - subclass_accuracy: 0.2421 - mainclass_accuracy: 0.5032 - val_loss: 4.3175 - val_subclass_loss: 2.9342 - val_mainclass_loss: 1.3833 - val_subclass_accuracy: 0.2444 - val_mainclass_accuracy: 0.4993\n",
            "Epoch 40/200\n",
            "103/103 [==============================] - 1s 7ms/step - loss: 4.2394 - subclass_loss: 2.8851 - mainclass_loss: 1.3544 - subclass_accuracy: 0.2596 - mainclass_accuracy: 0.5084 - val_loss: 4.2957 - val_subclass_loss: 2.9219 - val_mainclass_loss: 1.3738 - val_subclass_accuracy: 0.2581 - val_mainclass_accuracy: 0.5039\n",
            "Epoch 41/200\n",
            "103/103 [==============================] - 1s 8ms/step - loss: 4.2166 - subclass_loss: 2.8718 - mainclass_loss: 1.3448 - subclass_accuracy: 0.2666 - mainclass_accuracy: 0.5139 - val_loss: 4.2742 - val_subclass_loss: 2.9095 - val_mainclass_loss: 1.3648 - val_subclass_accuracy: 0.2687 - val_mainclass_accuracy: 0.5048\n",
            "Epoch 42/200\n",
            "103/103 [==============================] - 1s 7ms/step - loss: 4.1939 - subclass_loss: 2.8587 - mainclass_loss: 1.3352 - subclass_accuracy: 0.2718 - mainclass_accuracy: 0.5130 - val_loss: 4.2529 - val_subclass_loss: 2.8971 - val_mainclass_loss: 1.3558 - val_subclass_accuracy: 0.2801 - val_mainclass_accuracy: 0.5057\n",
            "Epoch 43/200\n",
            "103/103 [==============================] - 1s 8ms/step - loss: 4.1712 - subclass_loss: 2.8455 - mainclass_loss: 1.3257 - subclass_accuracy: 0.2773 - mainclass_accuracy: 0.5167 - val_loss: 4.2321 - val_subclass_loss: 2.8846 - val_mainclass_loss: 1.3475 - val_subclass_accuracy: 0.2884 - val_mainclass_accuracy: 0.5085\n",
            "Epoch 44/200\n",
            "103/103 [==============================] - 1s 7ms/step - loss: 4.1491 - subclass_loss: 2.8320 - mainclass_loss: 1.3171 - subclass_accuracy: 0.2803 - mainclass_accuracy: 0.5167 - val_loss: 4.2112 - val_subclass_loss: 2.8722 - val_mainclass_loss: 1.3391 - val_subclass_accuracy: 0.2921 - val_mainclass_accuracy: 0.5080\n",
            "Epoch 45/200\n",
            "103/103 [==============================] - 1s 8ms/step - loss: 4.1266 - subclass_loss: 2.8189 - mainclass_loss: 1.3078 - subclass_accuracy: 0.2819 - mainclass_accuracy: 0.5206 - val_loss: 4.1903 - val_subclass_loss: 2.8593 - val_mainclass_loss: 1.3310 - val_subclass_accuracy: 0.2916 - val_mainclass_accuracy: 0.5112\n",
            "Epoch 46/200\n",
            "103/103 [==============================] - 1s 8ms/step - loss: 4.1045 - subclass_loss: 2.8053 - mainclass_loss: 1.2992 - subclass_accuracy: 0.2865 - mainclass_accuracy: 0.5176 - val_loss: 4.1701 - val_subclass_loss: 2.8468 - val_mainclass_loss: 1.3233 - val_subclass_accuracy: 0.2930 - val_mainclass_accuracy: 0.5131\n",
            "Epoch 47/200\n",
            "103/103 [==============================] - 1s 7ms/step - loss: 4.0827 - subclass_loss: 2.7916 - mainclass_loss: 1.2911 - subclass_accuracy: 0.2901 - mainclass_accuracy: 0.5234 - val_loss: 4.1502 - val_subclass_loss: 2.8343 - val_mainclass_loss: 1.3159 - val_subclass_accuracy: 0.2944 - val_mainclass_accuracy: 0.5131\n",
            "Epoch 48/200\n",
            "103/103 [==============================] - 1s 9ms/step - loss: 4.0611 - subclass_loss: 2.7786 - mainclass_loss: 1.2825 - subclass_accuracy: 0.2910 - mainclass_accuracy: 0.5277 - val_loss: 4.1308 - val_subclass_loss: 2.8219 - val_mainclass_loss: 1.3089 - val_subclass_accuracy: 0.2948 - val_mainclass_accuracy: 0.5108\n",
            "Epoch 49/200\n",
            "103/103 [==============================] - 1s 10ms/step - loss: 4.0399 - subclass_loss: 2.7654 - mainclass_loss: 1.2745 - subclass_accuracy: 0.2935 - mainclass_accuracy: 0.5261 - val_loss: 4.1114 - val_subclass_loss: 2.8094 - val_mainclass_loss: 1.3020 - val_subclass_accuracy: 0.2944 - val_mainclass_accuracy: 0.5144\n",
            "Epoch 50/200\n",
            "103/103 [==============================] - 1s 10ms/step - loss: 4.0192 - subclass_loss: 2.7520 - mainclass_loss: 1.2672 - subclass_accuracy: 0.2941 - mainclass_accuracy: 0.5310 - val_loss: 4.0937 - val_subclass_loss: 2.7979 - val_mainclass_loss: 1.2958 - val_subclass_accuracy: 0.2967 - val_mainclass_accuracy: 0.5117\n",
            "Epoch 51/200\n",
            "103/103 [==============================] - 1s 10ms/step - loss: 3.9988 - subclass_loss: 2.7391 - mainclass_loss: 1.2598 - subclass_accuracy: 0.2947 - mainclass_accuracy: 0.5323 - val_loss: 4.0754 - val_subclass_loss: 2.7859 - val_mainclass_loss: 1.2895 - val_subclass_accuracy: 0.2980 - val_mainclass_accuracy: 0.5140\n",
            "Epoch 52/200\n",
            "103/103 [==============================] - 1s 8ms/step - loss: 3.9792 - subclass_loss: 2.7264 - mainclass_loss: 1.2528 - subclass_accuracy: 0.2987 - mainclass_accuracy: 0.5344 - val_loss: 4.0582 - val_subclass_loss: 2.7744 - val_mainclass_loss: 1.2838 - val_subclass_accuracy: 0.2971 - val_mainclass_accuracy: 0.5149\n",
            "Epoch 53/200\n",
            "103/103 [==============================] - 1s 7ms/step - loss: 3.9599 - subclass_loss: 2.7143 - mainclass_loss: 1.2456 - subclass_accuracy: 0.2996 - mainclass_accuracy: 0.5381 - val_loss: 4.0420 - val_subclass_loss: 2.7637 - val_mainclass_loss: 1.2783 - val_subclass_accuracy: 0.2971 - val_mainclass_accuracy: 0.5140\n",
            "Epoch 54/200\n",
            "103/103 [==============================] - 1s 8ms/step - loss: 3.9409 - subclass_loss: 2.7021 - mainclass_loss: 1.2389 - subclass_accuracy: 0.3002 - mainclass_accuracy: 0.5411 - val_loss: 4.0257 - val_subclass_loss: 2.7527 - val_mainclass_loss: 1.2730 - val_subclass_accuracy: 0.2976 - val_mainclass_accuracy: 0.5163\n",
            "Epoch 55/200\n",
            "103/103 [==============================] - 1s 8ms/step - loss: 3.9229 - subclass_loss: 2.6903 - mainclass_loss: 1.2327 - subclass_accuracy: 0.3008 - mainclass_accuracy: 0.5436 - val_loss: 4.0099 - val_subclass_loss: 2.7421 - val_mainclass_loss: 1.2679 - val_subclass_accuracy: 0.2994 - val_mainclass_accuracy: 0.5163\n",
            "Epoch 56/200\n",
            "103/103 [==============================] - 1s 8ms/step - loss: 3.9049 - subclass_loss: 2.6787 - mainclass_loss: 1.2262 - subclass_accuracy: 0.3039 - mainclass_accuracy: 0.5485 - val_loss: 3.9949 - val_subclass_loss: 2.7320 - val_mainclass_loss: 1.2629 - val_subclass_accuracy: 0.2999 - val_mainclass_accuracy: 0.5186\n",
            "Epoch 57/200\n",
            "103/103 [==============================] - 1s 8ms/step - loss: 3.8875 - subclass_loss: 2.6676 - mainclass_loss: 1.2200 - subclass_accuracy: 0.3042 - mainclass_accuracy: 0.5509 - val_loss: 3.9806 - val_subclass_loss: 2.7223 - val_mainclass_loss: 1.2583 - val_subclass_accuracy: 0.3017 - val_mainclass_accuracy: 0.5222\n",
            "Epoch 58/200\n",
            "103/103 [==============================] - 1s 7ms/step - loss: 3.8707 - subclass_loss: 2.6566 - mainclass_loss: 1.2141 - subclass_accuracy: 0.3057 - mainclass_accuracy: 0.5515 - val_loss: 3.9668 - val_subclass_loss: 2.7129 - val_mainclass_loss: 1.2538 - val_subclass_accuracy: 0.3035 - val_mainclass_accuracy: 0.5241\n",
            "Epoch 59/200\n",
            "103/103 [==============================] - 1s 8ms/step - loss: 3.8542 - subclass_loss: 2.6461 - mainclass_loss: 1.2081 - subclass_accuracy: 0.3066 - mainclass_accuracy: 0.5564 - val_loss: 3.9527 - val_subclass_loss: 2.7033 - val_mainclass_loss: 1.2493 - val_subclass_accuracy: 0.3054 - val_mainclass_accuracy: 0.5268\n",
            "Epoch 60/200\n",
            "103/103 [==============================] - 1s 7ms/step - loss: 3.8387 - subclass_loss: 2.6358 - mainclass_loss: 1.2029 - subclass_accuracy: 0.3079 - mainclass_accuracy: 0.5592 - val_loss: 3.9401 - val_subclass_loss: 2.6946 - val_mainclass_loss: 1.2455 - val_subclass_accuracy: 0.3044 - val_mainclass_accuracy: 0.5254\n",
            "Epoch 61/200\n",
            "103/103 [==============================] - 1s 7ms/step - loss: 3.8226 - subclass_loss: 2.6254 - mainclass_loss: 1.1972 - subclass_accuracy: 0.3100 - mainclass_accuracy: 0.5634 - val_loss: 3.9274 - val_subclass_loss: 2.6859 - val_mainclass_loss: 1.2415 - val_subclass_accuracy: 0.3049 - val_mainclass_accuracy: 0.5273\n",
            "Epoch 62/200\n",
            "103/103 [==============================] - 1s 7ms/step - loss: 3.8071 - subclass_loss: 2.6154 - mainclass_loss: 1.1917 - subclass_accuracy: 0.3115 - mainclass_accuracy: 0.5619 - val_loss: 3.9154 - val_subclass_loss: 2.6781 - val_mainclass_loss: 1.2373 - val_subclass_accuracy: 0.3067 - val_mainclass_accuracy: 0.5323\n",
            "Epoch 63/200\n",
            "103/103 [==============================] - 1s 8ms/step - loss: 3.7926 - subclass_loss: 2.6063 - mainclass_loss: 1.1864 - subclass_accuracy: 0.3131 - mainclass_accuracy: 0.5683 - val_loss: 3.9037 - val_subclass_loss: 2.6698 - val_mainclass_loss: 1.2340 - val_subclass_accuracy: 0.3072 - val_mainclass_accuracy: 0.5346\n",
            "Epoch 64/200\n",
            "103/103 [==============================] - 1s 8ms/step - loss: 3.7777 - subclass_loss: 2.5965 - mainclass_loss: 1.1813 - subclass_accuracy: 0.3167 - mainclass_accuracy: 0.5671 - val_loss: 3.8924 - val_subclass_loss: 2.6619 - val_mainclass_loss: 1.2305 - val_subclass_accuracy: 0.3104 - val_mainclass_accuracy: 0.5342\n",
            "Epoch 65/200\n",
            "103/103 [==============================] - 1s 10ms/step - loss: 3.7633 - subclass_loss: 2.5872 - mainclass_loss: 1.1760 - subclass_accuracy: 0.3173 - mainclass_accuracy: 0.5717 - val_loss: 3.8808 - val_subclass_loss: 2.6538 - val_mainclass_loss: 1.2269 - val_subclass_accuracy: 0.3159 - val_mainclass_accuracy: 0.5342\n",
            "Epoch 66/200\n",
            "103/103 [==============================] - 1s 10ms/step - loss: 3.7499 - subclass_loss: 2.5785 - mainclass_loss: 1.1714 - subclass_accuracy: 0.3179 - mainclass_accuracy: 0.5708 - val_loss: 3.8698 - val_subclass_loss: 2.6462 - val_mainclass_loss: 1.2237 - val_subclass_accuracy: 0.3173 - val_mainclass_accuracy: 0.5360\n",
            "Epoch 67/200\n",
            "103/103 [==============================] - 1s 10ms/step - loss: 3.7355 - subclass_loss: 2.5692 - mainclass_loss: 1.1663 - subclass_accuracy: 0.3186 - mainclass_accuracy: 0.5726 - val_loss: 3.8594 - val_subclass_loss: 2.6392 - val_mainclass_loss: 1.2202 - val_subclass_accuracy: 0.3182 - val_mainclass_accuracy: 0.5374\n",
            "Epoch 68/200\n",
            "103/103 [==============================] - 1s 7ms/step - loss: 3.7216 - subclass_loss: 2.5604 - mainclass_loss: 1.1612 - subclass_accuracy: 0.3207 - mainclass_accuracy: 0.5751 - val_loss: 3.8505 - val_subclass_loss: 2.6334 - val_mainclass_loss: 1.2171 - val_subclass_accuracy: 0.3182 - val_mainclass_accuracy: 0.5387\n",
            "Epoch 69/200\n",
            "103/103 [==============================] - 1s 8ms/step - loss: 3.7085 - subclass_loss: 2.5518 - mainclass_loss: 1.1567 - subclass_accuracy: 0.3225 - mainclass_accuracy: 0.5760 - val_loss: 3.8390 - val_subclass_loss: 2.6252 - val_mainclass_loss: 1.2138 - val_subclass_accuracy: 0.3205 - val_mainclass_accuracy: 0.5420\n",
            "Epoch 70/200\n",
            "103/103 [==============================] - 1s 7ms/step - loss: 3.6952 - subclass_loss: 2.5433 - mainclass_loss: 1.1519 - subclass_accuracy: 0.3250 - mainclass_accuracy: 0.5796 - val_loss: 3.8302 - val_subclass_loss: 2.6191 - val_mainclass_loss: 1.2111 - val_subclass_accuracy: 0.3214 - val_mainclass_accuracy: 0.5415\n",
            "Epoch 71/200\n",
            "103/103 [==============================] - 1s 8ms/step - loss: 3.6822 - subclass_loss: 2.5351 - mainclass_loss: 1.1471 - subclass_accuracy: 0.3259 - mainclass_accuracy: 0.5809 - val_loss: 3.8198 - val_subclass_loss: 2.6116 - val_mainclass_loss: 1.2082 - val_subclass_accuracy: 0.3223 - val_mainclass_accuracy: 0.5438\n",
            "Epoch 72/200\n",
            "103/103 [==============================] - 1s 8ms/step - loss: 3.6695 - subclass_loss: 2.5268 - mainclass_loss: 1.1427 - subclass_accuracy: 0.3286 - mainclass_accuracy: 0.5796 - val_loss: 3.8122 - val_subclass_loss: 2.6068 - val_mainclass_loss: 1.2054 - val_subclass_accuracy: 0.3214 - val_mainclass_accuracy: 0.5461\n",
            "Epoch 73/200\n",
            "103/103 [==============================] - 1s 7ms/step - loss: 3.6565 - subclass_loss: 2.5184 - mainclass_loss: 1.1381 - subclass_accuracy: 0.3296 - mainclass_accuracy: 0.5833 - val_loss: 3.8012 - val_subclass_loss: 2.5991 - val_mainclass_loss: 1.2021 - val_subclass_accuracy: 0.3237 - val_mainclass_accuracy: 0.5475\n",
            "Epoch 74/200\n",
            "103/103 [==============================] - 1s 7ms/step - loss: 3.6439 - subclass_loss: 2.5104 - mainclass_loss: 1.1335 - subclass_accuracy: 0.3332 - mainclass_accuracy: 0.5833 - val_loss: 3.7924 - val_subclass_loss: 2.5930 - val_mainclass_loss: 1.1994 - val_subclass_accuracy: 0.3251 - val_mainclass_accuracy: 0.5470\n",
            "Epoch 75/200\n",
            "103/103 [==============================] - 1s 7ms/step - loss: 3.6318 - subclass_loss: 2.5024 - mainclass_loss: 1.1294 - subclass_accuracy: 0.3341 - mainclass_accuracy: 0.5858 - val_loss: 3.7842 - val_subclass_loss: 2.5873 - val_mainclass_loss: 1.1969 - val_subclass_accuracy: 0.3265 - val_mainclass_accuracy: 0.5502\n",
            "Epoch 76/200\n",
            "103/103 [==============================] - 1s 7ms/step - loss: 3.6192 - subclass_loss: 2.4946 - mainclass_loss: 1.1246 - subclass_accuracy: 0.3360 - mainclass_accuracy: 0.5882 - val_loss: 3.7753 - val_subclass_loss: 2.5813 - val_mainclass_loss: 1.1940 - val_subclass_accuracy: 0.3265 - val_mainclass_accuracy: 0.5507\n",
            "Epoch 77/200\n",
            "103/103 [==============================] - 1s 8ms/step - loss: 3.6076 - subclass_loss: 2.4874 - mainclass_loss: 1.1202 - subclass_accuracy: 0.3360 - mainclass_accuracy: 0.5879 - val_loss: 3.7661 - val_subclass_loss: 2.5749 - val_mainclass_loss: 1.1911 - val_subclass_accuracy: 0.3292 - val_mainclass_accuracy: 0.5502\n",
            "Epoch 78/200\n",
            "103/103 [==============================] - 1s 7ms/step - loss: 3.5954 - subclass_loss: 2.4794 - mainclass_loss: 1.1160 - subclass_accuracy: 0.3378 - mainclass_accuracy: 0.5873 - val_loss: 3.7580 - val_subclass_loss: 2.5693 - val_mainclass_loss: 1.1887 - val_subclass_accuracy: 0.3297 - val_mainclass_accuracy: 0.5534\n",
            "Epoch 79/200\n",
            "103/103 [==============================] - 1s 8ms/step - loss: 3.5837 - subclass_loss: 2.4718 - mainclass_loss: 1.1119 - subclass_accuracy: 0.3378 - mainclass_accuracy: 0.5879 - val_loss: 3.7495 - val_subclass_loss: 2.5628 - val_mainclass_loss: 1.1868 - val_subclass_accuracy: 0.3315 - val_mainclass_accuracy: 0.5520\n",
            "Epoch 80/200\n",
            "103/103 [==============================] - 1s 9ms/step - loss: 3.5725 - subclass_loss: 2.4642 - mainclass_loss: 1.1083 - subclass_accuracy: 0.3473 - mainclass_accuracy: 0.5903 - val_loss: 3.7418 - val_subclass_loss: 2.5574 - val_mainclass_loss: 1.1844 - val_subclass_accuracy: 0.3287 - val_mainclass_accuracy: 0.5534\n",
            "Epoch 81/200\n",
            "103/103 [==============================] - 1s 10ms/step - loss: 3.5599 - subclass_loss: 2.4562 - mainclass_loss: 1.1036 - subclass_accuracy: 0.3528 - mainclass_accuracy: 0.5977 - val_loss: 3.7348 - val_subclass_loss: 2.5528 - val_mainclass_loss: 1.1821 - val_subclass_accuracy: 0.3292 - val_mainclass_accuracy: 0.5562\n",
            "Epoch 82/200\n",
            "103/103 [==============================] - 1s 10ms/step - loss: 3.5491 - subclass_loss: 2.4491 - mainclass_loss: 1.1000 - subclass_accuracy: 0.3562 - mainclass_accuracy: 0.5931 - val_loss: 3.7264 - val_subclass_loss: 2.5469 - val_mainclass_loss: 1.1795 - val_subclass_accuracy: 0.3315 - val_mainclass_accuracy: 0.5539\n",
            "Epoch 83/200\n",
            "103/103 [==============================] - 1s 10ms/step - loss: 3.5378 - subclass_loss: 2.4424 - mainclass_loss: 1.0954 - subclass_accuracy: 0.3552 - mainclass_accuracy: 0.5971 - val_loss: 3.7184 - val_subclass_loss: 2.5407 - val_mainclass_loss: 1.1777 - val_subclass_accuracy: 0.3411 - val_mainclass_accuracy: 0.5520\n",
            "Epoch 84/200\n",
            "103/103 [==============================] - 1s 8ms/step - loss: 3.5264 - subclass_loss: 2.4348 - mainclass_loss: 1.0916 - subclass_accuracy: 0.3611 - mainclass_accuracy: 0.5968 - val_loss: 3.7111 - val_subclass_loss: 2.5355 - val_mainclass_loss: 1.1756 - val_subclass_accuracy: 0.3425 - val_mainclass_accuracy: 0.5516\n",
            "Epoch 85/200\n",
            "103/103 [==============================] - 1s 8ms/step - loss: 3.5159 - subclass_loss: 2.4277 - mainclass_loss: 1.0882 - subclass_accuracy: 0.3650 - mainclass_accuracy: 0.5992 - val_loss: 3.7038 - val_subclass_loss: 2.5301 - val_mainclass_loss: 1.1737 - val_subclass_accuracy: 0.3420 - val_mainclass_accuracy: 0.5539\n",
            "Epoch 86/200\n",
            "103/103 [==============================] - 1s 7ms/step - loss: 3.5040 - subclass_loss: 2.4199 - mainclass_loss: 1.0842 - subclass_accuracy: 0.3678 - mainclass_accuracy: 0.6023 - val_loss: 3.6970 - val_subclass_loss: 2.5259 - val_mainclass_loss: 1.1711 - val_subclass_accuracy: 0.3430 - val_mainclass_accuracy: 0.5585\n",
            "Epoch 87/200\n",
            "103/103 [==============================] - 1s 8ms/step - loss: 3.4934 - subclass_loss: 2.4134 - mainclass_loss: 1.0801 - subclass_accuracy: 0.3656 - mainclass_accuracy: 0.6053 - val_loss: 3.6892 - val_subclass_loss: 2.5204 - val_mainclass_loss: 1.1688 - val_subclass_accuracy: 0.3462 - val_mainclass_accuracy: 0.5566\n",
            "Epoch 88/200\n",
            "103/103 [==============================] - 1s 7ms/step - loss: 3.4828 - subclass_loss: 2.4064 - mainclass_loss: 1.0765 - subclass_accuracy: 0.3693 - mainclass_accuracy: 0.6053 - val_loss: 3.6821 - val_subclass_loss: 2.5152 - val_mainclass_loss: 1.1670 - val_subclass_accuracy: 0.3448 - val_mainclass_accuracy: 0.5580\n",
            "Epoch 89/200\n",
            "103/103 [==============================] - 1s 7ms/step - loss: 3.4721 - subclass_loss: 2.3993 - mainclass_loss: 1.0728 - subclass_accuracy: 0.3714 - mainclass_accuracy: 0.6075 - val_loss: 3.6750 - val_subclass_loss: 2.5100 - val_mainclass_loss: 1.1650 - val_subclass_accuracy: 0.3443 - val_mainclass_accuracy: 0.5589\n",
            "Epoch 90/200\n",
            "103/103 [==============================] - 1s 7ms/step - loss: 3.4612 - subclass_loss: 2.3926 - mainclass_loss: 1.0687 - subclass_accuracy: 0.3714 - mainclass_accuracy: 0.6072 - val_loss: 3.6681 - val_subclass_loss: 2.5051 - val_mainclass_loss: 1.1630 - val_subclass_accuracy: 0.3471 - val_mainclass_accuracy: 0.5608\n",
            "Epoch 91/200\n",
            "103/103 [==============================] - 1s 8ms/step - loss: 3.4513 - subclass_loss: 2.3859 - mainclass_loss: 1.0654 - subclass_accuracy: 0.3708 - mainclass_accuracy: 0.6111 - val_loss: 3.6619 - val_subclass_loss: 2.5007 - val_mainclass_loss: 1.1612 - val_subclass_accuracy: 0.3471 - val_mainclass_accuracy: 0.5612\n",
            "Epoch 92/200\n",
            "103/103 [==============================] - 1s 8ms/step - loss: 3.4401 - subclass_loss: 2.3788 - mainclass_loss: 1.0613 - subclass_accuracy: 0.3739 - mainclass_accuracy: 0.6105 - val_loss: 3.6546 - val_subclass_loss: 2.4951 - val_mainclass_loss: 1.1595 - val_subclass_accuracy: 0.3457 - val_mainclass_accuracy: 0.5608\n",
            "Epoch 93/200\n",
            "103/103 [==============================] - 1s 8ms/step - loss: 3.4300 - subclass_loss: 2.3719 - mainclass_loss: 1.0581 - subclass_accuracy: 0.3763 - mainclass_accuracy: 0.6099 - val_loss: 3.6480 - val_subclass_loss: 2.4903 - val_mainclass_loss: 1.1577 - val_subclass_accuracy: 0.3443 - val_mainclass_accuracy: 0.5612\n",
            "Epoch 94/200\n",
            "103/103 [==============================] - 1s 7ms/step - loss: 3.4196 - subclass_loss: 2.3651 - mainclass_loss: 1.0545 - subclass_accuracy: 0.3757 - mainclass_accuracy: 0.6114 - val_loss: 3.6427 - val_subclass_loss: 2.4868 - val_mainclass_loss: 1.1559 - val_subclass_accuracy: 0.3443 - val_mainclass_accuracy: 0.5594\n",
            "Epoch 95/200\n",
            "103/103 [==============================] - 1s 7ms/step - loss: 3.4105 - subclass_loss: 2.3591 - mainclass_loss: 1.0514 - subclass_accuracy: 0.3754 - mainclass_accuracy: 0.6133 - val_loss: 3.6356 - val_subclass_loss: 2.4815 - val_mainclass_loss: 1.1541 - val_subclass_accuracy: 0.3439 - val_mainclass_accuracy: 0.5612\n",
            "Epoch 96/200\n",
            "103/103 [==============================] - 1s 9ms/step - loss: 3.3998 - subclass_loss: 2.3523 - mainclass_loss: 1.0475 - subclass_accuracy: 0.3806 - mainclass_accuracy: 0.6166 - val_loss: 3.6292 - val_subclass_loss: 2.4761 - val_mainclass_loss: 1.1531 - val_subclass_accuracy: 0.3485 - val_mainclass_accuracy: 0.5658\n",
            "Epoch 97/200\n",
            "103/103 [==============================] - 1s 10ms/step - loss: 3.3900 - subclass_loss: 2.3455 - mainclass_loss: 1.0445 - subclass_accuracy: 0.3803 - mainclass_accuracy: 0.6157 - val_loss: 3.6231 - val_subclass_loss: 2.4725 - val_mainclass_loss: 1.1506 - val_subclass_accuracy: 0.3475 - val_mainclass_accuracy: 0.5640\n",
            "Epoch 98/200\n",
            "103/103 [==============================] - 1s 10ms/step - loss: 3.3799 - subclass_loss: 2.3387 - mainclass_loss: 1.0411 - subclass_accuracy: 0.3828 - mainclass_accuracy: 0.6157 - val_loss: 3.6176 - val_subclass_loss: 2.4684 - val_mainclass_loss: 1.1492 - val_subclass_accuracy: 0.3480 - val_mainclass_accuracy: 0.5640\n",
            "Epoch 99/200\n",
            "103/103 [==============================] - 1s 9ms/step - loss: 3.3701 - subclass_loss: 2.3325 - mainclass_loss: 1.0376 - subclass_accuracy: 0.3855 - mainclass_accuracy: 0.6209 - val_loss: 3.6124 - val_subclass_loss: 2.4646 - val_mainclass_loss: 1.1478 - val_subclass_accuracy: 0.3498 - val_mainclass_accuracy: 0.5644\n",
            "Epoch 100/200\n",
            "103/103 [==============================] - 1s 7ms/step - loss: 3.3609 - subclass_loss: 2.3261 - mainclass_loss: 1.0348 - subclass_accuracy: 0.3858 - mainclass_accuracy: 0.6218 - val_loss: 3.6058 - val_subclass_loss: 2.4597 - val_mainclass_loss: 1.1460 - val_subclass_accuracy: 0.3540 - val_mainclass_accuracy: 0.5676\n",
            "Epoch 101/200\n",
            "103/103 [==============================] - 1s 7ms/step - loss: 3.3510 - subclass_loss: 2.3195 - mainclass_loss: 1.0315 - subclass_accuracy: 0.3855 - mainclass_accuracy: 0.6206 - val_loss: 3.6000 - val_subclass_loss: 2.4554 - val_mainclass_loss: 1.1446 - val_subclass_accuracy: 0.3553 - val_mainclass_accuracy: 0.5676\n",
            "Epoch 102/200\n",
            "103/103 [==============================] - 1s 7ms/step - loss: 3.3418 - subclass_loss: 2.3134 - mainclass_loss: 1.0284 - subclass_accuracy: 0.3916 - mainclass_accuracy: 0.6215 - val_loss: 3.5933 - val_subclass_loss: 2.4500 - val_mainclass_loss: 1.1433 - val_subclass_accuracy: 0.3544 - val_mainclass_accuracy: 0.5685\n",
            "Epoch 103/200\n",
            "103/103 [==============================] - 1s 7ms/step - loss: 3.3321 - subclass_loss: 2.3072 - mainclass_loss: 1.0250 - subclass_accuracy: 0.3922 - mainclass_accuracy: 0.6240 - val_loss: 3.5901 - val_subclass_loss: 2.4480 - val_mainclass_loss: 1.1421 - val_subclass_accuracy: 0.3576 - val_mainclass_accuracy: 0.5690\n",
            "Epoch 104/200\n",
            "103/103 [==============================] - 1s 7ms/step - loss: 3.3220 - subclass_loss: 2.3004 - mainclass_loss: 1.0216 - subclass_accuracy: 0.3935 - mainclass_accuracy: 0.6270 - val_loss: 3.5824 - val_subclass_loss: 2.4416 - val_mainclass_loss: 1.1408 - val_subclass_accuracy: 0.3576 - val_mainclass_accuracy: 0.5690\n",
            "Epoch 105/200\n",
            "103/103 [==============================] - 1s 8ms/step - loss: 3.3136 - subclass_loss: 2.2944 - mainclass_loss: 1.0192 - subclass_accuracy: 0.3956 - mainclass_accuracy: 0.6246 - val_loss: 3.5766 - val_subclass_loss: 2.4378 - val_mainclass_loss: 1.1388 - val_subclass_accuracy: 0.3586 - val_mainclass_accuracy: 0.5676\n",
            "Epoch 106/200\n",
            "103/103 [==============================] - 1s 7ms/step - loss: 3.3038 - subclass_loss: 2.2885 - mainclass_loss: 1.0153 - subclass_accuracy: 0.3968 - mainclass_accuracy: 0.6289 - val_loss: 3.5720 - val_subclass_loss: 2.4342 - val_mainclass_loss: 1.1377 - val_subclass_accuracy: 0.3613 - val_mainclass_accuracy: 0.5727\n",
            "Epoch 107/200\n",
            "103/103 [==============================] - 1s 7ms/step - loss: 3.2949 - subclass_loss: 2.2822 - mainclass_loss: 1.0127 - subclass_accuracy: 0.3980 - mainclass_accuracy: 0.6258 - val_loss: 3.5660 - val_subclass_loss: 2.4299 - val_mainclass_loss: 1.1362 - val_subclass_accuracy: 0.3618 - val_mainclass_accuracy: 0.5690\n",
            "Epoch 108/200\n",
            "103/103 [==============================] - 1s 7ms/step - loss: 3.2851 - subclass_loss: 2.2758 - mainclass_loss: 1.0092 - subclass_accuracy: 0.4002 - mainclass_accuracy: 0.6298 - val_loss: 3.5614 - val_subclass_loss: 2.4255 - val_mainclass_loss: 1.1359 - val_subclass_accuracy: 0.3631 - val_mainclass_accuracy: 0.5704\n",
            "Epoch 109/200\n",
            "103/103 [==============================] - 1s 8ms/step - loss: 3.2771 - subclass_loss: 2.2705 - mainclass_loss: 1.0066 - subclass_accuracy: 0.3993 - mainclass_accuracy: 0.6286 - val_loss: 3.5560 - val_subclass_loss: 2.4222 - val_mainclass_loss: 1.1338 - val_subclass_accuracy: 0.3659 - val_mainclass_accuracy: 0.5695\n",
            "Epoch 110/200\n",
            "103/103 [==============================] - 1s 7ms/step - loss: 3.2672 - subclass_loss: 2.2637 - mainclass_loss: 1.0035 - subclass_accuracy: 0.4032 - mainclass_accuracy: 0.6289 - val_loss: 3.5516 - val_subclass_loss: 2.4191 - val_mainclass_loss: 1.1326 - val_subclass_accuracy: 0.3677 - val_mainclass_accuracy: 0.5731\n",
            "Epoch 111/200\n",
            "103/103 [==============================] - 1s 7ms/step - loss: 3.2595 - subclass_loss: 2.2588 - mainclass_loss: 1.0007 - subclass_accuracy: 0.4032 - mainclass_accuracy: 0.6295 - val_loss: 3.5451 - val_subclass_loss: 2.4140 - val_mainclass_loss: 1.1312 - val_subclass_accuracy: 0.3673 - val_mainclass_accuracy: 0.5718\n",
            "Epoch 112/200\n",
            "103/103 [==============================] - 1s 8ms/step - loss: 3.2503 - subclass_loss: 2.2525 - mainclass_loss: 0.9978 - subclass_accuracy: 0.4078 - mainclass_accuracy: 0.6328 - val_loss: 3.5404 - val_subclass_loss: 2.4097 - val_mainclass_loss: 1.1307 - val_subclass_accuracy: 0.3709 - val_mainclass_accuracy: 0.5708\n",
            "Epoch 113/200\n",
            "103/103 [==============================] - 1s 10ms/step - loss: 3.2416 - subclass_loss: 2.2465 - mainclass_loss: 0.9951 - subclass_accuracy: 0.4087 - mainclass_accuracy: 0.6341 - val_loss: 3.5377 - val_subclass_loss: 2.4083 - val_mainclass_loss: 1.1293 - val_subclass_accuracy: 0.3714 - val_mainclass_accuracy: 0.5718\n",
            "Epoch 114/200\n",
            "103/103 [==============================] - 1s 10ms/step - loss: 3.2328 - subclass_loss: 2.2406 - mainclass_loss: 0.9923 - subclass_accuracy: 0.4069 - mainclass_accuracy: 0.6362 - val_loss: 3.5310 - val_subclass_loss: 2.4030 - val_mainclass_loss: 1.1280 - val_subclass_accuracy: 0.3686 - val_mainclass_accuracy: 0.5731\n",
            "Epoch 115/200\n",
            "103/103 [==============================] - 1s 10ms/step - loss: 3.2251 - subclass_loss: 2.2352 - mainclass_loss: 0.9899 - subclass_accuracy: 0.4127 - mainclass_accuracy: 0.6386 - val_loss: 3.5255 - val_subclass_loss: 2.3990 - val_mainclass_loss: 1.1265 - val_subclass_accuracy: 0.3714 - val_mainclass_accuracy: 0.5745\n",
            "Epoch 116/200\n",
            "103/103 [==============================] - 1s 9ms/step - loss: 3.2157 - subclass_loss: 2.2291 - mainclass_loss: 0.9867 - subclass_accuracy: 0.4155 - mainclass_accuracy: 0.6377 - val_loss: 3.5209 - val_subclass_loss: 2.3947 - val_mainclass_loss: 1.1261 - val_subclass_accuracy: 0.3737 - val_mainclass_accuracy: 0.5754\n",
            "Epoch 117/200\n",
            "103/103 [==============================] - 1s 8ms/step - loss: 3.2071 - subclass_loss: 2.2233 - mainclass_loss: 0.9839 - subclass_accuracy: 0.4164 - mainclass_accuracy: 0.6396 - val_loss: 3.5174 - val_subclass_loss: 2.3911 - val_mainclass_loss: 1.1263 - val_subclass_accuracy: 0.3714 - val_mainclass_accuracy: 0.5736\n",
            "Epoch 118/200\n",
            "103/103 [==============================] - 1s 7ms/step - loss: 3.1995 - subclass_loss: 2.2179 - mainclass_loss: 0.9816 - subclass_accuracy: 0.4167 - mainclass_accuracy: 0.6399 - val_loss: 3.5124 - val_subclass_loss: 2.3886 - val_mainclass_loss: 1.1238 - val_subclass_accuracy: 0.3783 - val_mainclass_accuracy: 0.5773\n",
            "Epoch 119/200\n",
            "103/103 [==============================] - 1s 7ms/step - loss: 3.1907 - subclass_loss: 2.2123 - mainclass_loss: 0.9784 - subclass_accuracy: 0.4210 - mainclass_accuracy: 0.6405 - val_loss: 3.5078 - val_subclass_loss: 2.3838 - val_mainclass_loss: 1.1239 - val_subclass_accuracy: 0.3746 - val_mainclass_accuracy: 0.5777\n",
            "Epoch 120/200\n",
            "103/103 [==============================] - 1s 8ms/step - loss: 3.1835 - subclass_loss: 2.2067 - mainclass_loss: 0.9768 - subclass_accuracy: 0.4194 - mainclass_accuracy: 0.6438 - val_loss: 3.5019 - val_subclass_loss: 2.3806 - val_mainclass_loss: 1.1212 - val_subclass_accuracy: 0.3787 - val_mainclass_accuracy: 0.5754\n",
            "Epoch 121/200\n",
            "103/103 [==============================] - 1s 8ms/step - loss: 3.1754 - subclass_loss: 2.2013 - mainclass_loss: 0.9741 - subclass_accuracy: 0.4207 - mainclass_accuracy: 0.6417 - val_loss: 3.4977 - val_subclass_loss: 2.3767 - val_mainclass_loss: 1.1210 - val_subclass_accuracy: 0.3769 - val_mainclass_accuracy: 0.5796\n",
            "Epoch 122/200\n",
            "103/103 [==============================] - 1s 8ms/step - loss: 3.1669 - subclass_loss: 2.1957 - mainclass_loss: 0.9712 - subclass_accuracy: 0.4246 - mainclass_accuracy: 0.6438 - val_loss: 3.4940 - val_subclass_loss: 2.3732 - val_mainclass_loss: 1.1208 - val_subclass_accuracy: 0.3755 - val_mainclass_accuracy: 0.5800\n",
            "Epoch 123/200\n",
            "103/103 [==============================] - 1s 8ms/step - loss: 3.1598 - subclass_loss: 2.1909 - mainclass_loss: 0.9689 - subclass_accuracy: 0.4237 - mainclass_accuracy: 0.6438 - val_loss: 3.4883 - val_subclass_loss: 2.3702 - val_mainclass_loss: 1.1181 - val_subclass_accuracy: 0.3810 - val_mainclass_accuracy: 0.5763\n",
            "Epoch 124/200\n",
            "103/103 [==============================] - 1s 8ms/step - loss: 3.1509 - subclass_loss: 2.1846 - mainclass_loss: 0.9663 - subclass_accuracy: 0.4271 - mainclass_accuracy: 0.6466 - val_loss: 3.4841 - val_subclass_loss: 2.3670 - val_mainclass_loss: 1.1172 - val_subclass_accuracy: 0.3815 - val_mainclass_accuracy: 0.5777\n",
            "Epoch 125/200\n",
            "103/103 [==============================] - 1s 8ms/step - loss: 3.1428 - subclass_loss: 2.1792 - mainclass_loss: 0.9636 - subclass_accuracy: 0.4292 - mainclass_accuracy: 0.6509 - val_loss: 3.4801 - val_subclass_loss: 2.3632 - val_mainclass_loss: 1.1169 - val_subclass_accuracy: 0.3833 - val_mainclass_accuracy: 0.5805\n",
            "Epoch 126/200\n",
            "103/103 [==============================] - 1s 7ms/step - loss: 3.1356 - subclass_loss: 2.1742 - mainclass_loss: 0.9614 - subclass_accuracy: 0.4360 - mainclass_accuracy: 0.6475 - val_loss: 3.4770 - val_subclass_loss: 2.3601 - val_mainclass_loss: 1.1170 - val_subclass_accuracy: 0.3842 - val_mainclass_accuracy: 0.5809\n",
            "Epoch 127/200\n",
            "103/103 [==============================] - 1s 8ms/step - loss: 3.1285 - subclass_loss: 2.1690 - mainclass_loss: 0.9596 - subclass_accuracy: 0.4363 - mainclass_accuracy: 0.6506 - val_loss: 3.4731 - val_subclass_loss: 2.3566 - val_mainclass_loss: 1.1164 - val_subclass_accuracy: 0.3838 - val_mainclass_accuracy: 0.5832\n",
            "Epoch 128/200\n",
            "103/103 [==============================] - 1s 10ms/step - loss: 3.1203 - subclass_loss: 2.1636 - mainclass_loss: 0.9566 - subclass_accuracy: 0.4372 - mainclass_accuracy: 0.6527 - val_loss: 3.4670 - val_subclass_loss: 2.3534 - val_mainclass_loss: 1.1136 - val_subclass_accuracy: 0.3906 - val_mainclass_accuracy: 0.5800\n",
            "Epoch 129/200\n",
            "103/103 [==============================] - 1s 10ms/step - loss: 3.1121 - subclass_loss: 2.1583 - mainclass_loss: 0.9539 - subclass_accuracy: 0.4390 - mainclass_accuracy: 0.6524 - val_loss: 3.4632 - val_subclass_loss: 2.3498 - val_mainclass_loss: 1.1134 - val_subclass_accuracy: 0.3893 - val_mainclass_accuracy: 0.5832\n",
            "Epoch 130/200\n",
            "103/103 [==============================] - 1s 11ms/step - loss: 3.1047 - subclass_loss: 2.1532 - mainclass_loss: 0.9516 - subclass_accuracy: 0.4375 - mainclass_accuracy: 0.6539 - val_loss: 3.4591 - val_subclass_loss: 2.3466 - val_mainclass_loss: 1.1125 - val_subclass_accuracy: 0.3906 - val_mainclass_accuracy: 0.5851\n",
            "Epoch 131/200\n",
            "103/103 [==============================] - 1s 9ms/step - loss: 3.0981 - subclass_loss: 2.1482 - mainclass_loss: 0.9498 - subclass_accuracy: 0.4415 - mainclass_accuracy: 0.6530 - val_loss: 3.4550 - val_subclass_loss: 2.3441 - val_mainclass_loss: 1.1109 - val_subclass_accuracy: 0.3925 - val_mainclass_accuracy: 0.5809\n",
            "Epoch 132/200\n",
            "103/103 [==============================] - 1s 9ms/step - loss: 3.0901 - subclass_loss: 2.1432 - mainclass_loss: 0.9469 - subclass_accuracy: 0.4454 - mainclass_accuracy: 0.6545 - val_loss: 3.4525 - val_subclass_loss: 2.3419 - val_mainclass_loss: 1.1106 - val_subclass_accuracy: 0.3934 - val_mainclass_accuracy: 0.5841\n",
            "Epoch 133/200\n",
            "103/103 [==============================] - 1s 7ms/step - loss: 3.0823 - subclass_loss: 2.1375 - mainclass_loss: 0.9447 - subclass_accuracy: 0.4451 - mainclass_accuracy: 0.6570 - val_loss: 3.4473 - val_subclass_loss: 2.3372 - val_mainclass_loss: 1.1101 - val_subclass_accuracy: 0.3929 - val_mainclass_accuracy: 0.5841\n",
            "Epoch 134/200\n",
            "103/103 [==============================] - 1s 8ms/step - loss: 3.0742 - subclass_loss: 2.1322 - mainclass_loss: 0.9420 - subclass_accuracy: 0.4457 - mainclass_accuracy: 0.6555 - val_loss: 3.4448 - val_subclass_loss: 2.3350 - val_mainclass_loss: 1.1098 - val_subclass_accuracy: 0.3952 - val_mainclass_accuracy: 0.5864\n",
            "Epoch 135/200\n",
            "103/103 [==============================] - 1s 7ms/step - loss: 3.0676 - subclass_loss: 2.1280 - mainclass_loss: 0.9396 - subclass_accuracy: 0.4467 - mainclass_accuracy: 0.6567 - val_loss: 3.4394 - val_subclass_loss: 2.3314 - val_mainclass_loss: 1.1081 - val_subclass_accuracy: 0.3975 - val_mainclass_accuracy: 0.5873\n",
            "Epoch 136/200\n",
            "103/103 [==============================] - 1s 7ms/step - loss: 3.0615 - subclass_loss: 2.1228 - mainclass_loss: 0.9387 - subclass_accuracy: 0.4485 - mainclass_accuracy: 0.6564 - val_loss: 3.4357 - val_subclass_loss: 2.3282 - val_mainclass_loss: 1.1075 - val_subclass_accuracy: 0.3971 - val_mainclass_accuracy: 0.5851\n",
            "Epoch 137/200\n",
            "103/103 [==============================] - 1s 8ms/step - loss: 3.0526 - subclass_loss: 2.1171 - mainclass_loss: 0.9355 - subclass_accuracy: 0.4485 - mainclass_accuracy: 0.6573 - val_loss: 3.4332 - val_subclass_loss: 2.3262 - val_mainclass_loss: 1.1070 - val_subclass_accuracy: 0.3948 - val_mainclass_accuracy: 0.5846\n",
            "Epoch 138/200\n",
            "103/103 [==============================] - 1s 7ms/step - loss: 3.0465 - subclass_loss: 2.1129 - mainclass_loss: 0.9336 - subclass_accuracy: 0.4512 - mainclass_accuracy: 0.6600 - val_loss: 3.4287 - val_subclass_loss: 2.3218 - val_mainclass_loss: 1.1069 - val_subclass_accuracy: 0.3966 - val_mainclass_accuracy: 0.5887\n",
            "Epoch 139/200\n",
            "103/103 [==============================] - 1s 7ms/step - loss: 3.0389 - subclass_loss: 2.1081 - mainclass_loss: 0.9308 - subclass_accuracy: 0.4540 - mainclass_accuracy: 0.6594 - val_loss: 3.4243 - val_subclass_loss: 2.3193 - val_mainclass_loss: 1.1050 - val_subclass_accuracy: 0.4012 - val_mainclass_accuracy: 0.5892\n",
            "Epoch 140/200\n",
            "103/103 [==============================] - 1s 8ms/step - loss: 3.0321 - subclass_loss: 2.1030 - mainclass_loss: 0.9291 - subclass_accuracy: 0.4546 - mainclass_accuracy: 0.6600 - val_loss: 3.4207 - val_subclass_loss: 2.3166 - val_mainclass_loss: 1.1040 - val_subclass_accuracy: 0.3998 - val_mainclass_accuracy: 0.5869\n",
            "Epoch 141/200\n",
            "103/103 [==============================] - 1s 7ms/step - loss: 3.0244 - subclass_loss: 2.0981 - mainclass_loss: 0.9262 - subclass_accuracy: 0.4552 - mainclass_accuracy: 0.6649 - val_loss: 3.4195 - val_subclass_loss: 2.3137 - val_mainclass_loss: 1.1058 - val_subclass_accuracy: 0.3961 - val_mainclass_accuracy: 0.5896\n",
            "Epoch 142/200\n",
            "103/103 [==============================] - 1s 8ms/step - loss: 3.0195 - subclass_loss: 2.0935 - mainclass_loss: 0.9260 - subclass_accuracy: 0.4574 - mainclass_accuracy: 0.6603 - val_loss: 3.4128 - val_subclass_loss: 2.3103 - val_mainclass_loss: 1.1025 - val_subclass_accuracy: 0.4012 - val_mainclass_accuracy: 0.5869\n",
            "Epoch 143/200\n",
            "103/103 [==============================] - 1s 7ms/step - loss: 3.0109 - subclass_loss: 2.0882 - mainclass_loss: 0.9227 - subclass_accuracy: 0.4592 - mainclass_accuracy: 0.6610 - val_loss: 3.4100 - val_subclass_loss: 2.3077 - val_mainclass_loss: 1.1023 - val_subclass_accuracy: 0.4012 - val_mainclass_accuracy: 0.5915\n",
            "Epoch 144/200\n",
            "103/103 [==============================] - 1s 10ms/step - loss: 3.0046 - subclass_loss: 2.0836 - mainclass_loss: 0.9209 - subclass_accuracy: 0.4616 - mainclass_accuracy: 0.6649 - val_loss: 3.4070 - val_subclass_loss: 2.3051 - val_mainclass_loss: 1.1019 - val_subclass_accuracy: 0.4012 - val_mainclass_accuracy: 0.5942\n",
            "Epoch 145/200\n",
            "103/103 [==============================] - 1s 10ms/step - loss: 2.9975 - subclass_loss: 2.0789 - mainclass_loss: 0.9186 - subclass_accuracy: 0.4622 - mainclass_accuracy: 0.6659 - val_loss: 3.4029 - val_subclass_loss: 2.3020 - val_mainclass_loss: 1.1010 - val_subclass_accuracy: 0.4035 - val_mainclass_accuracy: 0.5924\n",
            "Epoch 146/200\n",
            "103/103 [==============================] - 1s 10ms/step - loss: 2.9920 - subclass_loss: 2.0745 - mainclass_loss: 0.9174 - subclass_accuracy: 0.4632 - mainclass_accuracy: 0.6680 - val_loss: 3.3988 - val_subclass_loss: 2.2990 - val_mainclass_loss: 1.0999 - val_subclass_accuracy: 0.4039 - val_mainclass_accuracy: 0.5910\n",
            "Epoch 147/200\n",
            "103/103 [==============================] - 1s 9ms/step - loss: 2.9839 - subclass_loss: 2.0692 - mainclass_loss: 0.9147 - subclass_accuracy: 0.4644 - mainclass_accuracy: 0.6655 - val_loss: 3.3954 - val_subclass_loss: 2.2962 - val_mainclass_loss: 1.0992 - val_subclass_accuracy: 0.4058 - val_mainclass_accuracy: 0.5970\n",
            "Epoch 148/200\n",
            "103/103 [==============================] - 1s 9ms/step - loss: 2.9765 - subclass_loss: 2.0646 - mainclass_loss: 0.9119 - subclass_accuracy: 0.4653 - mainclass_accuracy: 0.6680 - val_loss: 3.3921 - val_subclass_loss: 2.2937 - val_mainclass_loss: 1.0984 - val_subclass_accuracy: 0.4049 - val_mainclass_accuracy: 0.5910\n",
            "Epoch 149/200\n",
            "103/103 [==============================] - 1s 8ms/step - loss: 2.9706 - subclass_loss: 2.0598 - mainclass_loss: 0.9108 - subclass_accuracy: 0.4671 - mainclass_accuracy: 0.6692 - val_loss: 3.3888 - val_subclass_loss: 2.2907 - val_mainclass_loss: 1.0981 - val_subclass_accuracy: 0.4081 - val_mainclass_accuracy: 0.5938\n",
            "Epoch 150/200\n",
            "103/103 [==============================] - 1s 8ms/step - loss: 2.9647 - subclass_loss: 2.0550 - mainclass_loss: 0.9098 - subclass_accuracy: 0.4671 - mainclass_accuracy: 0.6683 - val_loss: 3.3855 - val_subclass_loss: 2.2884 - val_mainclass_loss: 1.0971 - val_subclass_accuracy: 0.4090 - val_mainclass_accuracy: 0.5956\n",
            "Epoch 151/200\n",
            "103/103 [==============================] - 1s 8ms/step - loss: 2.9577 - subclass_loss: 2.0513 - mainclass_loss: 0.9065 - subclass_accuracy: 0.4671 - mainclass_accuracy: 0.6714 - val_loss: 3.3823 - val_subclass_loss: 2.2858 - val_mainclass_loss: 1.0965 - val_subclass_accuracy: 0.4108 - val_mainclass_accuracy: 0.5951\n",
            "Epoch 152/200\n",
            "103/103 [==============================] - 1s 8ms/step - loss: 2.9508 - subclass_loss: 2.0463 - mainclass_loss: 0.9046 - subclass_accuracy: 0.4690 - mainclass_accuracy: 0.6704 - val_loss: 3.3790 - val_subclass_loss: 2.2827 - val_mainclass_loss: 1.0963 - val_subclass_accuracy: 0.4081 - val_mainclass_accuracy: 0.5938\n",
            "Epoch 153/200\n",
            "103/103 [==============================] - 1s 8ms/step - loss: 2.9449 - subclass_loss: 2.0423 - mainclass_loss: 0.9026 - subclass_accuracy: 0.4729 - mainclass_accuracy: 0.6738 - val_loss: 3.3791 - val_subclass_loss: 2.2813 - val_mainclass_loss: 1.0978 - val_subclass_accuracy: 0.4076 - val_mainclass_accuracy: 0.5928\n",
            "Epoch 154/200\n",
            "103/103 [==============================] - 1s 7ms/step - loss: 2.9387 - subclass_loss: 2.0375 - mainclass_loss: 0.9012 - subclass_accuracy: 0.4717 - mainclass_accuracy: 0.6741 - val_loss: 3.3744 - val_subclass_loss: 2.2781 - val_mainclass_loss: 1.0963 - val_subclass_accuracy: 0.4131 - val_mainclass_accuracy: 0.5938\n",
            "Epoch 155/200\n",
            "103/103 [==============================] - 1s 8ms/step - loss: 2.9331 - subclass_loss: 2.0331 - mainclass_loss: 0.8999 - subclass_accuracy: 0.4717 - mainclass_accuracy: 0.6738 - val_loss: 3.3690 - val_subclass_loss: 2.2749 - val_mainclass_loss: 1.0940 - val_subclass_accuracy: 0.4163 - val_mainclass_accuracy: 0.5956\n",
            "Epoch 156/200\n",
            "103/103 [==============================] - 1s 8ms/step - loss: 2.9251 - subclass_loss: 2.0285 - mainclass_loss: 0.8966 - subclass_accuracy: 0.4739 - mainclass_accuracy: 0.6766 - val_loss: 3.3668 - val_subclass_loss: 2.2723 - val_mainclass_loss: 1.0945 - val_subclass_accuracy: 0.4131 - val_mainclass_accuracy: 0.5983\n",
            "Epoch 157/200\n",
            "103/103 [==============================] - 1s 7ms/step - loss: 2.9194 - subclass_loss: 2.0240 - mainclass_loss: 0.8954 - subclass_accuracy: 0.4757 - mainclass_accuracy: 0.6778 - val_loss: 3.3655 - val_subclass_loss: 2.2709 - val_mainclass_loss: 1.0946 - val_subclass_accuracy: 0.4145 - val_mainclass_accuracy: 0.5928\n",
            "Epoch 158/200\n",
            "103/103 [==============================] - 1s 8ms/step - loss: 2.9148 - subclass_loss: 2.0208 - mainclass_loss: 0.8940 - subclass_accuracy: 0.4754 - mainclass_accuracy: 0.6781 - val_loss: 3.3600 - val_subclass_loss: 2.2669 - val_mainclass_loss: 1.0930 - val_subclass_accuracy: 0.4140 - val_mainclass_accuracy: 0.5974\n",
            "Epoch 159/200\n",
            "103/103 [==============================] - 1s 9ms/step - loss: 2.9067 - subclass_loss: 2.0155 - mainclass_loss: 0.8912 - subclass_accuracy: 0.4788 - mainclass_accuracy: 0.6790 - val_loss: 3.3572 - val_subclass_loss: 2.2642 - val_mainclass_loss: 1.0930 - val_subclass_accuracy: 0.4122 - val_mainclass_accuracy: 0.5970\n",
            "Epoch 160/200\n",
            "103/103 [==============================] - 1s 10ms/step - loss: 2.9002 - subclass_loss: 2.0108 - mainclass_loss: 0.8894 - subclass_accuracy: 0.4800 - mainclass_accuracy: 0.6796 - val_loss: 3.3547 - val_subclass_loss: 2.2625 - val_mainclass_loss: 1.0922 - val_subclass_accuracy: 0.4140 - val_mainclass_accuracy: 0.5983\n",
            "Epoch 161/200\n",
            "103/103 [==============================] - 1s 14ms/step - loss: 2.8945 - subclass_loss: 2.0072 - mainclass_loss: 0.8874 - subclass_accuracy: 0.4806 - mainclass_accuracy: 0.6790 - val_loss: 3.3519 - val_subclass_loss: 2.2592 - val_mainclass_loss: 1.0927 - val_subclass_accuracy: 0.4127 - val_mainclass_accuracy: 0.5988\n",
            "Epoch 162/200\n",
            "103/103 [==============================] - 1s 9ms/step - loss: 2.8877 - subclass_loss: 2.0023 - mainclass_loss: 0.8854 - subclass_accuracy: 0.4824 - mainclass_accuracy: 0.6793 - val_loss: 3.3503 - val_subclass_loss: 2.2591 - val_mainclass_loss: 1.0911 - val_subclass_accuracy: 0.4159 - val_mainclass_accuracy: 0.5988\n",
            "Epoch 163/200\n",
            "103/103 [==============================] - 1s 7ms/step - loss: 2.8828 - subclass_loss: 1.9988 - mainclass_loss: 0.8840 - subclass_accuracy: 0.4833 - mainclass_accuracy: 0.6799 - val_loss: 3.3446 - val_subclass_loss: 2.2545 - val_mainclass_loss: 1.0901 - val_subclass_accuracy: 0.4168 - val_mainclass_accuracy: 0.5970\n",
            "Epoch 164/200\n",
            "103/103 [==============================] - 1s 7ms/step - loss: 2.8757 - subclass_loss: 1.9936 - mainclass_loss: 0.8821 - subclass_accuracy: 0.4839 - mainclass_accuracy: 0.6805 - val_loss: 3.3428 - val_subclass_loss: 2.2531 - val_mainclass_loss: 1.0896 - val_subclass_accuracy: 0.4186 - val_mainclass_accuracy: 0.5997\n",
            "Epoch 165/200\n",
            "103/103 [==============================] - 1s 8ms/step - loss: 2.8699 - subclass_loss: 1.9895 - mainclass_loss: 0.8803 - subclass_accuracy: 0.4833 - mainclass_accuracy: 0.6814 - val_loss: 3.3392 - val_subclass_loss: 2.2500 - val_mainclass_loss: 1.0892 - val_subclass_accuracy: 0.4159 - val_mainclass_accuracy: 0.5979\n",
            "Epoch 166/200\n",
            "103/103 [==============================] - 1s 7ms/step - loss: 2.8637 - subclass_loss: 1.9850 - mainclass_loss: 0.8787 - subclass_accuracy: 0.4873 - mainclass_accuracy: 0.6851 - val_loss: 3.3360 - val_subclass_loss: 2.2472 - val_mainclass_loss: 1.0888 - val_subclass_accuracy: 0.4163 - val_mainclass_accuracy: 0.5988\n",
            "Epoch 167/200\n",
            "103/103 [==============================] - 1s 7ms/step - loss: 2.8594 - subclass_loss: 1.9820 - mainclass_loss: 0.8775 - subclass_accuracy: 0.4846 - mainclass_accuracy: 0.6839 - val_loss: 3.3349 - val_subclass_loss: 2.2452 - val_mainclass_loss: 1.0897 - val_subclass_accuracy: 0.4127 - val_mainclass_accuracy: 0.5997\n",
            "Epoch 168/200\n",
            "103/103 [==============================] - 1s 7ms/step - loss: 2.8532 - subclass_loss: 1.9777 - mainclass_loss: 0.8756 - subclass_accuracy: 0.4870 - mainclass_accuracy: 0.6866 - val_loss: 3.3306 - val_subclass_loss: 2.2421 - val_mainclass_loss: 1.0884 - val_subclass_accuracy: 0.4163 - val_mainclass_accuracy: 0.5983\n",
            "Epoch 169/200\n",
            "103/103 [==============================] - 1s 8ms/step - loss: 2.8462 - subclass_loss: 1.9724 - mainclass_loss: 0.8738 - subclass_accuracy: 0.4895 - mainclass_accuracy: 0.6866 - val_loss: 3.3275 - val_subclass_loss: 2.2398 - val_mainclass_loss: 1.0877 - val_subclass_accuracy: 0.4159 - val_mainclass_accuracy: 0.5988\n",
            "Epoch 170/200\n",
            "103/103 [==============================] - 1s 7ms/step - loss: 2.8398 - subclass_loss: 1.9687 - mainclass_loss: 0.8711 - subclass_accuracy: 0.4891 - mainclass_accuracy: 0.6860 - val_loss: 3.3240 - val_subclass_loss: 2.2376 - val_mainclass_loss: 1.0865 - val_subclass_accuracy: 0.4168 - val_mainclass_accuracy: 0.6006\n",
            "Epoch 171/200\n",
            "103/103 [==============================] - 1s 8ms/step - loss: 2.8357 - subclass_loss: 1.9657 - mainclass_loss: 0.8700 - subclass_accuracy: 0.4891 - mainclass_accuracy: 0.6897 - val_loss: 3.3255 - val_subclass_loss: 2.2380 - val_mainclass_loss: 1.0875 - val_subclass_accuracy: 0.4172 - val_mainclass_accuracy: 0.6002\n",
            "Epoch 172/200\n",
            "103/103 [==============================] - 1s 7ms/step - loss: 2.8291 - subclass_loss: 1.9610 - mainclass_loss: 0.8681 - subclass_accuracy: 0.4910 - mainclass_accuracy: 0.6873 - val_loss: 3.3201 - val_subclass_loss: 2.2344 - val_mainclass_loss: 1.0857 - val_subclass_accuracy: 0.4214 - val_mainclass_accuracy: 0.6002\n",
            "Epoch 173/200\n",
            "103/103 [==============================] - 1s 9ms/step - loss: 2.8240 - subclass_loss: 1.9569 - mainclass_loss: 0.8672 - subclass_accuracy: 0.4916 - mainclass_accuracy: 0.6879 - val_loss: 3.3168 - val_subclass_loss: 2.2321 - val_mainclass_loss: 1.0847 - val_subclass_accuracy: 0.4204 - val_mainclass_accuracy: 0.6029\n",
            "Epoch 174/200\n",
            "103/103 [==============================] - 1s 9ms/step - loss: 2.8166 - subclass_loss: 1.9525 - mainclass_loss: 0.8641 - subclass_accuracy: 0.4907 - mainclass_accuracy: 0.6918 - val_loss: 3.3146 - val_subclass_loss: 2.2291 - val_mainclass_loss: 1.0854 - val_subclass_accuracy: 0.4209 - val_mainclass_accuracy: 0.6016\n",
            "Epoch 175/200\n",
            "103/103 [==============================] - 1s 11ms/step - loss: 2.8112 - subclass_loss: 1.9486 - mainclass_loss: 0.8626 - subclass_accuracy: 0.4916 - mainclass_accuracy: 0.6888 - val_loss: 3.3113 - val_subclass_loss: 2.2263 - val_mainclass_loss: 1.0850 - val_subclass_accuracy: 0.4204 - val_mainclass_accuracy: 0.6020\n",
            "Epoch 176/200\n",
            "103/103 [==============================] - 1s 10ms/step - loss: 2.8048 - subclass_loss: 1.9441 - mainclass_loss: 0.8607 - subclass_accuracy: 0.4934 - mainclass_accuracy: 0.6906 - val_loss: 3.3084 - val_subclass_loss: 2.2243 - val_mainclass_loss: 1.0841 - val_subclass_accuracy: 0.4223 - val_mainclass_accuracy: 0.6011\n",
            "Epoch 177/200\n",
            "103/103 [==============================] - 1s 10ms/step - loss: 2.7999 - subclass_loss: 1.9405 - mainclass_loss: 0.8594 - subclass_accuracy: 0.4937 - mainclass_accuracy: 0.6915 - val_loss: 3.3100 - val_subclass_loss: 2.2231 - val_mainclass_loss: 1.0870 - val_subclass_accuracy: 0.4172 - val_mainclass_accuracy: 0.6020\n",
            "Epoch 178/200\n",
            "103/103 [==============================] - 1s 10ms/step - loss: 2.7950 - subclass_loss: 1.9368 - mainclass_loss: 0.8582 - subclass_accuracy: 0.4943 - mainclass_accuracy: 0.6952 - val_loss: 3.3052 - val_subclass_loss: 2.2206 - val_mainclass_loss: 1.0846 - val_subclass_accuracy: 0.4214 - val_mainclass_accuracy: 0.6034\n",
            "Epoch 179/200\n",
            "103/103 [==============================] - 1s 8ms/step - loss: 2.7892 - subclass_loss: 1.9330 - mainclass_loss: 0.8562 - subclass_accuracy: 0.4998 - mainclass_accuracy: 0.7001 - val_loss: 3.3034 - val_subclass_loss: 2.2193 - val_mainclass_loss: 1.0841 - val_subclass_accuracy: 0.4195 - val_mainclass_accuracy: 0.6057\n",
            "Epoch 180/200\n",
            "103/103 [==============================] - 1s 9ms/step - loss: 2.7835 - subclass_loss: 1.9284 - mainclass_loss: 0.8551 - subclass_accuracy: 0.4995 - mainclass_accuracy: 0.6967 - val_loss: 3.2983 - val_subclass_loss: 2.2157 - val_mainclass_loss: 1.0826 - val_subclass_accuracy: 0.4214 - val_mainclass_accuracy: 0.6025\n",
            "Epoch 181/200\n",
            "103/103 [==============================] - 1s 7ms/step - loss: 2.7776 - subclass_loss: 1.9246 - mainclass_loss: 0.8530 - subclass_accuracy: 0.4983 - mainclass_accuracy: 0.6964 - val_loss: 3.2968 - val_subclass_loss: 2.2137 - val_mainclass_loss: 1.0831 - val_subclass_accuracy: 0.4218 - val_mainclass_accuracy: 0.6039\n",
            "Epoch 182/200\n",
            "103/103 [==============================] - 1s 7ms/step - loss: 2.7721 - subclass_loss: 1.9211 - mainclass_loss: 0.8510 - subclass_accuracy: 0.4965 - mainclass_accuracy: 0.6940 - val_loss: 3.2942 - val_subclass_loss: 2.2119 - val_mainclass_loss: 1.0823 - val_subclass_accuracy: 0.4237 - val_mainclass_accuracy: 0.6029\n",
            "Epoch 183/200\n",
            "103/103 [==============================] - 1s 7ms/step - loss: 2.7666 - subclass_loss: 1.9169 - mainclass_loss: 0.8498 - subclass_accuracy: 0.4995 - mainclass_accuracy: 0.7007 - val_loss: 3.2934 - val_subclass_loss: 2.2110 - val_mainclass_loss: 1.0824 - val_subclass_accuracy: 0.4218 - val_mainclass_accuracy: 0.6071\n",
            "Epoch 184/200\n",
            "103/103 [==============================] - 1s 7ms/step - loss: 2.7614 - subclass_loss: 1.9133 - mainclass_loss: 0.8481 - subclass_accuracy: 0.5014 - mainclass_accuracy: 0.6928 - val_loss: 3.2918 - val_subclass_loss: 2.2093 - val_mainclass_loss: 1.0825 - val_subclass_accuracy: 0.4214 - val_mainclass_accuracy: 0.6057\n",
            "Epoch 185/200\n",
            "103/103 [==============================] - 1s 8ms/step - loss: 2.7554 - subclass_loss: 1.9092 - mainclass_loss: 0.8462 - subclass_accuracy: 0.5038 - mainclass_accuracy: 0.6995 - val_loss: 3.2866 - val_subclass_loss: 2.2055 - val_mainclass_loss: 1.0811 - val_subclass_accuracy: 0.4250 - val_mainclass_accuracy: 0.6048\n",
            "Epoch 186/200\n",
            "103/103 [==============================] - 1s 7ms/step - loss: 2.7497 - subclass_loss: 1.9051 - mainclass_loss: 0.8446 - subclass_accuracy: 0.5029 - mainclass_accuracy: 0.6980 - val_loss: 3.2840 - val_subclass_loss: 2.2029 - val_mainclass_loss: 1.0811 - val_subclass_accuracy: 0.4241 - val_mainclass_accuracy: 0.6043\n",
            "Epoch 187/200\n",
            "103/103 [==============================] - 1s 7ms/step - loss: 2.7455 - subclass_loss: 1.9013 - mainclass_loss: 0.8441 - subclass_accuracy: 0.5054 - mainclass_accuracy: 0.6998 - val_loss: 3.2827 - val_subclass_loss: 2.2016 - val_mainclass_loss: 1.0811 - val_subclass_accuracy: 0.4246 - val_mainclass_accuracy: 0.6066\n",
            "Epoch 188/200\n",
            "103/103 [==============================] - 1s 7ms/step - loss: 2.7383 - subclass_loss: 1.8973 - mainclass_loss: 0.8409 - subclass_accuracy: 0.5057 - mainclass_accuracy: 0.7016 - val_loss: 3.2788 - val_subclass_loss: 2.1991 - val_mainclass_loss: 1.0798 - val_subclass_accuracy: 0.4250 - val_mainclass_accuracy: 0.6066\n",
            "Epoch 189/200\n",
            "103/103 [==============================] - 1s 7ms/step - loss: 2.7344 - subclass_loss: 1.8943 - mainclass_loss: 0.8401 - subclass_accuracy: 0.5060 - mainclass_accuracy: 0.7056 - val_loss: 3.2813 - val_subclass_loss: 2.1996 - val_mainclass_loss: 1.0817 - val_subclass_accuracy: 0.4232 - val_mainclass_accuracy: 0.6048\n",
            "Epoch 190/200\n",
            "103/103 [==============================] - 1s 8ms/step - loss: 2.7285 - subclass_loss: 1.8905 - mainclass_loss: 0.8380 - subclass_accuracy: 0.5060 - mainclass_accuracy: 0.7056 - val_loss: 3.2751 - val_subclass_loss: 2.1952 - val_mainclass_loss: 1.0799 - val_subclass_accuracy: 0.4246 - val_mainclass_accuracy: 0.6071\n",
            "Epoch 191/200\n",
            "103/103 [==============================] - 1s 10ms/step - loss: 2.7241 - subclass_loss: 1.8876 - mainclass_loss: 0.8365 - subclass_accuracy: 0.5081 - mainclass_accuracy: 0.7028 - val_loss: 3.2760 - val_subclass_loss: 2.1962 - val_mainclass_loss: 1.0797 - val_subclass_accuracy: 0.4237 - val_mainclass_accuracy: 0.6080\n",
            "Epoch 192/200\n",
            "103/103 [==============================] - 1s 10ms/step - loss: 2.7188 - subclass_loss: 1.8839 - mainclass_loss: 0.8349 - subclass_accuracy: 0.5090 - mainclass_accuracy: 0.7022 - val_loss: 3.2698 - val_subclass_loss: 2.1911 - val_mainclass_loss: 1.0786 - val_subclass_accuracy: 0.4264 - val_mainclass_accuracy: 0.6066\n",
            "Epoch 193/200\n",
            "103/103 [==============================] - 1s 10ms/step - loss: 2.7128 - subclass_loss: 1.8790 - mainclass_loss: 0.8338 - subclass_accuracy: 0.5109 - mainclass_accuracy: 0.7044 - val_loss: 3.2686 - val_subclass_loss: 2.1896 - val_mainclass_loss: 1.0790 - val_subclass_accuracy: 0.4237 - val_mainclass_accuracy: 0.6080\n",
            "Epoch 194/200\n",
            "103/103 [==============================] - 1s 9ms/step - loss: 2.7070 - subclass_loss: 1.8754 - mainclass_loss: 0.8316 - subclass_accuracy: 0.5118 - mainclass_accuracy: 0.7050 - val_loss: 3.2664 - val_subclass_loss: 2.1883 - val_mainclass_loss: 1.0781 - val_subclass_accuracy: 0.4237 - val_mainclass_accuracy: 0.6126\n",
            "Epoch 195/200\n",
            "103/103 [==============================] - 1s 9ms/step - loss: 2.7031 - subclass_loss: 1.8720 - mainclass_loss: 0.8311 - subclass_accuracy: 0.5102 - mainclass_accuracy: 0.7047 - val_loss: 3.2644 - val_subclass_loss: 2.1859 - val_mainclass_loss: 1.0785 - val_subclass_accuracy: 0.4260 - val_mainclass_accuracy: 0.6094\n",
            "Epoch 196/200\n",
            "103/103 [==============================] - 1s 9ms/step - loss: 2.6970 - subclass_loss: 1.8678 - mainclass_loss: 0.8292 - subclass_accuracy: 0.5118 - mainclass_accuracy: 0.7059 - val_loss: 3.2608 - val_subclass_loss: 2.1836 - val_mainclass_loss: 1.0772 - val_subclass_accuracy: 0.4264 - val_mainclass_accuracy: 0.6103\n",
            "Epoch 197/200\n",
            "103/103 [==============================] - 1s 7ms/step - loss: 2.6919 - subclass_loss: 1.8644 - mainclass_loss: 0.8274 - subclass_accuracy: 0.5133 - mainclass_accuracy: 0.7050 - val_loss: 3.2591 - val_subclass_loss: 2.1826 - val_mainclass_loss: 1.0764 - val_subclass_accuracy: 0.4273 - val_mainclass_accuracy: 0.6098\n",
            "Epoch 198/200\n",
            "103/103 [==============================] - 1s 8ms/step - loss: 2.6885 - subclass_loss: 1.8615 - mainclass_loss: 0.8269 - subclass_accuracy: 0.5121 - mainclass_accuracy: 0.7090 - val_loss: 3.2578 - val_subclass_loss: 2.1796 - val_mainclass_loss: 1.0783 - val_subclass_accuracy: 0.4255 - val_mainclass_accuracy: 0.6094\n",
            "Epoch 199/200\n",
            "103/103 [==============================] - 1s 9ms/step - loss: 2.6828 - subclass_loss: 1.8576 - mainclass_loss: 0.8252 - subclass_accuracy: 0.5148 - mainclass_accuracy: 0.7080 - val_loss: 3.2546 - val_subclass_loss: 2.1781 - val_mainclass_loss: 1.0764 - val_subclass_accuracy: 0.4269 - val_mainclass_accuracy: 0.6116\n",
            "Epoch 200/200\n",
            "103/103 [==============================] - 1s 8ms/step - loss: 2.6769 - subclass_loss: 1.8541 - mainclass_loss: 0.8229 - subclass_accuracy: 0.5139 - mainclass_accuracy: 0.7083 - val_loss: 3.2525 - val_subclass_loss: 2.1766 - val_mainclass_loss: 1.0759 - val_subclass_accuracy: 0.4269 - val_mainclass_accuracy: 0.6112\n"
          ]
        }
      ]
    },
    {
      "cell_type": "code",
      "source": [
        "history.history.keys()"
      ],
      "metadata": {
        "colab": {
          "base_uri": "https://localhost:8080/"
        },
        "id": "uh40PBPs7yNo",
        "outputId": "405196b9-af9c-45b5-f7f6-915e42638068"
      },
      "execution_count": 63,
      "outputs": [
        {
          "output_type": "execute_result",
          "data": {
            "text/plain": [
              "dict_keys(['loss', 'subclass_loss', 'mainclass_loss', 'subclass_accuracy', 'mainclass_accuracy', 'val_loss', 'val_subclass_loss', 'val_mainclass_loss', 'val_subclass_accuracy', 'val_mainclass_accuracy'])"
            ]
          },
          "metadata": {},
          "execution_count": 63
        }
      ]
    },
    {
      "cell_type": "code",
      "source": [
        "epochs = [i for i in range(EPOCHS_SECOND_MODEL)]\n",
        "fig , ax = plt.subplots(1,2)\n",
        "train_acc = history.history['mainclass_accuracy']\n",
        "train_loss = history.history['mainclass_loss']\n",
        "val_acc = history.history['val_mainclass_accuracy']\n",
        "val_loss = history.history['val_mainclass_loss']\n",
        "fig.set_size_inches(15,5)\n",
        "\n",
        "ax[0].plot(epochs , train_acc , 'go-' , label = 'Training Main class Accuracy')\n",
        "ax[0].plot(epochs , val_acc , 'ro-' , label = 'Validation Main class Accuracy')\n",
        "ax[0].set_title(f'Training & Validation Main class Accuracy for {NUM_HEIDDEN_STATES} hidden states')\n",
        "ax[0].legend()\n",
        "ax[0].set_xlabel(\"Epochs\")\n",
        "ax[0].set_ylabel(\"Accuracy\")\n",
        "\n",
        "ax[1].plot(epochs , train_loss , 'g-o' , label = 'Training Main class Loss')\n",
        "ax[1].plot(epochs , val_loss , 'r-o' , label = 'Validation Main class Loss')\n",
        "ax[1].set_title(f'Training & Validation Main class Loss for {NUM_HEIDDEN_STATES} hidden states')\n",
        "ax[1].legend()\n",
        "ax[1].set_xlabel(\"Epochs\")\n",
        "ax[1].set_ylabel(\"Training & Validation Main class Loss\")\n",
        "plt.show()"
      ],
      "metadata": {
        "id": "KTIJ8Fc87VJV",
        "colab": {
          "base_uri": "https://localhost:8080/",
          "height": 487
        },
        "outputId": "cb3a92ce-b7a3-4397-b6c7-b3369371b757"
      },
      "execution_count": 69,
      "outputs": [
        {
          "output_type": "display_data",
          "data": {
            "text/plain": [
              "<Figure size 1500x500 with 2 Axes>"
            ],
            "image/png": "[encoded data removed]"
          },
          "metadata": {}
        }
      ]
    },
    {
      "cell_type": "code",
      "source": [
        "epochs = [i for i in range(EPOCHS_SECOND_MODEL)]\n",
        "fig , ax = plt.subplots(1,2)\n",
        "train_acc = history.history['subclass_accuracy']\n",
        "train_loss = history.history['subclass_loss']\n",
        "val_acc = history.history['val_subclass_accuracy']\n",
        "val_loss = history.history['val_subclass_loss']\n",
        "fig.set_size_inches(15,5)\n",
        "\n",
        "ax[0].plot(epochs , train_acc , 'go-' , label = 'Training Sub class Accuracy')\n",
        "ax[0].plot(epochs , val_acc , 'ro-' , label = 'Validation Sub class Accuracy')\n",
        "ax[0].set_title(f'Training & Validation Sub class Accuracy for {NUM_HEIDDEN_STATES} hidden states')\n",
        "ax[0].legend()\n",
        "ax[0].set_xlabel(\"Epochs\")\n",
        "ax[0].set_ylabel(\"Accuracy\")\n",
        "\n",
        "ax[1].plot(epochs , train_loss , 'g-o' , label = 'Training Sub class Loss')\n",
        "ax[1].plot(epochs , val_loss , 'r-o' , label = 'Validation Sub class Loss')\n",
        "ax[1].set_title(f'Training & Validation Sub class Loss for {NUM_HEIDDEN_STATES} hidden states')\n",
        "ax[1].legend()\n",
        "ax[1].set_xlabel(\"Epochs\")\n",
        "ax[1].set_ylabel(\"Training & Validation Sub class Loss\")\n",
        "plt.show()"
      ],
      "metadata": {
        "id": "NMpKrKqG8pzZ",
        "colab": {
          "base_uri": "https://localhost:8080/",
          "height": 487
        },
        "outputId": "d31378b3-d03c-4baf-d5a3-697cf6e98399"
      },
      "execution_count": 70,
      "outputs": [
        {
          "output_type": "display_data",
          "data": {
            "text/plain": [
              "<Figure size 1500x500 with 2 Axes>"
            ],
            "image/png": "[encoded data removed]"
          },
          "metadata": {}
        }
      ]
    },
    {
      "cell_type": "code",
      "source": [
        "predictions_socond_model = second_model.predict(test_padded_model_2)\n",
        "predictions_subclass = predictions_socond_model[0]\n",
        "predictions_mainclass = predictions_socond_model[1]\n"
      ],
      "metadata": {
        "colab": {
          "base_uri": "https://localhost:8080/"
        },
        "id": "fT_82Eyl7XI6",
        "outputId": "61ea5e8f-0b62-421a-bef4-11c193844cf9"
      },
      "execution_count": 71,
      "outputs": [
        {
          "output_type": "stream",
          "name": "stdout",
          "text": [
            "16/16 [==============================] - 0s 2ms/step\n"
          ]
        }
      ]
    },
    {
      "cell_type": "code",
      "source": [
        "predictions_mainclass__ = []\n",
        "for x in predictions_mainclass:\n",
        "  predictions_mainclass__.append(x.argmax())\n",
        "\n",
        "predictions_mainclass__ = np.array(predictions_mainclass__)\n",
        "predictions_mainclass__.shape"
      ],
      "metadata": {
        "colab": {
          "base_uri": "https://localhost:8080/"
        },
        "id": "SlKJsbFp_K9m",
        "outputId": "6fef8901-0644-4808-d266-aa77d48fd78c"
      },
      "execution_count": 72,
      "outputs": [
        {
          "output_type": "execute_result",
          "data": {
            "text/plain": [
              "(500,)"
            ]
          },
          "metadata": {},
          "execution_count": 72
        }
      ]
    },
    {
      "cell_type": "code",
      "source": [
        "predictions_subclass__ = []\n",
        "for x in predictions_subclass:\n",
        "  predictions_subclass__.append(x.argmax())\n",
        "\n",
        "predictions_subclass__ = np.array(predictions_subclass__)\n",
        "predictions_subclass__.shape"
      ],
      "metadata": {
        "colab": {
          "base_uri": "https://localhost:8080/"
        },
        "id": "hIjem4NW7pxt",
        "outputId": "1064123b-9400-4d54-f988-72773d2172de"
      },
      "execution_count": 73,
      "outputs": [
        {
          "output_type": "execute_result",
          "data": {
            "text/plain": [
              "(500,)"
            ]
          },
          "metadata": {},
          "execution_count": 73
        }
      ]
    },
    {
      "cell_type": "code",
      "source": [
        "print(classification_report(labels_1_test,  predictions_mainclass__))"
      ],
      "metadata": {
        "id": "w79HBEc1-RJu",
        "colab": {
          "base_uri": "https://localhost:8080/"
        },
        "outputId": "1cd46494-33d1-4d6c-a026-5deb2befbf0a"
      },
      "execution_count": 74,
      "outputs": [
        {
          "output_type": "stream",
          "name": "stdout",
          "text": [
            "              precision    recall  f1-score   support\n",
            "\n",
            "           0       0.53      0.95      0.68       138\n",
            "           1       0.66      0.44      0.53        94\n",
            "           2       0.00      0.00      0.00         9\n",
            "           3       0.56      0.51      0.53        65\n",
            "           4       0.92      0.42      0.57       113\n",
            "           5       0.60      0.59      0.60        81\n",
            "\n",
            "    accuracy                           0.60       500\n",
            "   macro avg       0.55      0.48      0.48       500\n",
            "weighted avg       0.65      0.60      0.58       500\n",
            "\n"
          ]
        },
        {
          "output_type": "stream",
          "name": "stderr",
          "text": [
            "/usr/local/lib/python3.10/dist-packages/sklearn/metrics/_classification.py:1344: UndefinedMetricWarning: Precision and F-score are ill-defined and being set to 0.0 in labels with no predicted samples. Use `zero_division` parameter to control this behavior.\n",
            "  _warn_prf(average, modifier, msg_start, len(result))\n",
            "/usr/local/lib/python3.10/dist-packages/sklearn/metrics/_classification.py:1344: UndefinedMetricWarning: Precision and F-score are ill-defined and being set to 0.0 in labels with no predicted samples. Use `zero_division` parameter to control this behavior.\n",
            "  _warn_prf(average, modifier, msg_start, len(result))\n",
            "/usr/local/lib/python3.10/dist-packages/sklearn/metrics/_classification.py:1344: UndefinedMetricWarning: Precision and F-score are ill-defined and being set to 0.0 in labels with no predicted samples. Use `zero_division` parameter to control this behavior.\n",
            "  _warn_prf(average, modifier, msg_start, len(result))\n"
          ]
        }
      ]
    },
    {
      "cell_type": "code",
      "source": [
        "print(classification_report(labels_2_test,  predictions_subclass__))"
      ],
      "metadata": {
        "id": "_Bp1mYBk7q1D",
        "colab": {
          "base_uri": "https://localhost:8080/"
        },
        "outputId": "fdd82695-5b10-4f4e-c76f-22ed90f5fcc1"
      },
      "execution_count": 75,
      "outputs": [
        {
          "output_type": "stream",
          "name": "stdout",
          "text": [
            "              precision    recall  f1-score   support\n",
            "\n",
            "           0       0.00      0.00      0.00         2\n",
            "           1       0.00      0.00      0.00         0\n",
            "           2       0.00      0.00      0.00        16\n",
            "           3       0.00      0.00      0.00         8\n",
            "           4       0.45      0.62      0.52        55\n",
            "           5       0.00      0.00      0.00         6\n",
            "           6       0.00      0.00      0.00         1\n",
            "           7       0.54      0.92      0.68       123\n",
            "           8       0.74      0.36      0.49        47\n",
            "           9       0.00      0.00      0.00         6\n",
            "          10       0.00      0.00      0.00         2\n",
            "          11       0.45      0.71      0.56         7\n",
            "          12       0.20      0.20      0.20        10\n",
            "          13       0.67      0.89      0.76         9\n",
            "          14       0.35      0.57      0.43        74\n",
            "          17       0.00      0.00      0.00         4\n",
            "          18       0.00      0.00      0.00         3\n",
            "          19       0.00      0.00      0.00        10\n",
            "          20       0.00      0.00      0.00         7\n",
            "          21       0.90      0.50      0.64        18\n",
            "          22       0.00      0.00      0.00         2\n",
            "          23       0.00      0.00      0.00         2\n",
            "          24       0.00      0.00      0.00         3\n",
            "          25       1.00      0.33      0.50         3\n",
            "          26       0.00      0.00      0.00         4\n",
            "          27       0.67      0.25      0.36         8\n",
            "          28       0.00      0.00      0.00        15\n",
            "          29       0.00      0.00      0.00         1\n",
            "          30       0.00      0.00      0.00         5\n",
            "          31       0.00      0.00      0.00         1\n",
            "          33       0.00      0.00      0.00         1\n",
            "          34       0.00      0.00      0.00         1\n",
            "          35       0.00      0.00      0.00         6\n",
            "          37       0.00      0.00      0.00         2\n",
            "          38       0.00      0.00      0.00         3\n",
            "          40       0.00      0.00      0.00        16\n",
            "          41       0.00      0.00      0.00         5\n",
            "          44       0.00      0.00      0.00         4\n",
            "          45       0.00      0.00      0.00         4\n",
            "          46       0.00      0.00      0.00         6\n",
            "\n",
            "    accuracy                           0.47       500\n",
            "   macro avg       0.15      0.13      0.13       500\n",
            "weighted avg       0.38      0.47      0.39       500\n",
            "\n"
          ]
        },
        {
          "output_type": "stream",
          "name": "stderr",
          "text": [
            "/usr/local/lib/python3.10/dist-packages/sklearn/metrics/_classification.py:1344: UndefinedMetricWarning: Precision and F-score are ill-defined and being set to 0.0 in labels with no predicted samples. Use `zero_division` parameter to control this behavior.\n",
            "  _warn_prf(average, modifier, msg_start, len(result))\n",
            "/usr/local/lib/python3.10/dist-packages/sklearn/metrics/_classification.py:1344: UndefinedMetricWarning: Recall and F-score are ill-defined and being set to 0.0 in labels with no true samples. Use `zero_division` parameter to control this behavior.\n",
            "  _warn_prf(average, modifier, msg_start, len(result))\n",
            "/usr/local/lib/python3.10/dist-packages/sklearn/metrics/_classification.py:1344: UndefinedMetricWarning: Precision and F-score are ill-defined and being set to 0.0 in labels with no predicted samples. Use `zero_division` parameter to control this behavior.\n",
            "  _warn_prf(average, modifier, msg_start, len(result))\n",
            "/usr/local/lib/python3.10/dist-packages/sklearn/metrics/_classification.py:1344: UndefinedMetricWarning: Recall and F-score are ill-defined and being set to 0.0 in labels with no true samples. Use `zero_division` parameter to control this behavior.\n",
            "  _warn_prf(average, modifier, msg_start, len(result))\n",
            "/usr/local/lib/python3.10/dist-packages/sklearn/metrics/_classification.py:1344: UndefinedMetricWarning: Precision and F-score are ill-defined and being set to 0.0 in labels with no predicted samples. Use `zero_division` parameter to control this behavior.\n",
            "  _warn_prf(average, modifier, msg_start, len(result))\n",
            "/usr/local/lib/python3.10/dist-packages/sklearn/metrics/_classification.py:1344: UndefinedMetricWarning: Recall and F-score are ill-defined and being set to 0.0 in labels with no true samples. Use `zero_division` parameter to control this behavior.\n",
            "  _warn_prf(average, modifier, msg_start, len(result))\n"
          ]
        }
      ]
    },
    {
      "cell_type": "code",
      "source": [
        "result_0 = confusion_matrix(labels_1_test, predictions_mainclass__ , normalize='pred')\n",
        "disp_0 = ConfusionMatrixDisplay(result_0)\n",
        "disp_0.plot()"
      ],
      "metadata": {
        "colab": {
          "base_uri": "https://localhost:8080/",
          "height": 466
        },
        "id": "BMumTWvXjolT",
        "outputId": "b6a9b79d-24ad-4db8-a858-25506cb0ba12"
      },
      "execution_count": 76,
      "outputs": [
        {
          "output_type": "execute_result",
          "data": {
            "text/plain": [
              "<sklearn.metrics._plot.confusion_matrix.ConfusionMatrixDisplay at 0x7fdc017d9ae0>"
            ]
          },
          "metadata": {},
          "execution_count": 76
        },
        {
          "output_type": "display_data",
          "data": {
            "text/plain": [
              "<Figure size 640x480 with 2 Axes>"
            ],
            "image/png": "[encoded data removed]"
          },
          "metadata": {}
        }
      ]
    },
    {
      "cell_type": "code",
      "source": [
        "result_1 = confusion_matrix(labels_2_test, predictions_subclass__ , normalize='pred')\n",
        "fig = plt.figure()\n",
        "ax = fig.add_subplot(111)\n",
        "cax = ax.matshow(result_1)\n",
        "plt.title(f'Confusion matrix of the second model for {NUM_HEIDDEN_STATES} hidden states')\n",
        "fig.colorbar(cax)\n",
        "plt.xlabel('Predicted')\n",
        "plt.ylabel('True')\n",
        "plt.show()"
      ],
      "metadata": {
        "colab": {
          "base_uri": "https://localhost:8080/",
          "height": 477
        },
        "id": "aGz1Xw-EjpFU",
        "outputId": "49e88f01-2964-488c-f94a-69d64bdd52e4"
      },
      "execution_count": 77,
      "outputs": [
        {
          "output_type": "display_data",
          "data": {
            "text/plain": [
              "<Figure size 640x480 with 2 Axes>"
            ],
            "image/png": "[encoded data removed]"
          },
          "metadata": {}
        }
      ]
    },
    {
      "cell_type": "markdown",
      "source": [
        "**Creating Responder**"
      ],
      "metadata": {
        "id": "JR5zyqzC7rxW"
      }
    },
    {
      "cell_type": "code",
      "source": [
        "def preprocess_responder(df_train , pad_post=False,answer=False):\n",
        "  ''' \n",
        "\n",
        "    Preprocessing for Questions given to the network\n",
        "  \n",
        "  '''\n",
        "  #convert to lower case\n",
        "  df_train[\"lower_text_doc\"]= df_train.text.map(lambda x: x.lower())\n",
        "\n",
        "  #word tokanize\n",
        "  df_train[\"tokenized_doc\"]= df_train.lower_text_doc.map(nltk.word_tokenize)\n",
        "\n",
        "  #remove stop words\n",
        "  stop= stopwords.words(\"english\")\n",
        "  stop_punc= list(set(punctuation))+ stop\n",
        "\n",
        "  df_train[\"selected_doc\"]= df_train.tokenized_doc.map(lambda df: remove_stop(df, stop_punc))\n",
        "\n",
        "\n",
        "  #stemming\n",
        "  stemmer= PorterStemmer()\n",
        "\n",
        "  df_train[\"stemmed_doc\"]= df_train.selected_doc.map(lambda xs: [stemmer.stem(x) for x in xs])\n",
        "  df_train[\"normalized_doc\"]= df_train.stemmed_doc.apply(normalize)\n",
        "\n",
        "\n",
        "\n",
        "  #Tokenize with tensorflow\n",
        "  tokenizer_doc= Tokenizer(num_words= 10000)\n",
        "  tokenizer_doc.fit_on_texts(df_train.normalized_doc)\n",
        "\n",
        "  tokenized_doc_train= tokenizer_doc.texts_to_sequences(df_train.normalized_doc)\n",
        "\n",
        "  vocab_size_doc = tokenizer_doc.word_index.keys().__len__() +1\n",
        "  max_length_doc = len(max(tokenized_doc_train, key=len))\n",
        "\n",
        "  #padding\n",
        "  train_doc_padded= pad_sequences(tokenized_doc_train, maxlen= 12, padding= \"pre\")\n",
        "\n",
        "  #padding for sub class\n",
        "  if(pad_post):\n",
        "    train_doc_padded = pad_sequences(train_doc_padded, maxlen= 11+1, padding= \"post\")\n",
        "\n",
        " \n",
        "  if not answer:\n",
        "    return tokenizer_doc,train_doc_padded,vocab_size_doc,max_length_doc\n",
        "\n",
        "  ''' \n",
        "\n",
        "    Preprocessing for Answers\n",
        "  \n",
        "  '''\n",
        "  #convert to lower case\n",
        "  df_train[\"lower_text_ans\"]= df_train.answer.map(lambda x: x.lower())\n",
        "\n",
        "  #word tokanize\n",
        "  df_train[\"tokenized_ans\"]= df_train.lower_text_ans.map(nltk.word_tokenize)\n",
        "\n",
        "  #remove stop words\n",
        "  stop= stopwords.words(\"english\")\n",
        "  stop_punc= list(set(punctuation))+ stop\n",
        "\n",
        "  df_train[\"selected_ans\"]= df_train.tokenized_ans.map(lambda df: remove_stop(df, stop_punc))\n",
        "\n",
        "\n",
        "  #stemming\n",
        "  stemmer= PorterStemmer()\n",
        "\n",
        "  df_train[\"stemmed_ans\"]= df_train.selected_ans.map(lambda xs: [stemmer.stem(x) for x in xs])\n",
        "  df_train[\"normalized_ans\"]= df_train.stemmed_ans.apply(normalize)\n",
        "\n",
        "\n",
        "  #Tokenize with tensorflow\n",
        "  tokenizer_ans= Tokenizer(num_words= 10000)\n",
        "  tokenizer_ans.fit_on_texts(df_train.normalized_ans)\n",
        "\n",
        "  tokenized_ans_train= tokenizer_ans.texts_to_sequences(df_train.normalized_ans)\n",
        "\n",
        "  vocab_size_ans = tokenizer_ans.word_index.keys().__len__() +1\n",
        "  max_length_ans = len(max(tokenized_ans_train, key=len))\n",
        "\n",
        "  #padding\n",
        "  train_ans_padded= pad_sequences(tokenized_ans_train, maxlen= max_length_doc, padding= \"pre\")\n",
        "\n",
        "    \n",
        "  return tokenizer_doc,train_doc_padded,vocab_size_doc,max_length_doc,tokenizer_ans,train_ans_padded,max_length_ans,vocab_size_ans\n"
      ],
      "metadata": {
        "id": "I-XtqmPtHmd7"
      },
      "execution_count": 13,
      "outputs": []
    },
    {
      "cell_type": "code",
      "source": [
        "df_responder = pd.read_csv('/content/drive/MyDrive/NeuralNetwork2023/Hw04/QA_data.csv', encoding= 'unicode_escape')"
      ],
      "metadata": {
        "id": "dksCi-lwGBjx"
      },
      "execution_count": 14,
      "outputs": []
    },
    {
      "cell_type": "code",
      "source": [
        "tokenizer_doc,\\\n",
        "train_doc,\\\n",
        "vocab_size_doc,\\\n",
        "max_len_doc,\\\n",
        "tokenizer_ans,train_ans,\\\n",
        "max_len_ans ,vocab_size_ans=preprocess_responder(df_responder, True,True)"
      ],
      "metadata": {
        "id": "l9TQe0Q_DvzC"
      },
      "execution_count": 18,
      "outputs": []
    },
    {
      "cell_type": "code",
      "source": [
        "vocab_size_ans"
      ],
      "metadata": {
        "colab": {
          "base_uri": "https://localhost:8080/"
        },
        "id": "TV2crxSFY3_o",
        "outputId": "41ba2ea5-6747-4a01-d010-89cbe753d996"
      },
      "execution_count": 19,
      "outputs": [
        {
          "output_type": "execute_result",
          "data": {
            "text/plain": [
              "781"
            ]
          },
          "metadata": {},
          "execution_count": 19
        }
      ]
    },
    {
      "cell_type": "code",
      "source": [
        "#create a weight matrix for words in training \n",
        "embedding_matrix_responder = np.zeros((vocab_size_doc, 300))\n",
        "for word, i in tokenizer_doc.word_index.items():\n",
        "  embedding_vector = embeddings_index.get(word)\n",
        "  if embedding_vector is not None:\n",
        "    embedding_matrix_responder[i] = embedding_vector"
      ],
      "metadata": {
        "id": "y0z44QaQdBAA"
      },
      "execution_count": 20,
      "outputs": []
    },
    {
      "cell_type": "code",
      "source": [
        "embedding_matrix_responder.shape"
      ],
      "metadata": {
        "colab": {
          "base_uri": "https://localhost:8080/"
        },
        "id": "40_k28l9kHJ5",
        "outputId": "cc4aa6d2-4c62-499e-b987-139391c522e0"
      },
      "execution_count": 21,
      "outputs": [
        {
          "output_type": "execute_result",
          "data": {
            "text/plain": [
              "(958, 300)"
            ]
          },
          "metadata": {},
          "execution_count": 21
        }
      ]
    },
    {
      "cell_type": "code",
      "source": [
        "train_ans.shape"
      ],
      "metadata": {
        "id": "aHu12w_8XLLT",
        "colab": {
          "base_uri": "https://localhost:8080/"
        },
        "outputId": "86c122f4-bde9-4b04-96b1-e370581c8a8a"
      },
      "execution_count": 22,
      "outputs": [
        {
          "output_type": "execute_result",
          "data": {
            "text/plain": [
              "(500, 11)"
            ]
          },
          "metadata": {},
          "execution_count": 22
        }
      ]
    },
    {
      "cell_type": "code",
      "source": [
        "latent_size_1 = 100\n",
        "latent_size_2 = 25\n",
        "\n",
        "#Building the base model\n",
        "input_layer=  Input(shape=(max_len_doc+1,), name = 'input_layer')\n",
        "\n",
        "embedding_layer = Embedding(vocab_size_doc, 300, weights=[embedding_matrix_responder], input_length =max_len_doc+1 ,trainable=False)(input_layer)\n",
        "\n",
        "#Intention Classifier\n",
        "lstm = LSTM(latent_size_1 , return_sequences=True)(embedding_layer)\n",
        "#subclass prediction\n",
        "subclass_h = lstm[:,-1]\n",
        "#mainclass prediction\n",
        "mainclass_h = lstm[:,-2]\n",
        "\n",
        "\n",
        "#Responder\n",
        "responder_states =[mainclass_h, subclass_h,mainclass_h, subclass_h]\n",
        "\n",
        "bidirectional_lstm = Bidirectional(LSTM(latent_size_1, return_sequences=True),                                                         \n",
        "                               merge_mode=\"concat\",\n",
        "                               name=\"responder_lstm\")(embedding_layer[:,:-1], initial_state=responder_states)\n",
        "\n",
        "#Answer prediction\n",
        "outputs = Dense(vocab_size_ans, activation='softmax', name=\"Dense_layer\")(bidirectional_lstm)\n",
        "\n",
        "\n",
        "answer_prediction_model = Model(input_layer, outputs, name=\"Responder\")\n",
        "answer_prediction_model.compile(optimizer='adam',loss='categorical_crossentropy',metrics='accuracy')\n",
        "           \n",
        "\n",
        "answer_prediction_model.summary()\n",
        "\n"
      ],
      "metadata": {
        "colab": {
          "base_uri": "https://localhost:8080/"
        },
        "id": "1-8Ll0Bo4N6E",
        "outputId": "ad6445ce-89bb-4f7a-ea1c-a50eda6a4445"
      },
      "execution_count": 23,
      "outputs": [
        {
          "output_type": "stream",
          "name": "stdout",
          "text": [
            "Model: \"Responder\"\n",
            "__________________________________________________________________________________________________\n",
            " Layer (type)                   Output Shape         Param #     Connected to                     \n",
            "==================================================================================================\n",
            " input_layer (InputLayer)       [(None, 12)]         0           []                               \n",
            "                                                                                                  \n",
            " embedding (Embedding)          (None, 12, 300)      287400      ['input_layer[0][0]']            \n",
            "                                                                                                  \n",
            " lstm (LSTM)                    (None, 12, 100)      160400      ['embedding[0][0]']              \n",
            "                                                                                                  \n",
            " tf.__operators__.getitem_2 (Sl  (None, 11, 300)     0           ['embedding[0][0]']              \n",
            " icingOpLambda)                                                                                   \n",
            "                                                                                                  \n",
            " tf.__operators__.getitem_1 (Sl  (None, 100)         0           ['lstm[0][0]']                   \n",
            " icingOpLambda)                                                                                   \n",
            "                                                                                                  \n",
            " tf.__operators__.getitem (Slic  (None, 100)         0           ['lstm[0][0]']                   \n",
            " ingOpLambda)                                                                                     \n",
            "                                                                                                  \n",
            " responder_lstm (Bidirectional)  (None, 11, 200)     320800      ['tf.__operators__.getitem_2[0][0\n",
            "                                                                 ]',                              \n",
            "                                                                  'tf.__operators__.getitem_1[0][0\n",
            "                                                                 ]',                              \n",
            "                                                                  'tf.__operators__.getitem[0][0]'\n",
            "                                                                 , 'tf.__operators__.getitem_1[0][\n",
            "                                                                 0]',                             \n",
            "                                                                  'tf.__operators__.getitem[0][0]'\n",
            "                                                                 ]                                \n",
            "                                                                                                  \n",
            " Dense_layer (Dense)            (None, 11, 781)      156981      ['responder_lstm[0][0]']         \n",
            "                                                                                                  \n",
            "==================================================================================================\n",
            "Total params: 925,581\n",
            "Trainable params: 638,181\n",
            "Non-trainable params: 287,400\n",
            "__________________________________________________________________________________________________\n"
          ]
        }
      ]
    },
    {
      "cell_type": "code",
      "source": [
        "train_ans_data =[]\n",
        "for sent in train_ans:\n",
        "  temp =[]\n",
        "  for word in sent:\n",
        "    b = np.zeros(vocab_size_ans)\n",
        "    b[int(word)] = 1\n",
        "    temp.append(b)\n",
        "  train_ans_data.append(temp)\n",
        "\n",
        "train_ans_data =np.array(train_ans_data)\n",
        "print(train_ans_data.shape)\n",
        "  "
      ],
      "metadata": {
        "colab": {
          "base_uri": "https://localhost:8080/"
        },
        "id": "ffuX63G4eHwD",
        "outputId": "2c4172ee-dcec-47a3-88bc-3dc98fda520e"
      },
      "execution_count": 24,
      "outputs": [
        {
          "output_type": "stream",
          "name": "stdout",
          "text": [
            "(500, 11, 781)\n"
          ]
        }
      ]
    },
    {
      "cell_type": "code",
      "source": [
        "history_responder = answer_prediction_model.fit(x=train_doc,\n",
        "                      y=train_ans_data,\n",
        "                      epochs=60,\n",
        "                      validation_split=0.2,\n",
        "                      verbose=1)"
      ],
      "metadata": {
        "colab": {
          "base_uri": "https://localhost:8080/"
        },
        "id": "qkoh-kA_cKtf",
        "outputId": "84d8a77e-614a-4d45-fa93-18e2169c5ef2"
      },
      "execution_count": 25,
      "outputs": [
        {
          "output_type": "stream",
          "name": "stdout",
          "text": [
            "Epoch 1/60\n",
            "13/13 [==============================] - 13s 133ms/step - loss: 6.4169 - accuracy: 0.6255 - val_loss: 5.5739 - val_accuracy: 0.7973\n",
            "Epoch 2/60\n",
            "13/13 [==============================] - 0s 15ms/step - loss: 3.4228 - accuracy: 0.8159 - val_loss: 1.7114 - val_accuracy: 0.8091\n",
            "Epoch 3/60\n",
            "13/13 [==============================] - 0s 14ms/step - loss: 1.4821 - accuracy: 0.8218 - val_loss: 1.6515 - val_accuracy: 0.8091\n",
            "Epoch 4/60\n",
            "13/13 [==============================] - 0s 13ms/step - loss: 1.3325 - accuracy: 0.8218 - val_loss: 1.6896 - val_accuracy: 0.8091\n",
            "Epoch 5/60\n",
            "13/13 [==============================] - 0s 15ms/step - loss: 1.2861 - accuracy: 0.8218 - val_loss: 1.7388 - val_accuracy: 0.8091\n",
            "Epoch 6/60\n",
            "13/13 [==============================] - 0s 13ms/step - loss: 1.2604 - accuracy: 0.8218 - val_loss: 1.7543 - val_accuracy: 0.8091\n",
            "Epoch 7/60\n",
            "13/13 [==============================] - 0s 16ms/step - loss: 1.2437 - accuracy: 0.8218 - val_loss: 1.7860 - val_accuracy: 0.8091\n",
            "Epoch 8/60\n",
            "13/13 [==============================] - 0s 17ms/step - loss: 1.2289 - accuracy: 0.8218 - val_loss: 1.7989 - val_accuracy: 0.8091\n",
            "Epoch 9/60\n",
            "13/13 [==============================] - 0s 13ms/step - loss: 1.2149 - accuracy: 0.8218 - val_loss: 1.8220 - val_accuracy: 0.8091\n",
            "Epoch 10/60\n",
            "13/13 [==============================] - 0s 15ms/step - loss: 1.2000 - accuracy: 0.8218 - val_loss: 1.8371 - val_accuracy: 0.8091\n",
            "Epoch 11/60\n",
            "13/13 [==============================] - 0s 13ms/step - loss: 1.1837 - accuracy: 0.8218 - val_loss: 1.8461 - val_accuracy: 0.8091\n",
            "Epoch 12/60\n",
            "13/13 [==============================] - 0s 14ms/step - loss: 1.1675 - accuracy: 0.8220 - val_loss: 1.8604 - val_accuracy: 0.8091\n",
            "Epoch 13/60\n",
            "13/13 [==============================] - 0s 17ms/step - loss: 1.1500 - accuracy: 0.8223 - val_loss: 1.8770 - val_accuracy: 0.8091\n",
            "Epoch 14/60\n",
            "13/13 [==============================] - 0s 14ms/step - loss: 1.1310 - accuracy: 0.8227 - val_loss: 1.8910 - val_accuracy: 0.8091\n",
            "Epoch 15/60\n",
            "13/13 [==============================] - 0s 15ms/step - loss: 1.1135 - accuracy: 0.8236 - val_loss: 1.9084 - val_accuracy: 0.8091\n",
            "Epoch 16/60\n",
            "13/13 [==============================] - 0s 16ms/step - loss: 1.0919 - accuracy: 0.8239 - val_loss: 1.9316 - val_accuracy: 0.8091\n",
            "Epoch 17/60\n",
            "13/13 [==============================] - 0s 13ms/step - loss: 1.0702 - accuracy: 0.8239 - val_loss: 1.9310 - val_accuracy: 0.8091\n",
            "Epoch 18/60\n",
            "13/13 [==============================] - 0s 14ms/step - loss: 1.0480 - accuracy: 0.8245 - val_loss: 1.9466 - val_accuracy: 0.8091\n",
            "Epoch 19/60\n",
            "13/13 [==============================] - 0s 12ms/step - loss: 1.0244 - accuracy: 0.8248 - val_loss: 1.9563 - val_accuracy: 0.8100\n",
            "Epoch 20/60\n",
            "13/13 [==============================] - 0s 16ms/step - loss: 1.0009 - accuracy: 0.8252 - val_loss: 1.9802 - val_accuracy: 0.8100\n",
            "Epoch 21/60\n",
            "13/13 [==============================] - 0s 14ms/step - loss: 0.9761 - accuracy: 0.8257 - val_loss: 2.0041 - val_accuracy: 0.8100\n",
            "Epoch 22/60\n",
            "13/13 [==============================] - 0s 13ms/step - loss: 0.9509 - accuracy: 0.8275 - val_loss: 2.0119 - val_accuracy: 0.8100\n",
            "Epoch 23/60\n",
            "13/13 [==============================] - 0s 17ms/step - loss: 0.9247 - accuracy: 0.8298 - val_loss: 2.0263 - val_accuracy: 0.8100\n",
            "Epoch 24/60\n",
            "13/13 [==============================] - 0s 13ms/step - loss: 0.8981 - accuracy: 0.8325 - val_loss: 2.0315 - val_accuracy: 0.8100\n",
            "Epoch 25/60\n",
            "13/13 [==============================] - 0s 13ms/step - loss: 0.8701 - accuracy: 0.8373 - val_loss: 2.0446 - val_accuracy: 0.8100\n",
            "Epoch 26/60\n",
            "13/13 [==============================] - 0s 14ms/step - loss: 0.8432 - accuracy: 0.8418 - val_loss: 2.0516 - val_accuracy: 0.8091\n",
            "Epoch 27/60\n",
            "13/13 [==============================] - 0s 13ms/step - loss: 0.8194 - accuracy: 0.8523 - val_loss: 2.0706 - val_accuracy: 0.8100\n",
            "Epoch 28/60\n",
            "13/13 [==============================] - 0s 13ms/step - loss: 0.7895 - accuracy: 0.8536 - val_loss: 2.0843 - val_accuracy: 0.8091\n",
            "Epoch 29/60\n",
            "13/13 [==============================] - 0s 17ms/step - loss: 0.7612 - accuracy: 0.8602 - val_loss: 2.0938 - val_accuracy: 0.8091\n",
            "Epoch 30/60\n",
            "13/13 [==============================] - 0s 18ms/step - loss: 0.7359 - accuracy: 0.8680 - val_loss: 2.1123 - val_accuracy: 0.8073\n",
            "Epoch 31/60\n",
            "13/13 [==============================] - 0s 14ms/step - loss: 0.7091 - accuracy: 0.8727 - val_loss: 2.1338 - val_accuracy: 0.8091\n",
            "Epoch 32/60\n",
            "13/13 [==============================] - 0s 17ms/step - loss: 0.6837 - accuracy: 0.8780 - val_loss: 2.1358 - val_accuracy: 0.8055\n",
            "Epoch 33/60\n",
            "13/13 [==============================] - 0s 14ms/step - loss: 0.6593 - accuracy: 0.8859 - val_loss: 2.1520 - val_accuracy: 0.8064\n",
            "Epoch 34/60\n",
            "13/13 [==============================] - 0s 18ms/step - loss: 0.6406 - accuracy: 0.8893 - val_loss: 2.1680 - val_accuracy: 0.8064\n",
            "Epoch 35/60\n",
            "13/13 [==============================] - 0s 15ms/step - loss: 0.6170 - accuracy: 0.8923 - val_loss: 2.1672 - val_accuracy: 0.8036\n",
            "Epoch 36/60\n",
            "13/13 [==============================] - 0s 13ms/step - loss: 0.5936 - accuracy: 0.9032 - val_loss: 2.1808 - val_accuracy: 0.8045\n",
            "Epoch 37/60\n",
            "13/13 [==============================] - 0s 14ms/step - loss: 0.5678 - accuracy: 0.9068 - val_loss: 2.1945 - val_accuracy: 0.8055\n",
            "Epoch 38/60\n",
            "13/13 [==============================] - 0s 17ms/step - loss: 0.5461 - accuracy: 0.9095 - val_loss: 2.2036 - val_accuracy: 0.8055\n",
            "Epoch 39/60\n",
            "13/13 [==============================] - 0s 14ms/step - loss: 0.5272 - accuracy: 0.9152 - val_loss: 2.2091 - val_accuracy: 0.8055\n",
            "Epoch 40/60\n",
            "13/13 [==============================] - 0s 14ms/step - loss: 0.5077 - accuracy: 0.9180 - val_loss: 2.2187 - val_accuracy: 0.8055\n",
            "Epoch 41/60\n",
            "13/13 [==============================] - 0s 14ms/step - loss: 0.4901 - accuracy: 0.9220 - val_loss: 2.2366 - val_accuracy: 0.8055\n",
            "Epoch 42/60\n",
            "13/13 [==============================] - 0s 14ms/step - loss: 0.4771 - accuracy: 0.9223 - val_loss: 2.2464 - val_accuracy: 0.8018\n",
            "Epoch 43/60\n",
            "13/13 [==============================] - 0s 14ms/step - loss: 0.4657 - accuracy: 0.9257 - val_loss: 2.2631 - val_accuracy: 0.8000\n",
            "Epoch 44/60\n",
            "13/13 [==============================] - 0s 15ms/step - loss: 0.4544 - accuracy: 0.9273 - val_loss: 2.2590 - val_accuracy: 0.8045\n",
            "Epoch 45/60\n",
            "13/13 [==============================] - 0s 14ms/step - loss: 0.4368 - accuracy: 0.9293 - val_loss: 2.2927 - val_accuracy: 0.8073\n",
            "Epoch 46/60\n",
            "13/13 [==============================] - 0s 14ms/step - loss: 0.4268 - accuracy: 0.9305 - val_loss: 2.2995 - val_accuracy: 0.8055\n",
            "Epoch 47/60\n",
            "13/13 [==============================] - 0s 13ms/step - loss: 0.4131 - accuracy: 0.9325 - val_loss: 2.3027 - val_accuracy: 0.8064\n",
            "Epoch 48/60\n",
            "13/13 [==============================] - 0s 13ms/step - loss: 0.4030 - accuracy: 0.9352 - val_loss: 2.3139 - val_accuracy: 0.8073\n",
            "Epoch 49/60\n",
            "13/13 [==============================] - 0s 14ms/step - loss: 0.3921 - accuracy: 0.9350 - val_loss: 2.3133 - val_accuracy: 0.8045\n",
            "Epoch 50/60\n",
            "13/13 [==============================] - 0s 14ms/step - loss: 0.3814 - accuracy: 0.9370 - val_loss: 2.3200 - val_accuracy: 0.8045\n",
            "Epoch 51/60\n",
            "13/13 [==============================] - 0s 14ms/step - loss: 0.3719 - accuracy: 0.9382 - val_loss: 2.3240 - val_accuracy: 0.8036\n",
            "Epoch 52/60\n",
            "13/13 [==============================] - 0s 22ms/step - loss: 0.3655 - accuracy: 0.9389 - val_loss: 2.3306 - val_accuracy: 0.8036\n",
            "Epoch 53/60\n",
            "13/13 [==============================] - 0s 20ms/step - loss: 0.3587 - accuracy: 0.9411 - val_loss: 2.3374 - val_accuracy: 0.8009\n",
            "Epoch 54/60\n",
            "13/13 [==============================] - 0s 21ms/step - loss: 0.3503 - accuracy: 0.9416 - val_loss: 2.3491 - val_accuracy: 0.8009\n",
            "Epoch 55/60\n",
            "13/13 [==============================] - 0s 20ms/step - loss: 0.3428 - accuracy: 0.9425 - val_loss: 2.3602 - val_accuracy: 0.8036\n",
            "Epoch 56/60\n",
            "13/13 [==============================] - 0s 22ms/step - loss: 0.3360 - accuracy: 0.9441 - val_loss: 2.3676 - val_accuracy: 0.8036\n",
            "Epoch 57/60\n",
            "13/13 [==============================] - 0s 22ms/step - loss: 0.3303 - accuracy: 0.9457 - val_loss: 2.3670 - val_accuracy: 0.7991\n",
            "Epoch 58/60\n",
            "13/13 [==============================] - 0s 21ms/step - loss: 0.3246 - accuracy: 0.9455 - val_loss: 2.3790 - val_accuracy: 0.7973\n",
            "Epoch 59/60\n",
            "13/13 [==============================] - 0s 20ms/step - loss: 0.3205 - accuracy: 0.9473 - val_loss: 2.3838 - val_accuracy: 0.8018\n",
            "Epoch 60/60\n",
            "13/13 [==============================] - 0s 23ms/step - loss: 0.3133 - accuracy: 0.9489 - val_loss: 2.3929 - val_accuracy: 0.8009\n"
          ]
        }
      ]
    },
    {
      "cell_type": "code",
      "source": [
        "test_questions=['How many people speak French?',\n",
        "           'What day is today?',\n",
        "           'Who will win the war?','Who is Italian first minister?',\n",
        "           'When World War II ended?',\n",
        "           'When Gandhi was assassinated?']"
      ],
      "metadata": {
        "id": "Q9awuRhE76VR"
      },
      "execution_count": 26,
      "outputs": []
    },
    {
      "cell_type": "code",
      "source": [
        "quest_df = pd.DataFrame(data={'text':test_questions})"
      ],
      "metadata": {
        "id": "UeRymP7o-kqi"
      },
      "execution_count": 27,
      "outputs": []
    },
    {
      "cell_type": "code",
      "source": [
        "quest_df"
      ],
      "metadata": {
        "id": "hbZrH3mI-0zY",
        "colab": {
          "base_uri": "https://localhost:8080/",
          "height": 238
        },
        "outputId": "6facafd3-b6ff-47b6-9290-2cf138d7bcb2"
      },
      "execution_count": 28,
      "outputs": [
        {
          "output_type": "execute_result",
          "data": {
            "text/plain": [
              "                             text\n",
              "0   How many people speak French?\n",
              "1              What day is today?\n",
              "2           Who will win the war?\n",
              "3  Who is Italian first minister?\n",
              "4        When World War II ended?\n",
              "5   When Gandhi was assassinated?"
            ],
            "text/html": [
              "\n",
              "  <div id=\"df-f39ff74a-c50e-4170-aed8-7c2e596b6d27\">\n",
              "    <div class=\"colab-df-container\">\n",
              "      <div>\n",
              "<style scoped>\n",
              "    .dataframe tbody tr th:only-of-type {\n",
              "        vertical-align: middle;\n",
              "    }\n",
              "\n",
              "    .dataframe tbody tr th {\n",
              "        vertical-align: top;\n",
              "    }\n",
              "\n",
              "    .dataframe thead th {\n",
              "        text-align: right;\n",
              "    }\n",
              "</style>\n",
              "<table border=\"1\" class=\"dataframe\">\n",
              "  <thead>\n",
              "    <tr style=\"text-align: right;\">\n",
              "      <th></th>\n",
              "      <th>text</th>\n",
              "    </tr>\n",
              "  </thead>\n",
              "  <tbody>\n",
              "    <tr>\n",
              "      <th>0</th>\n",
              "      <td>How many people speak French?</td>\n",
              "    </tr>\n",
              "    <tr>\n",
              "      <th>1</th>\n",
              "      <td>What day is today?</td>\n",
              "    </tr>\n",
              "    <tr>\n",
              "      <th>2</th>\n",
              "      <td>Who will win the war?</td>\n",
              "    </tr>\n",
              "    <tr>\n",
              "      <th>3</th>\n",
              "      <td>Who is Italian first minister?</td>\n",
              "    </tr>\n",
              "    <tr>\n",
              "      <th>4</th>\n",
              "      <td>When World War II ended?</td>\n",
              "    </tr>\n",
              "    <tr>\n",
              "      <th>5</th>\n",
              "      <td>When Gandhi was assassinated?</td>\n",
              "    </tr>\n",
              "  </tbody>\n",
              "</table>\n",
              "</div>\n",
              "      <button class=\"colab-df-convert\" onclick=\"convertToInteractive('df-f39ff74a-c50e-4170-aed8-7c2e596b6d27')\"\n",
              "              title=\"Convert this dataframe to an interactive table.\"\n",
              "              style=\"display:none;\">\n",
              "        \n",
              "  <svg xmlns=\"http://www.w3.org/2000/svg\" height=\"24px\"viewBox=\"0 0 24 24\"\n",
              "       width=\"24px\">\n",
              "    <path d=\"M0 0h24v24H0V0z\" fill=\"none\"/>\n",
              "    <path d=\"M18.56 5.44l.94 2.06.94-2.06 2.06-.94-2.06-.94-.94-2.06-.94 2.06-2.06.94zm-11 1L8.5 8.5l.94-2.06 2.06-.94-2.06-.94L8.5 2.5l-.94 2.06-2.06.94zm10 10l.94 2.06.94-2.06 2.06-.94-2.06-.94-.94-2.06-.94 2.06-2.06.94z\"/><path d=\"M17.41 7.96l-1.37-1.37c-.4-.4-.92-.59-1.43-.59-.52 0-1.04.2-1.43.59L10.3 9.45l-7.72 7.72c-.78.78-.78 2.05 0 2.83L4 21.41c.39.39.9.59 1.41.59.51 0 1.02-.2 1.41-.59l7.78-7.78 2.81-2.81c.8-.78.8-2.07 0-2.86zM5.41 20L4 18.59l7.72-7.72 1.47 1.35L5.41 20z\"/>\n",
              "  </svg>\n",
              "      </button>\n",
              "      \n",
              "  <style>\n",
              "    .colab-df-container {\n",
              "      display:flex;\n",
              "      flex-wrap:wrap;\n",
              "      gap: 12px;\n",
              "    }\n",
              "\n",
              "    .colab-df-convert {\n",
              "      background-color: #E8F0FE;\n",
              "      border: none;\n",
              "      border-radius: 50%;\n",
              "      cursor: pointer;\n",
              "      display: none;\n",
              "      fill: #1967D2;\n",
              "      height: 32px;\n",
              "      padding: 0 0 0 0;\n",
              "      width: 32px;\n",
              "    }\n",
              "\n",
              "    .colab-df-convert:hover {\n",
              "      background-color: #E2EBFA;\n",
              "      box-shadow: 0px 1px 2px rgba(60, 64, 67, 0.3), 0px 1px 3px 1px rgba(60, 64, 67, 0.15);\n",
              "      fill: #174EA6;\n",
              "    }\n",
              "\n",
              "    [theme=dark] .colab-df-convert {\n",
              "      background-color: #3B4455;\n",
              "      fill: #D2E3FC;\n",
              "    }\n",
              "\n",
              "    [theme=dark] .colab-df-convert:hover {\n",
              "      background-color: #434B5C;\n",
              "      box-shadow: 0px 1px 3px 1px rgba(0, 0, 0, 0.15);\n",
              "      filter: drop-shadow(0px 1px 2px rgba(0, 0, 0, 0.3));\n",
              "      fill: #FFFFFF;\n",
              "    }\n",
              "  </style>\n",
              "\n",
              "      <script>\n",
              "        const buttonEl =\n",
              "          document.querySelector('#df-f39ff74a-c50e-4170-aed8-7c2e596b6d27 button.colab-df-convert');\n",
              "        buttonEl.style.display =\n",
              "          google.colab.kernel.accessAllowed ? 'block' : 'none';\n",
              "\n",
              "        async function convertToInteractive(key) {\n",
              "          const element = document.querySelector('#df-f39ff74a-c50e-4170-aed8-7c2e596b6d27');\n",
              "          const dataTable =\n",
              "            await google.colab.kernel.invokeFunction('convertToInteractive',\n",
              "                                                     [key], {});\n",
              "          if (!dataTable) return;\n",
              "\n",
              "          const docLinkHtml = 'Like what you see? Visit the ' +\n",
              "            '<a target=\"_blank\" href=https://colab.research.google.com/notebooks/data_table.ipynb>data table notebook</a>'\n",
              "            + ' to learn more about interactive tables.';\n",
              "          element.innerHTML = '';\n",
              "          dataTable['output_type'] = 'display_data';\n",
              "          await google.colab.output.renderOutput(dataTable, element);\n",
              "          const docLink = document.createElement('div');\n",
              "          docLink.innerHTML = docLinkHtml;\n",
              "          element.appendChild(docLink);\n",
              "        }\n",
              "      </script>\n",
              "    </div>\n",
              "  </div>\n",
              "  "
            ]
          },
          "metadata": {},
          "execution_count": 28
        }
      ]
    },
    {
      "cell_type": "code",
      "source": [
        "tokenizer_que,que_padded,vocab_size_que,max_length_que = preprocess_responder(quest_df, True,False)"
      ],
      "metadata": {
        "id": "WU8DkuZU9prJ"
      },
      "execution_count": 29,
      "outputs": []
    },
    {
      "cell_type": "code",
      "source": [
        "que_padded.shape"
      ],
      "metadata": {
        "colab": {
          "base_uri": "https://localhost:8080/"
        },
        "id": "v52VwUj1-9tH",
        "outputId": "48b216f6-d1e6-46a6-ce0e-8387a7f6f886"
      },
      "execution_count": 30,
      "outputs": [
        {
          "output_type": "execute_result",
          "data": {
            "text/plain": [
              "(6, 12)"
            ]
          },
          "metadata": {},
          "execution_count": 30
        }
      ]
    },
    {
      "cell_type": "code",
      "source": [
        "answer = answer_prediction_model.predict(que_padded)"
      ],
      "metadata": {
        "colab": {
          "base_uri": "https://localhost:8080/"
        },
        "id": "Fa29nEHsd3l4",
        "outputId": "f35de21f-bb6d-4011-cd8b-dfa877367f70"
      },
      "execution_count": 31,
      "outputs": [
        {
          "output_type": "stream",
          "name": "stdout",
          "text": [
            "1/1 [==============================] - 1s 1s/step\n"
          ]
        }
      ]
    },
    {
      "cell_type": "code",
      "source": [
        "answer.shape"
      ],
      "metadata": {
        "colab": {
          "base_uri": "https://localhost:8080/"
        },
        "id": "T73-NWkQ_q9H",
        "outputId": "460b0537-95ee-47ab-c968-ff837a86063e"
      },
      "execution_count": 32,
      "outputs": [
        {
          "output_type": "execute_result",
          "data": {
            "text/plain": [
              "(6, 11, 781)"
            ]
          },
          "metadata": {},
          "execution_count": 32
        }
      ]
    },
    {
      "cell_type": "code",
      "source": [
        "# answer.shape\n",
        "answer__= np.argmax(answer, axis=2)\n",
        "answer__.shape"
      ],
      "metadata": {
        "colab": {
          "base_uri": "https://localhost:8080/"
        },
        "id": "ZehfxWhOf4Hk",
        "outputId": "4a007b91-fd4f-4b4d-c949-227bc7426c77"
      },
      "execution_count": 33,
      "outputs": [
        {
          "output_type": "execute_result",
          "data": {
            "text/plain": [
              "(6, 11)"
            ]
          },
          "metadata": {},
          "execution_count": 33
        }
      ]
    },
    {
      "cell_type": "code",
      "source": [
        "# Creating a reverse dictionary\n",
        "reverse_word_map = dict(map(reversed, tokenizer_ans.word_index.items()))\n",
        "\n",
        "for idi , ans in enumerate(answer__):\n",
        "  \n",
        "  # Function takes a tokenized sentence and returns the words\n",
        "  def sequence_to_text(list_of_indices):\n",
        "      list_of_indices = list_of_indices[list_of_indices != 0]\n",
        "      if list_of_indices.size == 0:\n",
        "        return \"\"\n",
        "      # Looking up words in dictionary\n",
        "      words = [reverse_word_map.get(letter) for letter in list_of_indices]\n",
        "      return(words[0])\n",
        "\n",
        "  # Creating texts \n",
        "  my_texts = list(map(sequence_to_text, ans))\n",
        "  str_list = list(filter(None, my_texts))\n",
        "\n",
        "  print(\"Question: \" , test_questions[idi])\n",
        "  if len(str_list) == 0:\n",
        "    print(\"No Answer\")\n",
        "  else:\n",
        "    print(str_list[0])\n",
        "\n",
        "  print(\"************\")"
      ],
      "metadata": {
        "colab": {
          "base_uri": "https://localhost:8080/"
        },
        "id": "XunhD64w2nTS",
        "outputId": "a5d5d672-8910-4712-c1aa-770b7c7a2592"
      },
      "execution_count": 34,
      "outputs": [
        {
          "output_type": "stream",
          "name": "stdout",
          "text": [
            "Question:  How many people speak French?\n",
            "caffein\n",
            "************\n",
            "Question:  What day is today?\n",
            "9\n",
            "************\n",
            "Question:  Who will win the war?\n",
            "narrow\n",
            "************\n",
            "Question:  Who is Italian first minister?\n",
            "blue\n",
            "************\n",
            "Question:  When World War II ended?\n",
            "dollar\n",
            "************\n",
            "Question:  When Gandhi was assassinated?\n",
            "metal\n",
            "************\n"
          ]
        }
      ]
    },
    {
      "cell_type": "code",
      "source": [
        "reverse_word_map"
      ],
      "metadata": {
        "colab": {
          "base_uri": "https://localhost:8080/"
        },
        "id": "Wv3uDI2k8HOy",
        "outputId": "da24a752-c319-4e10-db23-0085b677fcbc"
      },
      "execution_count": 35,
      "outputs": [
        {
          "output_type": "execute_result",
          "data": {
            "text/plain": [
              "{1: '1',\n",
              " 2: 'mile',\n",
              " 3: 'feet',\n",
              " 4: '7',\n",
              " 5: 'new',\n",
              " 6: 'blood',\n",
              " 7: 'red',\n",
              " 8: 'acid',\n",
              " 9: 'million',\n",
              " 10: '6',\n",
              " 11: 'john',\n",
              " 12: 'damag',\n",
              " 13: 'disord',\n",
              " 14: '3',\n",
              " 15: '5',\n",
              " 16: 'st',\n",
              " 17: 'yellow',\n",
              " 18: 'york',\n",
              " 19: 'june',\n",
              " 20: 'organ',\n",
              " 21: 'sunlight',\n",
              " 22: 'pari',\n",
              " 23: 'roosevelt',\n",
              " 24: '80',\n",
              " 25: '2',\n",
              " 26: 'week',\n",
              " 27: 'substanc',\n",
              " 28: '9',\n",
              " 29: '42',\n",
              " 30: '25',\n",
              " 31: '20',\n",
              " 32: 'year',\n",
              " 33: '60',\n",
              " 34: 'william',\n",
              " 35: 'scale',\n",
              " 36: 'billion',\n",
              " 37: '15',\n",
              " 38: 'brown',\n",
              " 39: 'citi',\n",
              " 40: 'richard',\n",
              " 41: 'mar',\n",
              " 42: 'second',\n",
              " 43: 'infect',\n",
              " 44: 'high',\n",
              " 45: 'pressur',\n",
              " 46: 'measur',\n",
              " 47: 'lung',\n",
              " 48: 'black',\n",
              " 49: '220',\n",
              " 50: 'particl',\n",
              " 51: 'element',\n",
              " 52: 'franklin',\n",
              " 53: 'lb',\n",
              " 54: '1890',\n",
              " 55: '1912',\n",
              " 56: 'edwin',\n",
              " 57: 'life',\n",
              " 58: 'job',\n",
              " 59: 'western',\n",
              " 60: 'mph',\n",
              " 61: 'unit',\n",
              " 62: 'state',\n",
              " 63: 'anim',\n",
              " 64: '1960',\n",
              " 65: '21',\n",
              " 66: 'river',\n",
              " 67: 'muscl',\n",
              " 68: 'insect',\n",
              " 69: '8',\n",
              " 70: 'australian',\n",
              " 71: 'a',\n",
              " 72: 'resist',\n",
              " 73: 'plant',\n",
              " 74: '1945',\n",
              " 75: 'studi',\n",
              " 76: 'carlson',\n",
              " 77: '1908',\n",
              " 78: 'australia',\n",
              " 79: 'jame',\n",
              " 80: 'exercis',\n",
              " 81: 'sputnik',\n",
              " 82: 'white',\n",
              " 83: '90',\n",
              " 84: '1966',\n",
              " 85: 'cancer',\n",
              " 86: 'bone',\n",
              " 87: 'water',\n",
              " 88: '186',\n",
              " 89: '282',\n",
              " 90: 'rate',\n",
              " 91: 'money',\n",
              " 92: 'robert',\n",
              " 93: '4',\n",
              " 94: 'peso',\n",
              " 95: 'jacki',\n",
              " 96: '22',\n",
              " 97: 'month',\n",
              " 98: 'modul',\n",
              " 99: \"'s\",\n",
              " 100: 'metal',\n",
              " 101: 'stomach',\n",
              " 102: 'violet',\n",
              " 103: 'servic',\n",
              " 104: 'south',\n",
              " 105: 'mike',\n",
              " 106: 'electr',\n",
              " 107: 'joint',\n",
              " 108: 'pennsylvania',\n",
              " 109: 'per',\n",
              " 110: 'great',\n",
              " 111: 'grover',\n",
              " 112: 'cleveland',\n",
              " 113: 'mercuri',\n",
              " 114: 'caus',\n",
              " 115: 'nation',\n",
              " 116: 'aeronaut',\n",
              " 117: 'space',\n",
              " 118: 'administr',\n",
              " 119: 'toronto',\n",
              " 120: 'ga',\n",
              " 121: 'chemic',\n",
              " 122: 'reaction',\n",
              " 123: 'loui',\n",
              " 124: 'interest',\n",
              " 125: 'stanislau',\n",
              " 126: 'italian',\n",
              " 127: 'scientist',\n",
              " 128: 'smallest',\n",
              " 129: '1959',\n",
              " 130: '454',\n",
              " 131: 'texa',\n",
              " 132: 'ranger',\n",
              " 133: 'golden',\n",
              " 134: 'wattl',\n",
              " 135: 'reflect',\n",
              " 136: 'development',\n",
              " 137: '65',\n",
              " 138: 'charl',\n",
              " 139: 'lindbergh',\n",
              " 140: 'tungsten',\n",
              " 141: 'jona',\n",
              " 142: 'salk',\n",
              " 143: 'seizur',\n",
              " 144: 'e',\n",
              " 145: 'aldrin',\n",
              " 146: 'jr',\n",
              " 147: 'self',\n",
              " 148: 'contain',\n",
              " 149: 'area',\n",
              " 150: 'mississippi',\n",
              " 151: 'mood',\n",
              " 152: 'swing',\n",
              " 153: 'fatti',\n",
              " 154: 'steve',\n",
              " 155: 'stimul',\n",
              " 156: 'equat',\n",
              " 157: 'orang',\n",
              " 158: 'counti',\n",
              " 159: '40',\n",
              " 160: 'without',\n",
              " 161: 'backbon',\n",
              " 162: '800°c',\n",
              " 163: 'venezuela',\n",
              " 164: '30',\n",
              " 165: 'gram',\n",
              " 166: 'flax',\n",
              " 167: 'nonstick',\n",
              " 168: 'coat',\n",
              " 169: 'antidepress',\n",
              " 170: 'spiritu',\n",
              " 171: 'healer',\n",
              " 172: 'cow',\n",
              " 173: 'rafter',\n",
              " 174: 'fat',\n",
              " 175: '79',\n",
              " 176: 'ghirardelli',\n",
              " 177: 'amphibi',\n",
              " 178: 'wilhelm',\n",
              " 179: 'roentgen',\n",
              " 180: 'joan',\n",
              " 181: 'widespread',\n",
              " 182: 'pain',\n",
              " 183: 'burn',\n",
              " 184: 'cubic',\n",
              " 185: 'centimet',\n",
              " 186: '1977',\n",
              " 187: 'belgrad',\n",
              " 188: 'itali',\n",
              " 189: 'augustin',\n",
              " 190: 'fl',\n",
              " 191: 'claud',\n",
              " 192: 'dukenfield',\n",
              " 193: 'north',\n",
              " 194: 'montana',\n",
              " 195: '16th',\n",
              " 196: 'us',\n",
              " 197: 'presid',\n",
              " 198: 'joey',\n",
              " 199: 'varicos',\n",
              " 200: 'vein',\n",
              " 201: 'face',\n",
              " 202: 'dec',\n",
              " 203: 'bere',\n",
              " 204: '704',\n",
              " 205: '352',\n",
              " 206: '435',\n",
              " 207: 'tokyo',\n",
              " 208: 'leonard',\n",
              " 209: 'bernstein',\n",
              " 210: 'bloomington',\n",
              " 211: 'mn',\n",
              " 212: 'dollar',\n",
              " 213: '630',\n",
              " 214: 'egan',\n",
              " 215: 'prism',\n",
              " 216: '1967',\n",
              " 217: 'nelson',\n",
              " 218: 'mandela',\n",
              " 219: '1913',\n",
              " 220: 'eat',\n",
              " 221: 'harm',\n",
              " 222: 'antibiot',\n",
              " 223: 'jeannett',\n",
              " 224: 'rankin',\n",
              " 225: 'drought',\n",
              " 226: 'spain',\n",
              " 227: 'civil',\n",
              " 228: 'war',\n",
              " 229: 'desktop',\n",
              " 230: 'publish',\n",
              " 231: '800°k',\n",
              " 232: 'harvard',\n",
              " 233: '1636',\n",
              " 234: 'canada',\n",
              " 235: '76',\n",
              " 236: 'bc',\n",
              " 237: 'freez',\n",
              " 238: 'coral',\n",
              " 239: 'coloni',\n",
              " 240: '26',\n",
              " 241: 'game',\n",
              " 242: 'nervou',\n",
              " 243: 'system',\n",
              " 244: 'blais',\n",
              " 245: 'pascal',\n",
              " 246: 'richter',\n",
              " 247: 'jazz',\n",
              " 248: 'compos',\n",
              " 249: 'pianist',\n",
              " 250: 'maricopa',\n",
              " 251: 'one',\n",
              " 252: 'millionth',\n",
              " 253: 'meter',\n",
              " 254: '°c',\n",
              " 255: 'cardin',\n",
              " 256: '1583',\n",
              " 257: 'orovil',\n",
              " 258: 'dam',\n",
              " 259: 'poison',\n",
              " 260: 'acupunctur',\n",
              " 261: '640',\n",
              " 262: 'janet',\n",
              " 263: 'armstrong',\n",
              " 264: 'hibiscu',\n",
              " 265: 'gretchen',\n",
              " 266: '1937',\n",
              " 267: 'calcium',\n",
              " 268: '1939',\n",
              " 269: '68',\n",
              " 270: 'inch',\n",
              " 271: 'shadow',\n",
              " 272: 'christoph',\n",
              " 273: 'columbu',\n",
              " 274: '917',\n",
              " 275: 'buchanan',\n",
              " 276: '100',\n",
              " 277: '000',\n",
              " 278: 'light',\n",
              " 279: 'summer',\n",
              " 280: 'tenni',\n",
              " 281: 'tournament',\n",
              " 282: '076',\n",
              " 283: 'target',\n",
              " 284: 'intens',\n",
              " 285: 'lender',\n",
              " 286: 'take',\n",
              " 287: 'possess',\n",
              " 288: 'properti',\n",
              " 289: 'madrid',\n",
              " 290: 'fault',\n",
              " 291: 'newton',\n",
              " 292: 'defens',\n",
              " 293: 'end',\n",
              " 294: 'cell',\n",
              " 295: 'payment',\n",
              " 296: 'upon',\n",
              " 297: 'leav',\n",
              " 298: 'bullet',\n",
              " 299: 'colleg',\n",
              " 300: 'park',\n",
              " 301: 'md',\n",
              " 302: 'poult',\n",
              " 303: 'polio',\n",
              " 304: 'femur',\n",
              " 305: 'immanuel',\n",
              " 306: 'kant',\n",
              " 307: 'niña',\n",
              " 308: 'pinta',\n",
              " 309: 'santa',\n",
              " 310: 'maria',\n",
              " 311: 'friendship',\n",
              " 312: 'nicotin',\n",
              " 313: 'alkaloid',\n",
              " 314: 'thiamin',\n",
              " 315: 'mari',\n",
              " 316: 'curi',\n",
              " 317: 'solar',\n",
              " 318: 'magnet',\n",
              " 319: 'disturb',\n",
              " 320: '1830',\n",
              " 321: 'chicago',\n",
              " 322: 'sox',\n",
              " 323: 'africa',\n",
              " 324: 'ulaanbaatar',\n",
              " 325: 'engin',\n",
              " 326: 'molecular',\n",
              " 327: 'kansa',\n",
              " 328: 'greater',\n",
              " 329: 'degre',\n",
              " 330: 'chain',\n",
              " 331: 'molecul',\n",
              " 332: 'novemb',\n",
              " 333: 'hawaii',\n",
              " 334: 'aurora',\n",
              " 335: 'boreali',\n",
              " 336: 'iberian',\n",
              " 337: 'peninsula',\n",
              " 338: 'tylenol',\n",
              " 339: 'nevada',\n",
              " 340: 'clara',\n",
              " 341: 'barton',\n",
              " 342: 'quickli',\n",
              " 343: '21st',\n",
              " 344: 'explod',\n",
              " 345: 'star',\n",
              " 346: 'illinoi',\n",
              " 347: 'hampshir',\n",
              " 348: '1840',\n",
              " 349: 'atlant',\n",
              " 350: 'ocean',\n",
              " 351: 'nerv',\n",
              " 352: 'iraq',\n",
              " 353: 'turkey',\n",
              " 354: 'secret',\n",
              " 355: 'write',\n",
              " 356: 'methan',\n",
              " 357: 'ethan',\n",
              " 358: 'justin',\n",
              " 359: 'trudeau',\n",
              " 360: 'napoleon',\n",
              " 361: 'marrow',\n",
              " 362: 'mexico',\n",
              " 363: 'pearl',\n",
              " 364: '88',\n",
              " 365: '93',\n",
              " 366: '10',\n",
              " 367: '1962',\n",
              " 368: 'amount',\n",
              " 369: 'vapor',\n",
              " 370: 'air',\n",
              " 371: 'huntsvil',\n",
              " 372: 'alabama',\n",
              " 373: 'algerian',\n",
              " 374: 'dinar',\n",
              " 375: 'knerr',\n",
              " 376: 'arthur',\n",
              " 377: 'melin',\n",
              " 378: 'hula',\n",
              " 379: 'hoop',\n",
              " 380: 'beef',\n",
              " 381: 'cincinnati',\n",
              " 382: 'invertebr',\n",
              " 383: '1083°c',\n",
              " 384: 'benjamin',\n",
              " 385: 'harrison',\n",
              " 386: '98',\n",
              " 387: '6°f',\n",
              " 388: 'restor',\n",
              " 389: 'normal',\n",
              " 390: 'heart',\n",
              " 391: 'rhythm',\n",
              " 392: 'tree',\n",
              " 393: '1973',\n",
              " 394: 'miles',\n",
              " 395: 'quebec',\n",
              " 396: 'world',\n",
              " 397: 'trade',\n",
              " 398: 'center',\n",
              " 399: 'type',\n",
              " 400: 'noncellular',\n",
              " 401: 'dutch',\n",
              " 402: 'tabl',\n",
              " 403: 'salt',\n",
              " 404: 'spot',\n",
              " 405: '2000',\n",
              " 406: 'flu',\n",
              " 407: 'ozon',\n",
              " 408: '1503',\n",
              " 409: 'jewish',\n",
              " 410: 'mourn',\n",
              " 411: 'rite',\n",
              " 412: 'volt',\n",
              " 413: 'appalachian',\n",
              " 414: 'mountain',\n",
              " 415: 'polym',\n",
              " 416: '189',\n",
              " 417: 'filter',\n",
              " 418: 'fight',\n",
              " 419: 'arizona',\n",
              " 420: 'graham',\n",
              " 421: 'bell',\n",
              " 422: '1867',\n",
              " 423: 'taoiseach',\n",
              " 424: 'amino',\n",
              " 425: 'senat',\n",
              " 426: 'hous',\n",
              " 427: 'repres',\n",
              " 428: 'sonic',\n",
              " 429: 'detect',\n",
              " 430: 'nonmet',\n",
              " 431: 'moon',\n",
              " 432: '343',\n",
              " 433: 'meters',\n",
              " 434: 'cognac',\n",
              " 435: 'holiday',\n",
              " 436: 'love',\n",
              " 437: 'lack',\n",
              " 438: 'pigment',\n",
              " 439: 'data',\n",
              " 440: 'transmiss',\n",
              " 441: 'verrazano',\n",
              " 442: 'narrow',\n",
              " 443: 'bridg',\n",
              " 444: 'live',\n",
              " 445: 'anoth',\n",
              " 446: 'borrow',\n",
              " 447: 'home',\n",
              " 448: 'valu',\n",
              " 449: 'weather',\n",
              " 450: 'climat',\n",
              " 451: '200',\n",
              " 452: 'vision',\n",
              " 453: 'wadlow',\n",
              " 454: 'minneapoli',\n",
              " 455: 'saint',\n",
              " 456: 'paul',\n",
              " 457: 'crayola',\n",
              " 458: 'crayon',\n",
              " 459: 'copper',\n",
              " 460: 'sheet',\n",
              " 461: 'iron',\n",
              " 462: 'frame',\n",
              " 463: 'program',\n",
              " 464: '132',\n",
              " 465: 'hanbok',\n",
              " 466: 'celebr',\n",
              " 467: 'lent',\n",
              " 468: '18',\n",
              " 469: 'robinson',\n",
              " 470: 'sir',\n",
              " 471: 'macdonald',\n",
              " 472: 'trombon',\n",
              " 473: '19',\n",
              " 474: 'two',\n",
              " 475: 'scientolog',\n",
              " 476: 'addi',\n",
              " 477: 'ababa',\n",
              " 478: 'overdos',\n",
              " 479: 'pill',\n",
              " 480: 'iceland',\n",
              " 481: 'amplitud',\n",
              " 482: 'fm',\n",
              " 483: 'frequenc',\n",
              " 484: 'loss',\n",
              " 485: 'nelli',\n",
              " 486: 'taylo',\n",
              " 487: 'ross',\n",
              " 488: 'hallucinogen',\n",
              " 489: 'cactu',\n",
              " 490: 'food',\n",
              " 491: 'tube',\n",
              " 492: 'fluid',\n",
              " 493: 'flow',\n",
              " 494: '1907',\n",
              " 495: 'tx',\n",
              " 496: 'silver',\n",
              " 497: 'deposit',\n",
              " 498: 'glass',\n",
              " 499: 'graduat',\n",
              " 500: 'cap',\n",
              " 501: 'intraven',\n",
              " 502: 'undersea',\n",
              " 503: 'tunnel',\n",
              " 504: 'berlin',\n",
              " 505: 'reduc',\n",
              " 506: 'scar',\n",
              " 507: 'sed',\n",
              " 508: 'anti',\n",
              " 509: 'inflammatori',\n",
              " 510: 'bacteri',\n",
              " 511: 'throat',\n",
              " 512: 'livestock',\n",
              " 513: 'diseas',\n",
              " 514: 'cartograph',\n",
              " 515: 'nativ',\n",
              " 516: 'interbreed',\n",
              " 517: 'blue',\n",
              " 518: 'atmospher',\n",
              " 519: 'postal',\n",
              " 520: '1987',\n",
              " 521: 'charg',\n",
              " 522: 'sun',\n",
              " 523: 'jul',\n",
              " 524: '69',\n",
              " 525: 'georgia',\n",
              " 526: 'carolina',\n",
              " 527: 'dian',\n",
              " 528: 'evan',\n",
              " 529: 'jupit',\n",
              " 530: 'dunleavi',\n",
              " 531: '1922',\n",
              " 532: 'tehran',\n",
              " 533: 'crater',\n",
              " 534: 'lake',\n",
              " 535: 'gener',\n",
              " 536: 'd',\n",
              " 537: 'williamsport',\n",
              " 538: 'pa',\n",
              " 539: 'ident',\n",
              " 540: 'fratern',\n",
              " 541: 'siriu',\n",
              " 542: 'sugar',\n",
              " 543: '1963',\n",
              " 544: 'jaw',\n",
              " 545: '14',\n",
              " 546: 'integr',\n",
              " 547: 'digit',\n",
              " 548: 'network',\n",
              " 549: '£1',\n",
              " 550: '1809',\n",
              " 551: 'galaxi',\n",
              " 552: 'fungu',\n",
              " 553: '1756',\n",
              " 554: 'group',\n",
              " 555: 'welcom',\n",
              " 556: '1947°f',\n",
              " 557: '1600',\n",
              " 558: 'ave',\n",
              " 559: 'hard',\n",
              " 560: 'wheat',\n",
              " 561: 'peach',\n",
              " 562: 'constel',\n",
              " 563: '34',\n",
              " 564: 'pound',\n",
              " 565: 'gallon',\n",
              " 566: 'societi',\n",
              " 567: 'murder',\n",
              " 568: '2014',\n",
              " 569: '24',\n",
              " 570: 'michelangelo',\n",
              " 571: 'caffein',\n",
              " 572: 'cool',\n",
              " 573: 'effect',\n",
              " 574: 'crop',\n",
              " 575: 'rain',\n",
              " 576: '16',\n",
              " 577: 'sep',\n",
              " 578: 'oriol',\n",
              " 579: 'dant',\n",
              " 580: '160',\n",
              " 581: 'mean',\n",
              " 582: 'noth',\n",
              " 583: 'cairn',\n",
              " 584: 'terrier',\n",
              " 585: 'gland',\n",
              " 586: 'goodby',\n",
              " 587: 'pulmonari',\n",
              " 588: 'arteri',\n",
              " 589: 'everi',\n",
              " 590: 'minut',\n",
              " 591: 'vinegar',\n",
              " 592: '465',\n",
              " 593: 'gold',\n",
              " 594: 'cabaret',\n",
              " 595: 'sevastopol',\n",
              " 596: '107',\n",
              " 597: '87',\n",
              " 598: 'real',\n",
              " 599: 'disease',\n",
              " 600: 'bovin',\n",
              " 601: 'spongiform',\n",
              " 602: 'encephalopathi',\n",
              " 603: 'oyster',\n",
              " 604: '1789',\n",
              " 605: 'freshwat',\n",
              " 606: 'habitat',\n",
              " 607: 'moral',\n",
              " 608: 'principl',\n",
              " 609: 'cardiopulmonari',\n",
              " 610: 'resuscit',\n",
              " 611: 'fix',\n",
              " 612: 'sum',\n",
              " 613: 'paid',\n",
              " 614: 'annual',\n",
              " 615: 'lee',\n",
              " 616: 'harvey',\n",
              " 617: 'oswald',\n",
              " 618: 'adam',\n",
              " 619: 'decemb',\n",
              " 620: 'mckinley',\n",
              " 621: 'theodor',\n",
              " 622: 'progress',\n",
              " 623: 'king',\n",
              " 624: 'ludwig',\n",
              " 625: 'ii',\n",
              " 626: 'bavaria',\n",
              " 627: 'antifreez',\n",
              " 628: 'sudden',\n",
              " 629: 'attack',\n",
              " 630: 'anxieti',\n",
              " 631: 'land',\n",
              " 632: 'cub',\n",
              " 633: 'favorit',\n",
              " 634: 'molten',\n",
              " 635: 'inject',\n",
              " 636: 'mold',\n",
              " 637: 'near',\n",
              " 638: 'sighted',\n",
              " 639: 'k2',\n",
              " 640: 'bard',\n",
              " 641: 'osmium',\n",
              " 642: '3rd',\n",
              " 643: 'sunday',\n",
              " 644: '243',\n",
              " 645: 'carbon',\n",
              " 646: 'dioxid',\n",
              " 647: 'maryland',\n",
              " 648: 'border',\n",
              " 649: '1773',\n",
              " 650: 'bodi',\n",
              " 651: 'nixon',\n",
              " 652: 'tobacco',\n",
              " 653: 'harar',\n",
              " 654: 'appl',\n",
              " 655: 'blossom',\n",
              " 656: 'electron',\n",
              " 657: 'compon',\n",
              " 658: 'radioact',\n",
              " 659: 'decay',\n",
              " 660: 'giant',\n",
              " 661: 'wave',\n",
              " 662: 'cornyn',\n",
              " 663: 'woodrow',\n",
              " 664: 'wilson',\n",
              " 665: 'yukon',\n",
              " 666: 'northwest',\n",
              " 667: 'territori',\n",
              " 668: 'spirit',\n",
              " 669: 'deliber',\n",
              " 670: 'kill',\n",
              " 671: 'peopl',\n",
              " 672: 'america',\n",
              " 673: 'lindisfarn',\n",
              " 674: 'priori',\n",
              " 675: 'vibrat',\n",
              " 676: 'earth',\n",
              " 677: 'crust',\n",
              " 678: 'kingda',\n",
              " 679: 'ka',\n",
              " 680: 'six',\n",
              " 681: 'flag',\n",
              " 682: 'adventur',\n",
              " 683: 'protein',\n",
              " 684: 'speed',\n",
              " 685: 'joseph',\n",
              " 686: 'priestley',\n",
              " 687: 'sausag',\n",
              " 688: 'mash',\n",
              " 689: 'potato',\n",
              " 690: 'tiger',\n",
              " 691: 'tower',\n",
              " 692: 'london',\n",
              " 693: 'peari',\n",
              " 694: 'sore',\n",
              " 695: 'dizzi',\n",
              " 696: 'capac',\n",
              " 697: 'jun',\n",
              " 698: 'save',\n",
              " 699: 'soul',\n",
              " 700: 'goldcrest',\n",
              " 701: 'chri',\n",
              " 702: 'haney',\n",
              " 703: 'scott',\n",
              " 704: 'abbott',\n",
              " 705: 'nitrogen',\n",
              " 706: 'oxygen',\n",
              " 707: 'argon',\n",
              " 708: 'china',\n",
              " 709: 'elepha',\n",
              " 710: 'maximu',\n",
              " 711: 'rosalind',\n",
              " 712: 'russel',\n",
              " 713: 'bloodhound',\n",
              " 714: 'mawsynram',\n",
              " 715: 'india',\n",
              " 716: 'toni',\n",
              " 717: 'morrison',\n",
              " 718: '17',\n",
              " 719: 'fala',\n",
              " 720: 'sumo',\n",
              " 721: 'wrestl',\n",
              " 722: 'sodium',\n",
              " 723: 'bicarbon',\n",
              " 724: '1743',\n",
              " 725: '40°',\n",
              " 726: 'f',\n",
              " 727: '1876',\n",
              " 728: 'andrew',\n",
              " 729: 'golf',\n",
              " 730: 'club',\n",
              " 731: 'mental',\n",
              " 732: 'hormon',\n",
              " 733: 'p',\n",
              " 734: 'u',\n",
              " 735: 's',\n",
              " 736: 'h',\n",
              " 737: 'bluebird',\n",
              " 738: 'zion',\n",
              " 739: 'feb',\n",
              " 740: 'palindrom',\n",
              " 741: 'doctor',\n",
              " 742: 'children',\n",
              " 743: 'walmart',\n",
              " 744: 'convert',\n",
              " 745: 'calcul',\n",
              " 746: 'earn',\n",
              " 747: 'pickl',\n",
              " 748: 'flower',\n",
              " 749: 'bud',\n",
              " 750: 'foreign',\n",
              " 751: 'trigger',\n",
              " 752: 'immun',\n",
              " 753: 'respons',\n",
              " 754: 'euro',\n",
              " 755: '32',\n",
              " 756: 'kevlar',\n",
              " 757: 'temperatur',\n",
              " 758: 'franc',\n",
              " 759: 'explor',\n",
              " 760: 'diamond',\n",
              " 761: 'inflamm',\n",
              " 762: 'tiber',\n",
              " 763: 'brain',\n",
              " 764: 'birth',\n",
              " 765: '238',\n",
              " 766: '900',\n",
              " 767: 'natur',\n",
              " 768: 'reservoir',\n",
              " 769: 'freedom',\n",
              " 770: 'fruit',\n",
              " 771: 'pectin',\n",
              " 772: 'varieti',\n",
              " 773: 'score',\n",
              " 774: 'soften',\n",
              " 775: 'wallpap',\n",
              " 776: '84',\n",
              " 777: 'kwacha',\n",
              " 778: '280',\n",
              " 779: 'opal',\n",
              " 780: 'bacterium'}"
            ]
          },
          "metadata": {},
          "execution_count": 35
        }
      ]
    }
  ]
}